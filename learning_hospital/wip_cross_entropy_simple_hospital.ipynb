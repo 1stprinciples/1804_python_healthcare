{
 "cells": [
  {
   "cell_type": "markdown",
   "metadata": {},
   "source": [
    "# Reinforcement learning introduction\n",
    "\n",
    "### RL involves:\n",
    "* Trial and error search\n",
    "* Receiving and maximising reward (often delayed)\n",
    "* Linking state -> action -> reward\n",
    "* Must be able to sense something of their environment\n",
    "* Involves uncertainty in sensing and linking action to reward\n",
    "* Learning -> improved choice of actions over time\n",
    "* All models find a way to balance best predicted action vs. exploration\n",
    "\n",
    "### Elements of RL\n",
    "* *Environment*: all observable and unobservable information relevant to us\n",
    "* *Observation*: sensing the environment\n",
    "* *State*: the perceived (or perceivable) environment \n",
    "* *Agent*: senses environment, decides on action, receives and monitors rewards\n",
    "* *Action*: may be discrete (e.g. turn left) or continuous (accelerator pedal)\n",
    "* *Policy* (how to link state to action; often based on probabilities)\n",
    "* *Reward signal*: aim is to accumulate maximum reward over time\n",
    "* *Value function* of a state: prediction of likely/possible long-term reward\n",
    "* *Q*: prediction of likely/possible long-term reward of an *action*\n",
    "* *Model* (optional): a simulation of the environment\n",
    "\n",
    "### Types of model\n",
    "\n",
    "* *Model-based*: have model of environment (e.g. a board game)\n",
    "* *Model-free*: used when environment not fully known\n",
    "* *Policy-based*: identify best policy directly\n",
    "* *Value-based*: estimate value of a decision\n",
    "* *Off-policy*: can learn from historic data from other agent\n",
    "* *On-policy*: requires active learning from current decisions"
   ]
  },
  {
   "cell_type": "markdown",
   "metadata": {},
   "source": [
    "## Requirements\n",
    "\n",
    "AI-gym: `pip install gym gym[atari]`\n",
    "\n",
    "PyTorch: see https://pytorch.org/get-started/locally/"
   ]
  },
  {
   "cell_type": "markdown",
   "metadata": {},
   "source": [
    "# AI Gym\n",
    "\n",
    "Gym (from OpenAI: https://openai.com/) is a toolkit for developing and comparing reinforcement learning algorithms. It supports teaching agents everything from walking to playing games like Pong or Pinball.\n",
    "\n",
    "https://gym.openai.com/\n",
    "\n",
    "AI gym has a standard interface. An action is transfered with step, and this returns:\n",
    "\n",
    "* *obs*: New observation\n",
    "* *reward*: reward from action\n",
    "* *done*: 'True' if game over\n",
    "* *info*: A dictionary of extra information (game dependent)\n",
    "\n",
    "The syntax is:\n",
    "\n",
    "`obs, reward, done, info = env.step(action)`"
   ]
  },
  {
   "cell_type": "markdown",
   "metadata": {},
   "source": [
    "# Reinforcement Learning\n",
    "\n",
    "*Cross entropy* in neural nets provides probabilities across any number of classifications.\n",
    "\n",
    "*Cross entropy* RL is a model-free policy-based (on-policy) method. It is based on learning from previous best runs. For each observation the nn provides a probability of action to be taken. Use of sampling and probability allows exploration.\n",
    "\n",
    "Method steps:\n",
    "\n",
    "* Play n episodes using current model and environment\n",
    "* Calculate total reward for each episode\n",
    "* Keep best episodes (e.g. top 30%-50%)\n",
    "* Train on best episodes using observations and actions taken\n",
    "* Repeat"
   ]
  },
  {
   "cell_type": "markdown",
   "metadata": {},
   "source": [
    "### Import modules"
   ]
  },
  {
   "cell_type": "code",
   "execution_count": 1,
   "metadata": {},
   "outputs": [],
   "source": [
    "from simpy_envs.env_simple_hospital_bed_1 import HospGym\n",
    "import matplotlib.pyplot as plt\n",
    "import numpy as np\n",
    "import torch\n",
    "import torch.nn as nn\n",
    "import torch.optim as optim"
   ]
  },
  {
   "cell_type": "markdown",
   "metadata": {},
   "source": [
    "### set up variables"
   ]
  },
  {
   "cell_type": "code",
   "execution_count": 2,
   "metadata": {},
   "outputs": [],
   "source": [
    "DISPLAY_GAME = False\n",
    "LEARNING_RATE = 0.003\n",
    "# Simulation duration\n",
    "SIM_DURATION = 365\n",
    "# Time step between actions\n",
    "TIME_STEP = 1.0\n",
    "# Number of episodes to train for\n",
    "TRAINING_EPISODES = 25"
   ]
  },
  {
   "cell_type": "markdown",
   "metadata": {},
   "source": [
    "### The cross-entropy neural net"
   ]
  },
  {
   "cell_type": "code",
   "execution_count": 3,
   "metadata": {},
   "outputs": [],
   "source": [
    "class Net(nn.Module):\n",
    "    \"\"\"\n",
    "    Pytorch neural net using the flexible pytorch nn.Modlule class.\n",
    "    Note: the neural net output is linear. To convert these to probabilities for\n",
    "    each action (sum to 1.0) a SoftMax activation on the final output is \n",
    "    required, but this is applied outside of the net itself, which improves\n",
    "    speed and stability of training.\n",
    "    \n",
    "    Layers in model:\n",
    "    * Input layer (implied, takes the number of observations)\n",
    "    * 48 node layer\n",
    "    * ReLU activation\n",
    "    * 24 node layer\n",
    "    * ReLU activation\n",
    "    * Output layer (size = number of possible actions)\n",
    "    \n",
    "    (A SoftMax layer will be added later)\n",
    "    \"\"\"\n",
    "    \n",
    "    def __init__(self, observation_space, action_space):\n",
    "        \"\"\"Define layers of sequential net\"\"\"\n",
    "        super(Net, self).__init__()\n",
    "        self.net = nn.Sequential(\n",
    "            nn.Linear(observation_space, 48),\n",
    "            nn.ReLU(),\n",
    "            nn.Linear(48, 24),\n",
    "            nn.ReLU(),\n",
    "            nn.Linear(24, action_space)\n",
    "    )\n",
    "\n",
    "    def forward(self, x):\n",
    "        \"\"\"Define forward pass (simple, as using a pre-defined sequential\n",
    "        model)\"\"\"\n",
    "        return self.net(x)"
   ]
  },
  {
   "cell_type": "markdown",
   "metadata": {},
   "source": [
    "### Function to play a single episode"
   ]
  },
  {
   "cell_type": "code",
   "execution_count": 4,
   "metadata": {},
   "outputs": [],
   "source": [
    "def play_episode(sim, model, observation_space):\n",
    "    \"\"\"Play an episode\"\"\"\n",
    "    \n",
    "    # Define softmax layer\n",
    "    sm = nn.Softmax(dim=1) \n",
    "    \n",
    "    # Reset trackers and environment\n",
    "    episode_reward = 0\n",
    "    obs_tracker = []\n",
    "    action_tracker = []\n",
    "    \n",
    "    # Reset environment (returns first observation)\n",
    "    obs = sim.reset()\n",
    "    \n",
    "    # Start time counter for steps in simulation\n",
    "    next_stop = 0\n",
    "        \n",
    "    \n",
    "    # Continue loop until episode complete\n",
    "    while True: \n",
    "        \n",
    "        # Show game step (will slow game, but useful to watch at least once)\n",
    "        if DISPLAY_GAME:\n",
    "            sim.render()\n",
    "            \n",
    "        # Track observations\n",
    "        obs = np.float32(obs)\n",
    "        obs_tracker.append(obs)\n",
    "        \n",
    "        # Get action probability (put obs in Tensor first)\n",
    "        obs = torch.FloatTensor([obs])\n",
    "        act_probs = model(obs)\n",
    "        act_probs = sm(act_probs)\n",
    "        act_probs = act_probs.data.numpy()[0]\n",
    "        \n",
    "        # Get and track action: action sampled based on probability distribution\n",
    "        action = np.random.choice(len(act_probs), p=act_probs)\n",
    "        action_tracker.append(action)\n",
    "        \n",
    "        # Take action\n",
    "        obs, reward, done, info = sim.step(action)\n",
    "        episode_reward += reward\n",
    "        \n",
    "        # Advance simulation ready for next action\n",
    "        if not done:\n",
    "            next_stop += TIME_STEP\n",
    "            sim.env.run(until=next_stop)\n",
    "        \n",
    "        # Break loop if terminal state reached\n",
    "        if done:\n",
    "            break\n",
    "     \n",
    "    # Put results in dictionary\n",
    "    results = {'episode_reward': episode_reward,\n",
    "               'episode_obs': obs_tracker,\n",
    "               'episode_actions': action_tracker}\n",
    "\n",
    "    return results"
   ]
  },
  {
   "cell_type": "markdown",
   "metadata": {},
   "source": [
    "### Function to filter best episodes"
   ]
  },
  {
   "cell_type": "code",
   "execution_count": 5,
   "metadata": {},
   "outputs": [],
   "source": [
    "def filter_episodes(results, percentile_cutoff = 70):\n",
    "    \"\"\"Get best episodes\"\"\"\n",
    "    \n",
    "    # Get episode rewards & define cuttoff\n",
    "    episode_rewards = [episode['episode_reward'] for episode in results]\n",
    "    reward_cutoff = np.percentile(episode_rewards, percentile_cutoff)\n",
    "    \n",
    "    # Get best episode observations and actions\n",
    "    obs = [episode['episode_obs'] for episode in results if \n",
    "           episode['episode_reward'] >= reward_cutoff]\n",
    "    \n",
    "    actions = [episode['episode_actions'] for episode in results if \n",
    "               episode['episode_reward'] >= reward_cutoff]\n",
    "    \n",
    "\n",
    "    # Convert list of observation arrays into a numpy array\n",
    "    obs = np.vstack(obs)\n",
    "    \n",
    "    # Flatten actions list and convert to NumPy\n",
    "    actions = [item for sublist in actions for item in sublist]\n",
    "    actions = np.array(actions)    \n",
    " \n",
    "    return obs, actions"
   ]
  },
  {
   "cell_type": "markdown",
   "metadata": {},
   "source": [
    "### Function to plot results"
   ]
  },
  {
   "cell_type": "code",
   "execution_count": 6,
   "metadata": {},
   "outputs": [],
   "source": [
    "def plot_results(batch, average, best):\n",
    "    \"\"\"Line plot of average and best rewards over time\"\"\"\n",
    "    \n",
    "    plt.plot(batch, average, label='Average batch reward')\n",
    "    plt.plot(batch, best, label='Best batch reward')\n",
    "    plt.xlabel('Batch')\n",
    "    plt.ylabel('Reward')\n",
    "    plt.legend()\n",
    "    plt.show()"
   ]
  },
  {
   "cell_type": "markdown",
   "metadata": {},
   "source": [
    "### Main program\n",
    "\n",
    "The main program:\n",
    "\n",
    "* Sets up model\n",
    "* Continues a loop of playing batches and episodes and training net until goal achieved.\n",
    "    * Play batch of episodes\n",
    "    * Select best episodes\n",
    "    * Train neural net"
   ]
  },
  {
   "cell_type": "code",
   "execution_count": 7,
   "metadata": {},
   "outputs": [],
   "source": [
    "def main():\n",
    "    \n",
    "    ############################## Set up model ################################\n",
    "    \n",
    "    # Set number of episodes to play before slecting best and updating net\n",
    "    episode_batch_size = 10\n",
    "    \n",
    "    # Set up environment\n",
    "    sim = HospGym(sim_duration=SIM_DURATION)\n",
    "    \n",
    "    # Get number of observations from environemt(allows the env to change)\n",
    "    obs_size = sim.observation_size\n",
    "    \n",
    "    # Get number of actins from environemnt\n",
    "    n_actions = sim.action_size\n",
    "    \n",
    "    # Set up Neural Net\n",
    "    model = Net(obs_size, n_actions)\n",
    "    objective = nn.CrossEntropyLoss()\n",
    "    optimizer = optim.Adam(params=model.parameters(), lr=LEARNING_RATE)\n",
    "    \n",
    "    # Play batches of episodes \n",
    "    batch_count = 0\n",
    "    \n",
    "    # Lists to store results\n",
    "    all_results_batch_number = []\n",
    "    all_results_average_reward = []\n",
    "    all_results_maxumum_reward = []\n",
    "    \n",
    "    # Start playing loop and continue until goal performance reached\n",
    "    while True:\n",
    "        \n",
    "        ############## Play batch of epsiodes and select best ##################\n",
    "        \n",
    "        # Play episodes \n",
    "        batch_count += 1\n",
    "        batch_results = []\n",
    "        for episode in range(episode_batch_size):\n",
    "            results = play_episode(sim, model, obs_size)\n",
    "            batch_results.append(results)\n",
    "            \n",
    "        # Get average and maximum reward\n",
    "        rewards = [episode['episode_reward'] for episode in batch_results]\n",
    "        average_reward = np.mean(rewards)\n",
    "        maximum_reward = np.max(rewards)\n",
    "        \n",
    "        # Store results\n",
    "        all_results_batch_number.append(batch_count)\n",
    "        all_results_average_reward.append(average_reward)\n",
    "        all_results_maxumum_reward.append(maximum_reward)\n",
    "        \n",
    "        print (f'\\rBatch {batch_count:3}. Average and best run: ' \\\n",
    "               f'{average_reward:3.1f}, {maximum_reward:3.1f}', end=\"\")\n",
    "        \n",
    "        # Check whether goal reached (and break loop)\n",
    "        if batch_count >= TRAINING_EPISODES:\n",
    "            break\n",
    "        \n",
    "        # Get best runs\n",
    "        training_obs, training_actions = filter_episodes(batch_results)  \n",
    "        training_obs = torch.Tensor(training_obs)\n",
    "        training_actions = torch.Tensor(training_actions).long()\n",
    "        \n",
    "        ########################### Train model ################################\n",
    "        \n",
    "        # Reset model gradients\n",
    "        optimizer.zero_grad()\n",
    "        # Predict actions\n",
    "        action_scores = model(training_obs)\n",
    "        # Calculate loss between predicted and actual actions\n",
    "        loss_v = objective(action_scores, training_actions)\n",
    "        # Back propgate losses\n",
    "        loss_v.backward()\n",
    "        # Update model weights\n",
    "        optimizer.step()\n",
    "        \n",
    "        \n",
    "    # Plot results\n",
    "    plot_results(all_results_batch_number, all_results_average_reward, \n",
    "                 all_results_maxumum_reward)"
   ]
  },
  {
   "cell_type": "code",
   "execution_count": 8,
   "metadata": {},
   "outputs": [
    {
     "name": "stdout",
     "output_type": "stream",
     "text": [
      "Batch  25. Average and best run: -18402.4, -17645.0.0"
     ]
    },
    {
     "data": {
      "image/png": "[encoded data removed]",
      "text/plain": [
       "<Figure size 432x288 with 1 Axes>"
      ]
     },
     "metadata": {
      "needs_background": "light"
     },
     "output_type": "display_data"
    }
   ],
   "source": [
    "main()"
   ]
  }
 ],
 "metadata": {
  "kernelspec": {
   "display_name": "Python 3",
   "language": "python",
   "name": "python3"
  },
  "language_info": {
   "codemirror_mode": {
    "name": "ipython",
    "version": 3
   },
   "file_extension": ".py",
   "mimetype": "text/x-python",
   "name": "python",
   "nbconvert_exporter": "python",
   "pygments_lexer": "ipython3",
   "version": "3.7.6"
  }
 },
 "nbformat": 4,
 "nbformat_minor": 4
}
