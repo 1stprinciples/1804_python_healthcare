{
 "cells": [
  {
   "cell_type": "markdown",
   "metadata": {},
   "source": [
    "# Holoviews basic example"
   ]
  },
  {
   "cell_type": "markdown",
   "metadata": {},
   "source": [
    "This is a very simple of example of producing an interactive visualisation using Holoviews (which calls on Bokeh). These visualisations can be viewed in Jupyter notebooks, or may be saved as a single html page which needs only a web browser to see. Here we show room temperature and humidity, with the plots allowing the choice of which room to show.\n",
    "\n",
    "To create these interactive plots you will need to install pyviz, holoviews and bokeh as described below."
   ]
  },
  {
   "cell_type": "markdown",
   "metadata": {},
   "source": [
    "## Install libraries if needed"
   ]
  },
  {
   "cell_type": "markdown",
   "metadata": {},
   "source": [
    "From terminal run:\n",
    "\n",
    "`conda install -c pyviz holoviews bokeh`\n",
    "\n",
    "`holoviews --install-examples`"
   ]
  },
  {
   "cell_type": "markdown",
   "metadata": {},
   "source": [
    "## Import libraries"
   ]
  },
  {
   "cell_type": "code",
   "execution_count": 1,
   "metadata": {},
   "outputs": [
    {
     "ename": "ModuleNotFoundError",
     "evalue": "No module named 'holoviews'",
     "output_type": "error",
     "traceback": [
      "\u001b[0;31m---------------------------------------------------------------------------\u001b[0m",
      "\u001b[0;31mModuleNotFoundError\u001b[0m                       Traceback (most recent call last)",
      "\u001b[0;32m<ipython-input-1-ede093a02966>\u001b[0m in \u001b[0;36m<module>\u001b[0;34m\u001b[0m\n\u001b[1;32m      1\u001b[0m \u001b[0;32mimport\u001b[0m \u001b[0mnumpy\u001b[0m \u001b[0;32mas\u001b[0m \u001b[0mnp\u001b[0m\u001b[0;34m\u001b[0m\u001b[0;34m\u001b[0m\u001b[0m\n\u001b[1;32m      2\u001b[0m \u001b[0;32mimport\u001b[0m \u001b[0mpandas\u001b[0m \u001b[0;32mas\u001b[0m \u001b[0mpd\u001b[0m\u001b[0;34m\u001b[0m\u001b[0;34m\u001b[0m\u001b[0m\n\u001b[0;32m----> 3\u001b[0;31m \u001b[0;32mimport\u001b[0m \u001b[0mholoviews\u001b[0m \u001b[0;32mas\u001b[0m \u001b[0mhv\u001b[0m\u001b[0;34m\u001b[0m\u001b[0;34m\u001b[0m\u001b[0m\n\u001b[0m\u001b[1;32m      4\u001b[0m \u001b[0;32mimport\u001b[0m \u001b[0mpanel\u001b[0m \u001b[0;32mas\u001b[0m \u001b[0mpn\u001b[0m\u001b[0;34m\u001b[0m\u001b[0;34m\u001b[0m\u001b[0m\n\u001b[1;32m      5\u001b[0m \u001b[0;32mfrom\u001b[0m \u001b[0mholoviews\u001b[0m \u001b[0;32mimport\u001b[0m \u001b[0mopts\u001b[0m\u001b[0;34m\u001b[0m\u001b[0;34m\u001b[0m\u001b[0m\n",
      "\u001b[0;31mModuleNotFoundError\u001b[0m: No module named 'holoviews'"
     ]
    }
   ],
   "source": [
    "import numpy as np\n",
    "import pandas as pd\n",
    "import holoviews as hv\n",
    "import panel as pn\n",
    "from holoviews import opts\n",
    "hv.extension('bokeh')"
   ]
  },
  {
   "cell_type": "markdown",
   "metadata": {},
   "source": [
    "## Create some dummy data"
   ]
  },
  {
   "cell_type": "code",
   "execution_count": null,
   "metadata": {},
   "outputs": [],
   "source": [
    "# Set length of data set to create\n",
    "length = 25\n",
    "\n",
    "# Build strings for location data\n",
    "location1 = ['Window'] * length\n",
    "location2 = ['Porch'] * length\n",
    "location3 = ['Fridge'] * length\n",
    "\n",
    "# Set temperature to normal distribution (mu, sigma, length)\n",
    "temperature1 = np.random.normal(25 ,5, length)\n",
    "temperature2 = np.random.normal(15 ,3, length)\n",
    "temperature3 = np.random.normal(4, 0.5,length)\n",
    "\n",
    "# Set temperature to uniform distribution (min, max, length)\n",
    "humidity1 = np.random.uniform(30, 60, length)\n",
    "humidity2 = np.random.uniform(60, 80, length)\n",
    "humidity3 = np.random.uniform(80, 99, length)\n",
    "\n",
    "# Record mean temperature/humidity (use np.repeat to repeata single value)\n",
    "mean_temp1 = np.repeat(np.mean(temperature1), length)\n",
    "mean_temp2 = np.repeat(np.mean(temperature2), length)\n",
    "mean_temp3 = np.repeat(np.mean(temperature3), length)\n",
    "\n",
    "mean_humidity1 = np.repeat(np.mean(humidity1), length)\n",
    "mean_humidity2 = np.repeat(np.mean(humidity2), length)\n",
    "mean_humidity3 = np.repeat(np.mean(humidity3), length)\n",
    "\n",
    "# Concatenate three sets of data into single list/arrays\n",
    "location = location1 + location2 + location3\n",
    "temperature = np.concatenate((temperature1, temperature2, temperature3))\n",
    "mean_temperature = np.concatenate((mean_temp1, mean_temp2, mean_temp3))\n",
    "humidity = np.concatenate((humidity1, humidity2, humidity3))\n",
    "mean_humidity = np.concatenate((mean_humidity1, mean_humidity2, mean_humidity3))\n",
    "\n",
    "# Create list of days\n",
    "days = list(range(1,length + 1))\n",
    "day = days * 3 # times 3 as there are three locations\n",
    "\n",
    "# Transfer data to pandas DataFrame\n",
    "data = pd.DataFrame()\n",
    "data['day'] = day\n",
    "data['location'] = location\n",
    "data['temperature'] = temperature\n",
    "data['humidity'] = humidity\n",
    "data['mean_temperature'] = mean_temperature\n",
    "data['mean_humidity'] = mean_humidity"
   ]
  },
  {
   "cell_type": "code",
   "execution_count": null,
   "metadata": {},
   "outputs": [],
   "source": [
    "data.head()"
   ]
  },
  {
   "cell_type": "markdown",
   "metadata": {},
   "source": [
    "## Build bar chart"
   ]
  },
  {
   "cell_type": "code",
   "execution_count": null,
   "metadata": {},
   "outputs": [],
   "source": [
    "# Make holoviews data table\n",
    "key_dimensions   = ['location']\n",
    "value_dimensions = ['day', 'temperature', 'humidity', 'mean_temperature', 'mean_humidity']\n",
    "hv_data = hv.Table(data, key_dimensions, value_dimensions)\n",
    "\n",
    "# Build bar charts\n",
    "bars1 = hv_data.to.bars(['day'], ['temperature'])\n",
    "bars2 = hv_data.to.bars(['day'], ['humidity']).opts(color='Red')\n",
    "\n",
    "# Compose plot\n",
    "bar_plot = bars1 + bars2\n",
    "\n",
    "# Show plot (only work in Jupyter notebook)\n",
    "bar_plot"
   ]
  },
  {
   "cell_type": "markdown",
   "metadata": {},
   "source": [
    "## Build scatter chart"
   ]
  },
  {
   "cell_type": "code",
   "execution_count": null,
   "metadata": {},
   "outputs": [],
   "source": [
    "# Build scatter charts\n",
    "scatter1 = hv_data.to.scatter(['day'], ['temperature'])\n",
    "scatter2 = hv_data.to.scatter(['day'], ['humidity']).opts(color='Red')\n",
    "\n",
    "# Compose plot\n",
    "scatter_plot = scatter1 + scatter2\n",
    "\n",
    "# Show plot\n",
    "scatter_plot"
   ]
  },
  {
   "cell_type": "markdown",
   "metadata": {},
   "source": [
    "## Build line chart for mean termperature and humidity"
   ]
  },
  {
   "cell_type": "code",
   "execution_count": null,
   "metadata": {},
   "outputs": [],
   "source": [
    "# Build line charts\n",
    "line1 = hv_data.to.curve(['day'], ['mean_temperature'])\n",
    "line2 = hv_data.to.curve(['day'], ['mean_humidity']).opts(color='r')\n",
    "\n",
    "# Compose plot\n",
    "line_chart = line1 + line2\n",
    "\n",
    "# Show poy\n",
    "line_chart"
   ]
  },
  {
   "cell_type": "markdown",
   "metadata": {},
   "source": [
    "## Combine line and scatter charts"
   ]
  },
  {
   "cell_type": "code",
   "execution_count": null,
   "metadata": {},
   "outputs": [],
   "source": [
    "# Compose plot (* creates overlays of two or more plots)\n",
    "combined_plot = line1 * scatter1 + line2 * scatter2\n",
    "\n",
    "# Show plot\n",
    "combined_plot"
   ]
  },
  {
   "cell_type": "markdown",
   "metadata": {},
   "source": [
    "## Save to html"
   ]
  },
  {
   "cell_type": "code",
   "execution_count": null,
   "metadata": {},
   "outputs": [],
   "source": [
    "hv.save(combined_plot, 'holoviews_example.html')"
   ]
  }
 ],
 "metadata": {
  "kernelspec": {
   "display_name": "Python 3",
   "language": "python",
   "name": "python3"
  },
  "language_info": {
   "codemirror_mode": {
    "name": "ipython",
    "version": 3
   },
   "file_extension": ".py",
   "mimetype": "text/x-python",
   "name": "python",
   "nbconvert_exporter": "python",
   "pygments_lexer": "ipython3",
   "version": "3.7.3"
  }
 },
 "nbformat": 4,
 "nbformat_minor": 4
}
