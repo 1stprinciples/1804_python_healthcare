{
 "cells": [
  {
   "cell_type": "markdown",
   "metadata": {},
   "source": [
    "# Splitting data set into training and test sets using Pandas DataFrames methods\n",
    "\n",
    "Note: this may also be performed using SciKit-Learn train_test_split method, but here we will use native Pandas methods. \n",
    "\n",
    "## Create a DataFrame"
   ]
  },
  {
   "cell_type": "code",
   "execution_count": 1,
   "metadata": {},
   "outputs": [
    {
     "name": "stdout",
     "output_type": "stream",
     "text": [
      "   name  age gender  height  passed\n",
      "0   Sam   22      f    1.64       0\n",
      "1  Bill   34      m    1.85       1\n",
      "2   Bob   18      m    1.70       1\n",
      "3   Ian   34      m    1.75       1\n",
      "4    Jo   76      f    1.63       0\n",
      "5  Anne   54      f    1.79       1\n",
      "6  Carl   21      m    1.70       1\n",
      "7  Toni    8      f    1.68       0\n"
     ]
    }
   ],
   "source": [
    "# Create pandas data frame\n",
    "\n",
    "import pandas as pd\n",
    "\n",
    "name = ['Sam', 'Bill', 'Bob', 'Ian', 'Jo', 'Anne', 'Carl', 'Toni']\n",
    "age = [22, 34, 18, 34, 76, 54, 21, 8]\n",
    "gender = ['f', 'm', 'm', 'm', 'f', 'f', 'm', 'f']\n",
    "height = [1.64, 1.85, 1.70, 1.75, 1.63, 1.79, 1.70, 1.68]\n",
    "passed_physical = [0, 1, 1, 1, 0, 1, 1, 0]\n",
    "\n",
    "people = pd.DataFrame()\n",
    "people['name'] = name\n",
    "people['age'] = age\n",
    "people['gender'] = gender\n",
    "people['height'] = height\n",
    "people['passed'] = passed_physical\n",
    "\n",
    "print(people)"
   ]
  },
  {
   "cell_type": "markdown",
   "metadata": {},
   "source": [
    "## Split training and test sets"
   ]
  },
  {
   "cell_type": "markdown",
   "metadata": {},
   "source": [
    "Here we take a random sample (25%) of rows and remove them from the original data by dropping index values."
   ]
  },
  {
   "cell_type": "code",
   "execution_count": 2,
   "metadata": {},
   "outputs": [
    {
     "name": "stdout",
     "output_type": "stream",
     "text": [
      "Training set\n",
      "   name  age gender  height  passed\n",
      "6  Carl   21      m    1.70       1\n",
      "2   Bob   18      m    1.70       1\n",
      "1  Bill   34      m    1.85       1\n",
      "7  Toni    8      f    1.68       0\n",
      "3   Ian   34      m    1.75       1\n",
      "0   Sam   22      f    1.64       0\n",
      "\n",
      "Test set\n",
      "   name  age gender  height  passed\n",
      "4    Jo   76      f    1.63       0\n",
      "5  Anne   54      f    1.79       1\n",
      "\n",
      "Original DataFrame\n",
      "   name  age gender  height  passed\n",
      "0   Sam   22      f    1.64       0\n",
      "1  Bill   34      m    1.85       1\n",
      "2   Bob   18      m    1.70       1\n",
      "3   Ian   34      m    1.75       1\n",
      "4    Jo   76      f    1.63       0\n",
      "5  Anne   54      f    1.79       1\n",
      "6  Carl   21      m    1.70       1\n",
      "7  Toni    8      f    1.68       0\n"
     ]
    }
   ],
   "source": [
    "# Create a copy of the DataFrame to work from\n",
    "# Omit random state to have different random split each run\n",
    "\n",
    "people_copy = people.copy()\n",
    "train_set = people_copy.sample(frac=0.75, random_state=0)\n",
    "test_set = people_copy.drop(train_set.index)\n",
    "\n",
    "print ('Training set')\n",
    "print (train_set)\n",
    "print ('\\nTest set')\n",
    "print (test_set)\n",
    "print ('\\nOriginal DataFrame')\n",
    "print (people)"
   ]
  },
  {
   "cell_type": "markdown",
   "metadata": {},
   "source": [
    "## Use 'pop' to extract the label\n",
    "\n",
    "'Pop' will remove a column from the DataFrame, and transfer it to a new variable."
   ]
  },
  {
   "cell_type": "code",
   "execution_count": 3,
   "metadata": {},
   "outputs": [],
   "source": [
    "train_set_labels = train_set.pop('passed')\n",
    "test_set_labels = test_set.pop('passed')"
   ]
  },
  {
   "cell_type": "code",
   "execution_count": 4,
   "metadata": {},
   "outputs": [
    {
     "name": "stdout",
     "output_type": "stream",
     "text": [
      "Training set\n",
      "   name  age gender  height\n",
      "6  Carl   21      m    1.70\n",
      "2   Bob   18      m    1.70\n",
      "1  Bill   34      m    1.85\n",
      "7  Toni    8      f    1.68\n",
      "3   Ian   34      m    1.75\n",
      "0   Sam   22      f    1.64\n",
      "\n",
      "Training set label (y)\n",
      "6    1\n",
      "2    1\n",
      "1    1\n",
      "7    0\n",
      "3    1\n",
      "0    0\n",
      "Name: passed, dtype: int64\n"
     ]
    }
   ],
   "source": [
    "print ('Training set')\n",
    "print (train_set)\n",
    "print ('\\nTraining set label (y)')\n",
    "print (train_set_labels)"
   ]
  },
  {
   "cell_type": "code",
   "execution_count": null,
   "metadata": {},
   "outputs": [],
   "source": []
  }
 ],
 "metadata": {
  "kernelspec": {
   "display_name": "Python 3",
   "language": "python",
   "name": "python3"
  },
  "language_info": {
   "codemirror_mode": {
    "name": "ipython",
    "version": 3
   },
   "file_extension": ".py",
   "mimetype": "text/x-python",
   "name": "python",
   "nbconvert_exporter": "python",
   "pygments_lexer": "ipython3",
   "version": "3.7.1"
  }
 },
 "nbformat": 4,
 "nbformat_minor": 2
}
