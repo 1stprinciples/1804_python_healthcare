{
 "cells": [
  {
   "cell_type": "markdown",
   "metadata": {},
   "source": [
    "# Speed up Python by 1,000 times or more using numba!\n",
    "\n",
    "Functions written in pure Python or NumPy may be speeded up by using the numba library and using the decorator @jit before a function. This is especially useful for loops where Python will normally compile to machine code (the language the CPU understands) for each iteration of the loop. Using numba the loop is compiled into machine code just once the first time it is called.\n",
    "\n",
    "Let’s look at an example:"
   ]
  },
  {
   "cell_type": "code",
   "execution_count": 1,
   "metadata": {},
   "outputs": [
    {
     "name": "stdout",
     "output_type": "stream",
     "text": [
      "Milliseconds without numba: 183.035\n",
      "Milliseconds with numba: 0.026\n"
     ]
    }
   ],
   "source": [
    "from numba import jit\n",
    "import numpy as np\n",
    "import timeit\n",
    "\n",
    "# Define a function normally without using numba\n",
    "\n",
    "def test_without_numba():\n",
    "    for i in np.arange(1000):\n",
    "        x = i ** 0.5\n",
    "        x *= 0.5\n",
    "    \n",
    "# Define a function using numba jit. Using the argument nopython=True gives the\n",
    "# fastest possible run time, but will error if numba cannot precomplile all the\n",
    "# code. Using just @jit will allow the code to mix pre-compiled and normal code\n",
    "# but will not be as fast as possible\n",
    "\n",
    "@jit(nopython=True)\n",
    "def test_with_numba():\n",
    "    for i in np.arange(1000):\n",
    "        x = i ** 0.5\n",
    "        x *= 0.5\n",
    "\n",
    "# Run functions first time without timing (compilation included in first run)\n",
    "test_without_numba()\n",
    "test_with_numba()\n",
    "\n",
    "# Time functions with timeit (100 repeats). \n",
    "# Multiply by 1000 to give milliseconds\n",
    "\n",
    "timed = timeit.timeit(stmt = test_without_numba, number=100) * 1000\n",
    "print ('Milliseconds without numba: %.3f' %timed)\n",
    "\n",
    "timed = timeit.timeit(stmt = test_with_numba, number=100) * 1000\n",
    "print ('Milliseconds with numba: %.3f' %timed)\n"
   ]
  },
  {
   "cell_type": "markdown",
   "metadata": {},
   "source": [
    "We have a 7,000 fold increase in speed!!\n",
    "\n",
    "Note: not all code will be speeded up by numba. Pandas for example are not helped by numba, and using numba will actually slow panda code down a little (because it looks for what can be pre-complied which takes time). So always test numba to see which functions it can speed up (and consider breaking larger functions down into smaller ones so that blocks that can use numba may be separated out).\n",
    "\n",
    "If the default decorator @jit is used, with no other arguments, numba will allow a mix of code that can be pre-compiled with code that can’t. For the fastest execution use @jit(nopython=True), but you may need to break your function down because this mode will error if parts of the function cannot be pre-compiled by numba."
   ]
  }
 ],
 "metadata": {
  "kernelspec": {
   "display_name": "Python 3",
   "language": "python",
   "name": "python3"
  },
  "language_info": {
   "codemirror_mode": {
    "name": "ipython",
    "version": 3
   },
   "file_extension": ".py",
   "mimetype": "text/x-python",
   "name": "python",
   "nbconvert_exporter": "python",
   "pygments_lexer": "ipython3",
   "version": "3.6.5"
  }
 },
 "nbformat": 4,
 "nbformat_minor": 2
}
