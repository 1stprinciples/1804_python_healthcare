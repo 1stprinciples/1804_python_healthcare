{
 "cells": [
  {
   "cell_type": "markdown",
   "metadata": {},
   "source": [
    "# Exploring the best possible trade-off between competing objectives: identifying the Pareto Front\n",
    "\n",
    "When considering optimisation of multiple objectives, the Pareto front is that collection of points where one objective cannot be improved without detriment to another objective*. These points are also called 'non-dominated'. In contrast, points not on the Pareto front, or 'dominated' points represents points where it is possible to improve one or more objectives without loss of performance of another objective. \n",
    "\n",
    "*An example of this type of problem is the planning of emergency department (ED) services. Ideally we all like to be close to an ED, but we also want that ED to be large enough to sustained 24/7 consultant physician presence. So we might for example have two objectives: the proportion of patients living with 30 minutes of an ED, and the proportion of patients who attend an ED with 24/7 consultant presence. The more EDs we have in England the more patients will be within 30 minutes of one, but as we plan for more EDs those EDs get smaller and fewer will be able to sustain 24/7 consultant presence. We may be interested in seeing the nature of the trade-off. We therefore explore lots of potential solutions (i.e. change the number and location of ED departments) and we identify the Pareto frontier.\n",
    "\n",
    "Here we present code to identify points on the Pareto front. We will use an example with just two objectives (as that is easy to visualise) but the Pareto front principle works for any number of simultaneous objectives.\n",
    "\n",
    "First we'll import our required libraries and then set up some dummy data."
   ]
  },
  {
   "cell_type": "code",
   "execution_count": 1,
   "metadata": {},
   "outputs": [],
   "source": [
    "import numpy as np\n",
    "import pandas as pd\n",
    "import matplotlib.pyplot as plt\n",
    "\n",
    "# Some dummy data: Each item has two scores\n",
    "\n",
    "scores = np.array([[97, 23],\n",
    "                  [55, 77],\n",
    "                  [34, 76],\n",
    "                  [80, 60],\n",
    "                  [99,  4],\n",
    "                  [81,  5],\n",
    "                  [ 5, 81],\n",
    "                  [30, 79],\n",
    "                  [15, 80],\n",
    "                  [70, 65],\n",
    "                  [90, 40],\n",
    "                  [40, 30],\n",
    "                  [30, 40],\n",
    "                  [20, 60],\n",
    "                  [60, 50],\n",
    "                  [20, 20],\n",
    "                  [30,  1],\n",
    "                  [60, 40],\n",
    "                  [70, 25],\n",
    "                  [44, 62],\n",
    "                  [55, 55],\n",
    "                  [55, 10],\n",
    "                  [15, 45],\n",
    "                  [83, 22],\n",
    "                  [76, 46],\n",
    "                  [56, 32],\n",
    "                  [45, 55],\n",
    "                  [10, 70],\n",
    "                  [10, 30],\n",
    "                  [79, 50]])"
   ]
  },
  {
   "cell_type": "markdown",
   "metadata": {},
   "source": [
    "And now let's plot that data."
   ]
  },
  {
   "cell_type": "code",
   "execution_count": 2,
   "metadata": {},
   "outputs": [
    {
     "name": "stderr",
     "output_type": "stream",
     "text": [
      "UsageError: Line magic function `%` not found.\n"
     ]
    }
   ],
   "source": [
    "% matplotlib inline\n",
    "\n",
    "x = scores[:, 0]\n",
    "y = scores[:, 1]\n",
    "\n",
    "plt.scatter(x, y)\n",
    "plt.xlabel('Objective A')\n",
    "plt.ylabel('Objective B')\n",
    "plt.show()"
   ]
  },
  {
   "cell_type": "markdown",
   "metadata": {},
   "source": [
    "Now we will define our function to identify those points that are on the Pareto front. We start off by assuming all points are on the Pareto front and then change the status of those that are not on the Pareto front. We use two loops. The outer loop ('i') will loop through all points in order to compare them to all other points (the comparison is made using the inner loop, 'j'). For any given point 'i', if any other point is at least as good in all objectives and is better in one, that point 'i' is known as 'dominated' and is not on the Pareto front. As soon as a better point is found another (point is at least as good in all objectives and is better in one), point i is marked as not on the Pareto front and the inner loop can stop.\n",
    "\n",
    "The function returns the index numbers of points in the original array that are on the Pareto front."
   ]
  },
  {
   "cell_type": "code",
   "execution_count": 18,
   "metadata": {},
   "outputs": [],
   "source": [
    "def identify_pareto(scores):\n",
    "    # Count number of items\n",
    "    population_size = scores.shape[0]\n",
    "    # Create a NumPy index for scores on the pareto front (zero indexed)\n",
    "    population_ids = np.arange(population_size)\n",
    "    # Create a starting list of items on the Pareto front\n",
    "    # All items start off as being labelled as on the Parteo front\n",
    "    pareto_front = np.ones(population_size, dtype=bool)\n",
    "    # Loop through each item. This will then be compared with all other items\n",
    "    for i in range(population_size):\n",
    "        # Loop through all other items\n",
    "        for j in range(population_size):\n",
    "            # Check if our 'i' pint is dominated by out 'j' point\n",
    "            if all(scores[j] >= scores[i]) and any(scores[j] > scores[i]):\n",
    "                # j dominates i. Label 'i' point as not on Pareto front\n",
    "                pareto_front[i] = 0\n",
    "                # Stop further comparisons with 'i' (no more comparisons needed)\n",
    "                break\n",
    "    # Return ids of scenarios on pareto front\n",
    "    return population_ids[pareto_front]"
   ]
  },
  {
   "cell_type": "markdown",
   "metadata": {},
   "source": [
    "We'll now apply the function and print out our Pareto front index numbers and scores."
   ]
  },
  {
   "cell_type": "code",
   "execution_count": 21,
   "metadata": {},
   "outputs": [
    {
     "name": "stdout",
     "output_type": "stream",
     "text": [
      "Pareto front index vales\n",
      "Points on Pareto front: \n",
      " [ 0  1  3  4  6  7  8  9 10]\n",
      "\n",
      "Pareto front scores\n",
      "[[97 23]\n",
      " [55 77]\n",
      " [80 60]\n",
      " [99  4]\n",
      " [ 5 81]\n",
      " [30 79]\n",
      " [15 80]\n",
      " [70 65]\n",
      " [90 40]]\n"
     ]
    }
   ],
   "source": [
    "pareto = identify_pareto(scores)\n",
    "print ('Pareto front index vales')\n",
    "print ('Points on Pareto front: \\n',pareto)\n",
    "\n",
    "pareto_front = scores[pareto]\n",
    "print ('\\nPareto front scores')\n",
    "print (pareto_front)"
   ]
  },
  {
   "cell_type": "markdown",
   "metadata": {},
   "source": [
    "To aid plotting, we'll sort our Pareto front scores in ascending oder of first item. We'll use a Pandas DataFrame to make sorting easy."
   ]
  },
  {
   "cell_type": "code",
   "execution_count": 7,
   "metadata": {},
   "outputs": [],
   "source": [
    "pareto_front_df = pd.DataFrame(pareto_front)\n",
    "pareto_front_df.sort_values(0, inplace=True)\n",
    "pareto_front = pareto_front_df.values"
   ]
  },
  {
   "cell_type": "code",
   "execution_count": 8,
   "metadata": {},
   "outputs": [
    {
     "data": {
      "image/png": "[encoded data removed]",
      "text/plain": [
       "<Figure size 432x288 with 1 Axes>"
      ]
     },
     "metadata": {},
     "output_type": "display_data"
    }
   ],
   "source": [
    "x_all = scores[:, 0]\n",
    "y_all = scores[:, 1]\n",
    "x_pareto = pareto_front[:, 0]\n",
    "y_pareto = pareto_front[:, 1]\n",
    "\n",
    "plt.scatter(x_all, y_all)\n",
    "plt.plot(x_pareto, y_pareto, color='r')\n",
    "plt.xlabel('Objective A')\n",
    "plt.ylabel('Objective B')\n",
    "plt.show()"
   ]
  }
 ],
 "metadata": {
  "kernelspec": {
   "display_name": "Python 3",
   "language": "python",
   "name": "python3"
  },
  "language_info": {
   "codemirror_mode": {
    "name": "ipython",
    "version": 3
   },
   "file_extension": ".py",
   "mimetype": "text/x-python",
   "name": "python",
   "nbconvert_exporter": "python",
   "pygments_lexer": "ipython3",
   "version": "3.8.3"
  }
 },
 "nbformat": 4,
 "nbformat_minor": 4
}
