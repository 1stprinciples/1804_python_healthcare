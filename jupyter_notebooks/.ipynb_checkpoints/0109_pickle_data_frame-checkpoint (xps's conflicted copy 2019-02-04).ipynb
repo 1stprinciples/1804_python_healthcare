{
 "cells": [
  {
   "cell_type": "markdown",
   "metadata": {},
   "source": [
    "# Saving a Panda DataFrame with 'pickle'\n",
    "\n",
    "Sometimes a DataFrame may have content in it that will not save well in text (e.g. csv) format. For example a DataFrame may contain lists, and these will be saved as a text string in a text format.\n",
    "\n",
    "Python has a library (pickle) for saving Python objects intact so that they may saved and loaded without having to generate them again.\n",
    "\n",
    "Pandas has built in 'pckling' capability which makes it very easy to save and load intact dataframes.\n",
    "\n",
    "Let's first generate a dataframe that contains lists."
   ]
  },
  {
   "cell_type": "code",
   "execution_count": 1,
   "metadata": {},
   "outputs": [
    {
     "name": "stdout",
     "output_type": "stream",
     "text": [
      "   name                      favourite_sport\n",
      "0   Bob                [Tennis, Motorsports]\n",
      "1   Sam            [Football, Rugby, Hockey]\n",
      "2    Jo  [Table tennis, Swimming, Athletics]\n",
      "3  Bill                      [Eating cheese]\n"
     ]
    }
   ],
   "source": [
    "import pandas as pd\n",
    "\n",
    "my_df = pd.DataFrame()\n",
    "\n",
    "names = ['Bob', 'Sam', 'Jo', 'Bill']\n",
    "\n",
    "favourite_sports = [['Tennis', 'Motorsports'],\n",
    "                   ['Football', 'Rugby', 'Hockey'],\n",
    "                   ['Table tennis', 'Swimming', 'Athletics'],\n",
    "                   ['Eating cheese']]\n",
    "\n",
    "my_df['name'] = names\n",
    "my_df['favourite_sport'] = favourite_sports\n",
    "\n",
    "print(my_df)"
   ]
  },
  {
   "cell_type": "markdown",
   "metadata": {},
   "source": [
    "## Save and load DataFrame using Pandas built in pickle methods (recommended)"
   ]
  },
  {
   "cell_type": "code",
   "execution_count": 2,
   "metadata": {},
   "outputs": [
    {
     "name": "stdout",
     "output_type": "stream",
     "text": [
      "   name                      favourite_sport\n",
      "0   Bob                [Tennis, Motorsports]\n",
      "1   Sam            [Football, Rugby, Hockey]\n",
      "2    Jo  [Table tennis, Swimming, Athletics]\n",
      "3  Bill                      [Eating cheese]\n"
     ]
    }
   ],
   "source": [
    "# Save DataFrame to pickle object\n",
    "my_df.to_pickle('test_df.p')\n",
    "\n",
    "# Load DataFrame with pickle object\n",
    "test_df_load_1 = pd.read_pickle('test_df.p')\n",
    "\n",
    "print (test_df_load_1)"
   ]
  },
  {
   "cell_type": "markdown",
   "metadata": {},
   "source": [
    "## Save and load DataFrame using standard Python pickle library\n",
    "\n",
    "With DataFrames you will probably always want to use the df.ti_pickle and pd.read_pickle methods for ease. But below is an example of using the Python pickle library - this method can be used with other types of complex Python objects (such as trained machine learning models) as well."
   ]
  },
  {
   "cell_type": "code",
   "execution_count": 8,
   "metadata": {},
   "outputs": [
    {
     "name": "stdout",
     "output_type": "stream",
     "text": [
      "   name                      favourite_sport\n",
      "0   Bob                [Tennis, Motorsports]\n",
      "1   Sam            [Football, Rugby, Hockey]\n",
      "2    Jo  [Table tennis, Swimming, Athletics]\n",
      "3  Bill                      [Eating cheese]\n"
     ]
    }
   ],
   "source": [
    "import pickle\n",
    "\n",
    "# Save using pickle \n",
    "# (the b in rb denotes binary mode which is required for more complex obecjtes)\n",
    "filename = 'pickled_df.p'\n",
    "with open(filename, 'wb') as filehandler:\n",
    "    pickle.dump(my_df, filehandler)\n",
    "\n",
    "# Load using pickle\n",
    "filename = 'pickled_df.p'\n",
    "with open(filename, 'rb') as filehandler: \n",
    "    reloaded_df = pickle.load(filehandler)\n",
    "\n",
    "print (reloaded_df)"
   ]
  }
 ],
 "metadata": {
  "kernelspec": {
   "display_name": "Python 3",
   "language": "python",
   "name": "python3"
  },
  "language_info": {
   "codemirror_mode": {
    "name": "ipython",
    "version": 3
   },
   "file_extension": ".py",
   "mimetype": "text/x-python",
   "name": "python",
   "nbconvert_exporter": "python",
   "pygments_lexer": "ipython3",
   "version": "3.7.2"
  }
 },
 "nbformat": 4,
 "nbformat_minor": 2
}
