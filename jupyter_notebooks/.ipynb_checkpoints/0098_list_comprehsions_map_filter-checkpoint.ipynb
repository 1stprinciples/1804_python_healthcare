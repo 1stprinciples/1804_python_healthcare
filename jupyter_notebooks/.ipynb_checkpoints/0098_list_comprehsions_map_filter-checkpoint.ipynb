{
 "cells": [
  {
   "cell_type": "markdown",
   "metadata": {},
   "source": [
    "# Applying functions to lists, and filtering lists with list comprehensions, map and filter\n",
    "\n",
    "These examples are intended as a reminder of how to use list comprehensions, map and filter. They are not intended ot be an exhaustive tutorial.\n",
    "\n",
    "Let's start with a list of numbers, and we wish to:\n",
    "\n",
    "1) Square all numbers\n",
    "2) Find even numbers\n",
    "3) Square all even numbers\n",
    "\n",
    "That is where list comprehensions, map and filter come in. There is signficiant overlap between these methodolgies, but here they are."
   ]
  },
  {
   "cell_type": "markdown",
   "metadata": {},
   "source": [
    "## Define my list of numbers"
   ]
  },
  {
   "cell_type": "code",
   "execution_count": 2,
   "metadata": {},
   "outputs": [],
   "source": [
    "my_list = [0, 1, 2, 3, 4, 5, 6, 7, 8, 9, 10]"
   ]
  },
  {
   "cell_type": "code",
   "execution_count": null,
   "metadata": {},
   "outputs": [],
   "source": []
  },
  {
   "cell_type": "markdown",
   "metadata": {},
   "source": [
    "## Square numbers with list comprehension"
   ]
  },
  {
   "cell_type": "code",
   "execution_count": null,
   "metadata": {},
   "outputs": [],
   "source": []
  }
 ],
 "metadata": {
  "kernelspec": {
   "display_name": "Python 3",
   "language": "python",
   "name": "python3"
  },
  "language_info": {
   "codemirror_mode": {
    "name": "ipython",
    "version": 3
   },
   "file_extension": ".py",
   "mimetype": "text/x-python",
   "name": "python",
   "nbconvert_exporter": "python",
   "pygments_lexer": "ipython3",
   "version": "3.7.0"
  }
 },
 "nbformat": 4,
 "nbformat_minor": 2
}
