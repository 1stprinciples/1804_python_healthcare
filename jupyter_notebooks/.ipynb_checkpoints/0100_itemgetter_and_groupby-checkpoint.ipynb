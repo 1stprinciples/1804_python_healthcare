{
 "cells": [
  {
   "cell_type": "markdown",
   "metadata": {},
   "source": [
    "# Sorting and grouping dictionary items with itemgetter and groupby\n",
    "\n",
    "Often in data science we might use Pandas to store mixed text and numbers (Pandas then allows easy sorting and grouping), but sometimes you may want to stick to pure Python and use lists of dictionary items. Sorting and sub-grouping of lists of dictionary items may be performed in Python using itemgetter (to help sort) and groupby to sub-group."
   ]
  },
  {
   "cell_type": "markdown",
   "metadata": {},
   "source": [
    "## Sorting lists of dictionary items with itemgetter"
   ]
  },
  {
   "cell_type": "code",
   "execution_count": 1,
   "metadata": {},
   "outputs": [
    {
     "name": "stdout",
     "output_type": "stream",
     "text": [
      "{'born': 1966, 'gender': 'male', 'name': 'Adam'}\n",
      "{'born': 1966, 'gender': 'female', 'name': 'Anne'}\n",
      "{'born': 1966, 'gender': 'male', 'name': 'Bob'}\n",
      "{'born': 1968, 'gender': 'male', 'name': 'Steve'}\n",
      "{'born': 1970, 'gender': 'female', 'name': 'Daisy'}\n",
      "{'born': 1970, 'gender': 'male', 'name': 'John'}\n"
     ]
    }
   ],
   "source": [
    "# Set up a list of dictionary items and add content\n",
    "\n",
    "people = []\n",
    "people.append({'born':1966, 'gender':'male', 'name':'Bob'})\n",
    "people.append({'born':1966, 'gender':'female', 'name':'Anne'})\n",
    "people.append({'born':1966, 'gender':'male', 'name':'Adam'})\n",
    "people.append({'born':1970, 'gender':'male', 'name':'John'})\n",
    "people.append({'born':1970, 'gender':'female', 'name':'Daisy'})\n",
    "people.append({'born': 1968, 'gender':'male', 'name':'Steve'}) \n",
    "\n",
    "# import methodsfrom operator import itemgetter\n",
    "from operator import itemgetter\n",
    "\n",
    "# Sort by 'born' and 'name'\n",
    "people.sort(key=itemgetter('born','name'))\n",
    "\n",
    "# Print out sorted list\n",
    "for item in people:\n",
    "    print(item)"
   ]
  },
  {
   "cell_type": "markdown",
   "metadata": {},
   "source": [
    "## Grouping the sorted list of dictionary items with groupby\n",
    "\n",
    "Note: We must always sort our list of dictionary items in the required order before sub-grouping them."
   ]
  },
  {
   "cell_type": "code",
   "execution_count": 2,
   "metadata": {},
   "outputs": [
    {
     "name": "stdout",
     "output_type": "stream",
     "text": [
      "1966\n",
      "  {'born': 1966, 'gender': 'male', 'name': 'Bob'}\n",
      "  {'born': 1966, 'gender': 'female', 'name': 'Anne'}\n",
      "  {'born': 1966, 'gender': 'male', 'name': 'Adam'}\n",
      "1968\n",
      "  {'born': 1968, 'gender': 'male', 'name': 'Steve'}\n",
      "1970\n",
      "  {'born': 1970, 'gender': 'male', 'name': 'John'}\n",
      "  {'born': 1970, 'gender': 'female', 'name': 'Daisy'}\n"
     ]
    }
   ],
   "source": [
    "# Set up a list of dictionary items and add content\n",
    "\n",
    "people = []\n",
    "people.append({'born':1966, 'gender':'male', 'name':'Bob'})\n",
    "people.append({'born':1966, 'gender':'female', 'name':'Anne'})\n",
    "people.append({'born':1966, 'gender':'male', 'name':'Adam'})\n",
    "people.append({'born':1970, 'gender':'male', 'name':'John'})\n",
    "people.append({'born':1970, 'gender':'female', 'name':'Daisy'})\n",
    "people.append({'born': 1968, 'gender':'male', 'name':'Steve'}) \n",
    "\n",
    "# import methods\n",
    "\n",
    "from operator import itemgetter\n",
    "from itertools import groupby\n",
    "\n",
    "# First sort by required field\n",
    "# Groupby only finds groups that are collected consecutively\n",
    "people.sort(key=itemgetter('born'))\n",
    "\n",
    "# Now iterate through groups (here we will group by the year born)\n",
    "for born, items in groupby(people, key=itemgetter('born')):\n",
    "\tprint (born)\n",
    "\tfor i in items:\n",
    "\t\tprint(' ', i)"
   ]
  }
 ],
 "metadata": {
  "kernelspec": {
   "display_name": "Python 3",
   "language": "python",
   "name": "python3"
  },
  "language_info": {
   "codemirror_mode": {
    "name": "ipython",
    "version": 3
   },
   "file_extension": ".py",
   "mimetype": "text/x-python",
   "name": "python",
   "nbconvert_exporter": "python",
   "pygments_lexer": "ipython3",
   "version": "3.7.0"
  }
 },
 "nbformat": 4,
 "nbformat_minor": 2
}
