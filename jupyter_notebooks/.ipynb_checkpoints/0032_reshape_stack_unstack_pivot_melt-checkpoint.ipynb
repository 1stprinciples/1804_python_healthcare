{
 "cells": [
  {
   "cell_type": "markdown",
   "metadata": {},
   "source": [
    "# Reshaping Pandas data with stack, unstack, pivot and melt\n",
    "\n",
    "Sometimes data is best shaped where the data is in the form of a wide table where the decription is in a column header, and sometimes it is best shaped as as having the data descriptor as a variable within a tall table. Lets look at some examples, begining as usual with creating a dataframe."
   ]
  },
  {
   "cell_type": "code",
   "execution_count": 13,
   "metadata": {},
   "outputs": [],
   "source": [
    "import pandas as pd\n",
    "df = pd.DataFrame()\n",
    "\n",
    "names = ['Gandolf',\n",
    "         'Gimli',\n",
    "         'Frodo',\n",
    "         'Legolas',\n",
    "         'Bilbo',\n",
    "         'Sam',\n",
    "         'Pippin',\n",
    "         'Boromir',\n",
    "         'Aragorn',\n",
    "         'Galadriel',\n",
    "         'Meriadoc']\n",
    "types = ['Wizard',\n",
    "         'Dwarf',\n",
    "         'Hobbit',\n",
    "         'Elf',\n",
    "         'Hobbit',\n",
    "         'Hobbit',\n",
    "         'Hobbit',\n",
    "         'Man',\n",
    "         'Man',\n",
    "         'Elf',\n",
    "         'Hobbit']\n",
    "magic = [10, 1, 4, 6, 4, 2, 0, 0, 2, 9, 0]\n",
    "aggression = [7, 10, 2, 5, 1, 6, 3, 8, 7, 2, 4]\n",
    "stealth = [8, 2, 5, 10, 5, 4 ,5, 3, 9, 10, 6]\n",
    "\n",
    "\n",
    "df['names'] = names\n",
    "df['type'] = types\n",
    "df['magic_power'] = magic\n",
    "df['aggression'] = aggression\n",
    "df['stealth'] = stealth"
   ]
  },
  {
   "cell_type": "markdown",
   "metadata": {},
   "source": [
    "When we look at this table, the data descriptors are columns, and the data table is 'wide'."
   ]
  },
  {
   "cell_type": "code",
   "execution_count": 14,
   "metadata": {},
   "outputs": [
    {
     "name": "stdout",
     "output_type": "stream",
     "text": [
      "        names    type  magic_power  aggression  stealth\n",
      "0     Gandolf  Wizard           10           7        8\n",
      "1       Gimli   Dwarf            1          10        2\n",
      "2       Frodo  Hobbit            4           2        5\n",
      "3     Legolas     Elf            6           5       10\n",
      "4       Bilbo  Hobbit            4           1        5\n",
      "5         Sam  Hobbit            2           6        4\n",
      "6      Pippin  Hobbit            0           3        5\n",
      "7     Boromir     Man            0           8        3\n",
      "8     Aragorn     Man            2           7        9\n",
      "9   Galadriel     Elf            9           2       10\n",
      "10   Meriadoc  Hobbit            0           4        6\n"
     ]
    }
   ],
   "source": [
    "print (df)"
   ]
  },
  {
   "cell_type": "markdown",
   "metadata": {},
   "source": [
    "## Stack and unstack\n",
    "\n",
    "We can convert between the two formats of data with <em>stack</em> and <em>unstack</em>. To convert from a wide table to a tall and skinny, use <em>stack</em>:"
   ]
  },
  {
   "cell_type": "code",
   "execution_count": 15,
   "metadata": {},
   "outputs": [
    {
     "name": "stdout",
     "output_type": "stream",
     "text": [
      "0   names            Gandolf\n",
      "    type              Wizard\n",
      "    magic_power           10\n",
      "    aggression             7\n",
      "    stealth                8\n",
      "1   names              Gimli\n",
      "    type               Dwarf\n",
      "    magic_power            1\n",
      "    aggression            10\n",
      "    stealth                2\n",
      "2   names              Frodo\n",
      "    type              Hobbit\n",
      "    magic_power            4\n",
      "    aggression             2\n",
      "    stealth                5\n",
      "3   names            Legolas\n",
      "    type                 Elf\n",
      "    magic_power            6\n",
      "    aggression             5\n",
      "    stealth               10\n",
      "4   names              Bilbo\n",
      "    type              Hobbit\n",
      "    magic_power            4\n",
      "    aggression             1\n",
      "    stealth                5\n",
      "5   names                Sam\n",
      "    type              Hobbit\n",
      "    magic_power            2\n",
      "    aggression             6\n",
      "    stealth                4\n",
      "6   names             Pippin\n",
      "    type              Hobbit\n",
      "    magic_power            0\n",
      "    aggression             3\n",
      "    stealth                5\n",
      "7   names            Boromir\n",
      "    type                 Man\n",
      "    magic_power            0\n",
      "    aggression             8\n",
      "    stealth                3\n",
      "8   names            Aragorn\n",
      "    type                 Man\n",
      "    magic_power            2\n",
      "    aggression             7\n",
      "    stealth                9\n",
      "9   names          Galadriel\n",
      "    type                 Elf\n",
      "    magic_power            9\n",
      "    aggression             2\n",
      "    stealth               10\n",
      "10  names           Meriadoc\n",
      "    type              Hobbit\n",
      "    magic_power            0\n",
      "    aggression             4\n",
      "    stealth                6\n",
      "dtype: object\n"
     ]
    }
   ],
   "source": [
    "df_stacked = df.stack()\n",
    "print(df_stacked)"
   ]
  },
  {
   "cell_type": "markdown",
   "metadata": {},
   "source": [
    "We can convert back to  wide table with <em>unstack</em>."
   ]
  },
  {
   "cell_type": "code",
   "execution_count": 16,
   "metadata": {},
   "outputs": [
    {
     "name": "stdout",
     "output_type": "stream",
     "text": [
      "        names    type magic_power aggression stealth\n",
      "0     Gandolf  Wizard          10          7       8\n",
      "1       Gimli   Dwarf           1         10       2\n",
      "2       Frodo  Hobbit           4          2       5\n",
      "3     Legolas     Elf           6          5      10\n",
      "4       Bilbo  Hobbit           4          1       5\n",
      "5         Sam  Hobbit           2          6       4\n",
      "6      Pippin  Hobbit           0          3       5\n",
      "7     Boromir     Man           0          8       3\n",
      "8     Aragorn     Man           2          7       9\n",
      "9   Galadriel     Elf           9          2      10\n",
      "10   Meriadoc  Hobbit           0          4       6\n"
     ]
    }
   ],
   "source": [
    "df_unstacked = df_stacked.unstack()\n",
    "print (df_unstacked)"
   ]
  },
  {
   "cell_type": "markdown",
   "metadata": {},
   "source": [
    "## Melt and pivot\n"
   ]
  },
  {
   "cell_type": "code",
   "execution_count": 28,
   "metadata": {},
   "outputs": [
    {
     "name": "stdout",
     "output_type": "stream",
     "text": [
      "       variable      value\n",
      "0         names    Gandolf\n",
      "1         names      Gimli\n",
      "2         names      Frodo\n",
      "3         names    Legolas\n",
      "4         names      Bilbo\n",
      "5         names        Sam\n",
      "6         names     Pippin\n",
      "7         names    Boromir\n",
      "8         names    Aragorn\n",
      "9         names  Galadriel\n",
      "10        names   Meriadoc\n",
      "11         type     Wizard\n",
      "12         type      Dwarf\n",
      "13         type     Hobbit\n",
      "14         type        Elf\n",
      "15         type     Hobbit\n",
      "16         type     Hobbit\n",
      "17         type     Hobbit\n",
      "18         type        Man\n",
      "19         type        Man\n",
      "20         type        Elf\n",
      "21         type     Hobbit\n",
      "22  magic_power         10\n",
      "23  magic_power          1\n",
      "24  magic_power          4\n",
      "25  magic_power          6\n",
      "26  magic_power          4\n",
      "27  magic_power          2\n",
      "28  magic_power          0\n",
      "29  magic_power          0\n",
      "30  magic_power          2\n",
      "31  magic_power          9\n",
      "32  magic_power          0\n"
     ]
    }
   ],
   "source": [
    "unpivoted = df.melt(value_vars=['names','type','magic_power'])\n",
    "print (unpivoted)"
   ]
  },
  {
   "cell_type": "markdown",
   "metadata": {},
   "source": [
    "Or we could use one of the fields, such as 'names' as a new index"
   ]
  },
  {
   "cell_type": "code",
   "execution_count": 31,
   "metadata": {},
   "outputs": [
    {
     "name": "stdout",
     "output_type": "stream",
     "text": [
      "        names     variable   value\n",
      "0     Gandolf         type  Wizard\n",
      "1       Gimli         type   Dwarf\n",
      "2       Frodo         type  Hobbit\n",
      "3     Legolas         type     Elf\n",
      "4       Bilbo         type  Hobbit\n",
      "5         Sam         type  Hobbit\n",
      "6      Pippin         type  Hobbit\n",
      "7     Boromir         type     Man\n",
      "8     Aragorn         type     Man\n",
      "9   Galadriel         type     Elf\n",
      "10   Meriadoc         type  Hobbit\n",
      "11    Gandolf  magic_power      10\n",
      "12      Gimli  magic_power       1\n",
      "13      Frodo  magic_power       4\n",
      "14    Legolas  magic_power       6\n",
      "15      Bilbo  magic_power       4\n",
      "16        Sam  magic_power       2\n",
      "17     Pippin  magic_power       0\n",
      "18    Boromir  magic_power       0\n",
      "19    Aragorn  magic_power       2\n",
      "20  Galadriel  magic_power       9\n",
      "21   Meriadoc  magic_power       0\n"
     ]
    }
   ],
   "source": [
    "unpivoted = df.melt(id_vars=['names'], value_vars=['type','magic_power'])\n",
    "print (unpivoted)"
   ]
  },
  {
   "cell_type": "code",
   "execution_count": null,
   "metadata": {},
   "outputs": [],
   "source": []
  }
 ],
 "metadata": {
  "kernelspec": {
   "display_name": "Python 3",
   "language": "python",
   "name": "python3"
  },
  "language_info": {
   "codemirror_mode": {
    "name": "ipython",
    "version": 3
   },
   "file_extension": ".py",
   "mimetype": "text/x-python",
   "name": "python",
   "nbconvert_exporter": "python",
   "pygments_lexer": "ipython3",
   "version": "3.6.4"
  }
 },
 "nbformat": 4,
 "nbformat_minor": 2
}
