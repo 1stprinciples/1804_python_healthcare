{
 "cells": [
  {
   "cell_type": "markdown",
   "metadata": {},
   "source": [
    "# Genetic Algorithms 2 - a multiple objective genetic algorithm (NSGA-II)\n",
    "\n",
    "If you have not looked at our description of a more simple genetic algorithm, with a single objective, then we advise you to look at that first. The example here will assume some basic understand of genetic algorithms.\n",
    "\n",
    "In our previous example of a genetic algorithm, we looked at a genetic algorithm that optimised a single parameter. But what if we have two or more objectives to optimise?\n",
    "\n",
    "An example in healthcare modelling is in deciding which hospitals should provide a specialist service in order to 1) minimise travel time for patients who need an emergency hospital admission, while 2) ensuring the hospital has sufficient admissions to maintain expertise and a 24/7 service, and 3) and ensuring no hospital is over-loaded with too many admissions.\n",
    "\n",
    "One option when considering multiple objectives is to combine different objectives into a single number. This requires standardising the values in some way and giving them weights for their importance. This can simplify the optimisation problem but may be sensitive to how individual objectives are weighted (if following this approach it will probably be sensible to re-run the algorithm using alternative weighting schemes).\n",
    "\n",
    "## Pareto fronts\n",
    "\n",
    "The approach we will describe here takes an alternative approach and seeks to explicitly investigate the trade-off between different objectives. When one objective cannot be improved without the worsening of another objective we are on what is known as the 'Pareto front'. That is easy to visualise with two objectives, but Pareto fronts exist across any number of objectives - we are on the Pareto front when we cannot improve one objective without necessarily worsening at least one other objective (as shown by the red line in the figure below).\n",
    "\n",
    "![](pareto_2.png)\n",
    "\n",
    "More detail on Parto fronts here:\n",
    "\n",
    "https://pythonhealthcare.org/2018/09/27/93-exploring-the-best-possible-trade-off-between-competing-objectives-identifying-the-pareto-front/\n",
    "\n",
    "## NSGA-II\n",
    "\n",
    "The algorithm implemented here is based on an algorithm called 'NSGA-II'. This was published by Deb et al.\n",
    "\n",
    "*Deb et al. (2002) A Fast and Elitist Multiobjective Genetic Algorithm: NSGA-II. IEEE Transactions on Evolutionary Computation. 6, 182-197.*\n",
    "\n",
    "With NSGA-II we maintain a population of a given size (in the original paper that is fixed; in our implementation we define a range - the population must be larger than a minimum size, but not exceed a given maximum size.\n",
    "\n",
    "The key process steps of NSGA-II are:\n",
    "\n",
    "1) Start with a random population of solutions (P), encoded in binary form ('chromosomes')\n",
    "2) Create a child population (Q) through crossover and mutation\n",
    "3) Combine P & Q and score for all objectives\n",
    "4) Identify the first Pareto front (F1); that is all solutions where there are no other solutions that are at least equally good in all objectives and better in at least one objective\n",
    "5) If F1 is larger than the maximum permitted solution then reduce the size of F1 by 'crowding selection' (see below).\n",
    "6) If F1 is smaller than the required population size then repeat Pareto selection (after removal of selected already selected). This new set of solutions is F2. If the total number selected solutions is greater than the permitted maximum population size then reduce the size of just the latest selection (in this case F2) so that the number of all selected solutions is equal to the maximum permitted population size.\n",
    "7) Repeat Pareto selection until the required population size is reached (and then reduce the last selected Pareto front by 'crowding selection' as required to avoid exceeding the maximum permitted population size).\n",
    "8) The selected Pareto fronts for the new population, P.\n",
    "9) Repeat from (2) for the required number of generations or until some other 'stop' criterion is reached.\n",
    "10) Perform a final Pareto selection so that the final reported population are just those on the first Pareto front.\n",
    "\n",
    "A minimum population size is required to maintain diversity of solutions. If we only selected the first Pareto front we may have a very small population which would lack the diversity required to reach good final solutions. \n",
    "\n",
    "This process is shown diagramtically below:"
   ]
  },
  {
   "cell_type": "markdown",
   "metadata": {},
   "source": [
    "![](nsga.png)\n",
    "(from Deb et al., 2002)"
   ]
  },
  {
   "cell_type": "markdown",
   "metadata": {},
   "source": [
    "## Crowding distances/selection\n",
    "\n",
    "When we are using a Pareto front to select solutions (as described here), all solutions are on the optimal front, that is in each solution there is no other solution that is at least as good in all scores, and better in at least one score. We therefore cannot rank solutions by performance. In order to select solutions, if we need to control the number of solutions we are generating we can use ‘crowding distances’. Crowding distances give a measure of closeness in performance to other solutions. The crowding distance is the average distance to its two neighbouring solutions. we will bias the selection of solutions to those with greater distances to neighbouring solutions.\n",
    "\n",
    "We will use a 'tournament' method to select between two individual solutions. The crowding distances are calculated for all solutions. Two solutions are picked at random and the one with the greater crowding distance will be selected (with the unselected solution being returned back). This process is repeated until the require number of solutions have been selected.\n",
    "\n",
    "An example is shown below - by using crowding distances we have reduced the number of points in densley packed regions by more than in the sparsely populated areas.\n",
    "\n",
    "![](crowding.png)\n",
    "\n",
    "More on croding distances here:\n",
    "\n",
    "https://pythonhealthcare.org/2018/10/06/95-when-too-many-multi-objective-solutions-exist-selecting-solutions-based-on-crowding-distances/"
   ]
  },
  {
   "cell_type": "markdown",
   "metadata": {},
   "source": [
    "# The Code\n",
    "\n",
    "We will break the code down into sections and functions.\n",
    "\n",
    "To enale easier visualisation we will look to identify a Pareto population based on two competing objectives. But all the code will work on as many objectives as you wish (though it is not recommended to try to optimise more than five objectives)."
   ]
  },
  {
   "cell_type": "markdown",
   "metadata": {},
   "source": [
    "## Import required libraries"
   ]
  },
  {
   "cell_type": "code",
   "execution_count": 1,
   "metadata": {},
   "outputs": [],
   "source": [
    "import random as rn\n",
    "import numpy as np\n",
    "import matplotlib.pyplot as plt\n",
    "# For use in Jupyter notebooks only:\n",
    "% matplotlib inline"
   ]
  },
  {
   "cell_type": "markdown",
   "metadata": {},
   "source": [
    "## Create reference solutions\n",
    "\n",
    "In this example we will pick the easiest example possible. We will create two reference chromosomes as 'ideal solutions'. This function may be used to create more references to mimic optimising against more than two objectives.\n",
    "\n",
    "We will pick a chromosome length of 25 (this mimics solutions that would be coded as 25 binary 'genes'). \n",
    "\n",
    "In real life this binary representation would lead to better or worse solutions. We might, for example, use the binary notation to denote open/closed hospitals in a location problem. Or any number of binary digits might be used to encode the value of a variable."
   ]
  },
  {
   "cell_type": "code",
   "execution_count": 2,
   "metadata": {},
   "outputs": [],
   "source": [
    "def create_reference_solutions(chromosome_length, solutions):\n",
    "    \"\"\"\n",
    "    Function to create reference chromosomes that will mimic an ideal solution \n",
    "    \"\"\"\n",
    "    references = np.zeros((solutions, chromosome_length))\n",
    "    number_of_ones = int(chromosome_length / 2)\n",
    "    \n",
    "    for solution in range(solutions):\n",
    "        # Build an array with an equal mix of zero and ones\n",
    "        reference = np.zeros(chromosome_length)\n",
    "        reference[0: number_of_ones] = 1\n",
    "    \n",
    "        # Shuffle the array to mix the zeros and ones\n",
    "        np.random.shuffle(reference)\n",
    "        references[solution,:] = reference\n",
    "    \n",
    "    return references"
   ]
  },
  {
   "cell_type": "markdown",
   "metadata": {},
   "source": [
    "Show an example set of reference solutions:"
   ]
  },
  {
   "cell_type": "code",
   "execution_count": 3,
   "metadata": {},
   "outputs": [
    {
     "name": "stdout",
     "output_type": "stream",
     "text": [
      "[[0. 1. 0. 1. 0. 0. 1. 1. 0. 1. 1. 1. 0. 0. 0. 1. 0. 0. 0. 0. 1. 1. 1. 1.\n",
      "  0.]\n",
      " [0. 1. 0. 1. 0. 0. 0. 1. 0. 0. 1. 0. 1. 1. 0. 1. 1. 1. 0. 0. 1. 0. 1. 1.\n",
      "  0.]]\n"
     ]
    }
   ],
   "source": [
    "print (create_reference_solutions(25, 2))"
   ]
  },
  {
   "cell_type": "markdown",
   "metadata": {},
   "source": [
    "## Evaluating solutions\n",
    "\n",
    "Normally this section of the code would be more complex - it decodes the chromosome and applies it to a problem, and assesses the performance. For example we might use the chromosome to store whether hospitals are open/closed and then a piece of code will test travel distances for all patients to the open hospitals, and will also calculate the number of admissions to each hospital. \n",
    "\n",
    "In our 'toy' example here we will simply calculate how many binary digits in each solution are the same as our two reference solutions (so we will have two scores for each solution).\n",
    "\n",
    "We have two functions. The first will calculate the score ('fitness') against a single reference. The second will loop through all references (equivalent to all objectives) and call for the score/fitness to be calculated."
   ]
  },
  {
   "cell_type": "code",
   "execution_count": 4,
   "metadata": {},
   "outputs": [],
   "source": [
    "def calculate_fitness(reference, population):\n",
    "    \"\"\"\n",
    "    Calculate how many binary digits in each solution are the same as our \n",
    "    reference solution.\n",
    "    \"\"\"\n",
    "    # Create an array of True/False compared to reference\n",
    "    identical_to_reference = population == reference\n",
    "    # Sum number of genes that are identical to the reference\n",
    "    fitness_scores = identical_to_reference.sum(axis=1)\n",
    "    \n",
    "    return fitness_scores"
   ]
  },
  {
   "cell_type": "code",
   "execution_count": 5,
   "metadata": {},
   "outputs": [],
   "source": [
    "def score_population(population, references):\n",
    "    \"\"\"\n",
    "    Loop through all reference solutoins and request score/fitness of\n",
    "    populaiton against that reference solution.\n",
    "    \"\"\"\n",
    "    scores = np.zeros((population.shape[0], references.shape[0]))\n",
    "    for i, reference in enumerate(references):\n",
    "        scores[:,i] = calculate_fitness(reference, population)\n",
    "        \n",
    "    return scores "
   ]
  },
  {
   "cell_type": "markdown",
   "metadata": {},
   "source": [
    "## Calculate crowding and select a population based on crowding scores\n",
    "\n",
    "We have two functions here. The first to calculate the crowding of a population, based on similarity of scores. The second is a Tournament selection method that uses those crowding scores to pick a given number of solutions from a population. "
   ]
  },
  {
   "cell_type": "code",
   "execution_count": 6,
   "metadata": {},
   "outputs": [],
   "source": [
    "def calculate_crowding(scores):\n",
    "    \"\"\"\n",
    "    Crowding is based on a vector for each individual\n",
    "    All scores are normalised between low and high. For any one score, all\n",
    "    solutions are sorted in order low to high. Crowding for chromsome x\n",
    "    for that score is the difference between the next highest and next\n",
    "    lowest score. Total crowding value sums all crowding for all scores\n",
    "    \"\"\"\n",
    "    \n",
    "    population_size = len(scores[:, 0])\n",
    "    number_of_scores = len(scores[0, :])\n",
    "\n",
    "    # create crowding matrix of population (row) and score (column)\n",
    "    crowding_matrix = np.zeros((population_size, number_of_scores))\n",
    "\n",
    "    # normalise scores (ptp is max-min)\n",
    "    normed_scores = (scores - scores.min(0)) / scores.ptp(0)\n",
    "\n",
    "    # calculate crowding distance for each score in turn\n",
    "    for col in range(number_of_scores):\n",
    "        crowding = np.zeros(population_size)\n",
    "\n",
    "        # end points have maximum crowding\n",
    "        crowding[0] = 1\n",
    "        crowding[population_size - 1] = 1\n",
    "\n",
    "        # Sort each score (to calculate crowding between adjacent scores)\n",
    "        sorted_scores = np.sort(normed_scores[:, col])\n",
    "\n",
    "        sorted_scores_index = np.argsort(\n",
    "            normed_scores[:, col])\n",
    "\n",
    "        # Calculate crowding distance for each individual\n",
    "        crowding[1:population_size - 1] = \\\n",
    "            (sorted_scores[2:population_size] -\n",
    "             sorted_scores[0:population_size - 2])\n",
    "\n",
    "        # resort to orginal order (two steps)\n",
    "        re_sort_order = np.argsort(sorted_scores_index)\n",
    "        sorted_crowding = crowding[re_sort_order]\n",
    "\n",
    "        # Record crowding distances\n",
    "        crowding_matrix[:, col] = sorted_crowding\n",
    "\n",
    "    # Sum croding distances of each score\n",
    "    crowding_distances = np.sum(crowding_matrix, axis=1)\n",
    "\n",
    "    return crowding_distances"
   ]
  },
  {
   "cell_type": "code",
   "execution_count": 7,
   "metadata": {},
   "outputs": [],
   "source": [
    "def reduce_by_crowding(scores, number_to_select):\n",
    "    \"\"\"\n",
    "    This function selects a number of solutions based on tournament of\n",
    "    crowding distances. Two members of the population are picked at\n",
    "    random. The one with the higher croding dostance is always picked\n",
    "    \"\"\"    \n",
    "    population_ids = np.arange(scores.shape[0])\n",
    "\n",
    "    crowding_distances = calculate_crowding(scores)\n",
    "\n",
    "    picked_population_ids = np.zeros((number_to_select))\n",
    "\n",
    "    picked_scores = np.zeros((number_to_select, len(scores[0, :])))\n",
    "\n",
    "    for i in range(number_to_select):\n",
    "\n",
    "        population_size = population_ids.shape[0]\n",
    "\n",
    "        fighter1ID = rn.randint(0, population_size - 1)\n",
    "\n",
    "        fighter2ID = rn.randint(0, population_size - 1)\n",
    "\n",
    "        # If fighter # 1 is better\n",
    "        if crowding_distances[fighter1ID] >= crowding_distances[\n",
    "            fighter2ID]:\n",
    "\n",
    "            # add solution to picked solutions array\n",
    "            picked_population_ids[i] = population_ids[\n",
    "                fighter1ID]\n",
    "\n",
    "            # Add score to picked scores array\n",
    "            picked_scores[i, :] = scores[fighter1ID, :]\n",
    "\n",
    "            # remove selected solution from available solutions\n",
    "            population_ids = np.delete(population_ids, (fighter1ID),\n",
    "                                       axis=0)\n",
    "\n",
    "            scores = np.delete(scores, (fighter1ID), axis=0)\n",
    "\n",
    "            crowding_distances = np.delete(crowding_distances, (fighter1ID),\n",
    "                                           axis=0)\n",
    "        else:\n",
    "            picked_population_ids[i] = population_ids[fighter2ID]\n",
    "\n",
    "            picked_scores[i, :] = scores[fighter2ID, :]\n",
    "\n",
    "            population_ids = np.delete(population_ids, (fighter2ID), axis=0)\n",
    "\n",
    "            scores = np.delete(scores, (fighter2ID), axis=0)\n",
    "\n",
    "            crowding_distances = np.delete(\n",
    "                crowding_distances, (fighter2ID), axis=0)\n",
    "\n",
    "    # Convert to integer \n",
    "    picked_population_ids = np.asarray(picked_population_ids, dtype=int)\n",
    "    \n",
    "    return (picked_population_ids)"
   ]
  },
  {
   "cell_type": "markdown",
   "metadata": {},
   "source": [
    "## Pareto selection\n",
    "\n",
    "Pareto selection involves two functions. The first will select a single Pareto front. The second will, as necessary, repeat Pareto front selection to build a population within defined size limits, and, as necessary, will reduce a Pareto front by applying crowding selection."
   ]
  },
  {
   "cell_type": "code",
   "execution_count": 8,
   "metadata": {},
   "outputs": [],
   "source": [
    "def identify_pareto(scores, population_ids):\n",
    "    \"\"\"\n",
    "    Identifies a single Pareto front, and returns the population IDs of\n",
    "    the selected solutions.\n",
    "    \"\"\"\n",
    "    population_size = scores.shape[0]\n",
    "    # Create a starting list of items on the Pareto front\n",
    "    # All items start off as being labelled as on the Parteo front\n",
    "    pareto_front = np.ones(population_size, dtype=bool)\n",
    "    # Loop through each item. This will then be compared with all other items\n",
    "    for i in range(population_size):\n",
    "        # Loop through all other items\n",
    "        for j in range(population_size):\n",
    "            # Check if our 'i' pint is dominated by out 'j' point\n",
    "            if all(scores[j] >= scores[i]) and any(scores[j] > scores[i]):\n",
    "                # j dominates i. Label 'i' point as not on Pareto front\n",
    "                pareto_front[i] = 0\n",
    "                # Stop further comparisons with 'i' (no more comparisons needed)\n",
    "                break\n",
    "    # Return ids of scenarios on pareto front\n",
    "    return population_ids[pareto_front]"
   ]
  },
  {
   "cell_type": "code",
   "execution_count": 9,
   "metadata": {},
   "outputs": [],
   "source": [
    "def build_pareto_population(\n",
    "        population, scores, minimum_population_size, maximum_population_size):\n",
    "    \"\"\"\n",
    "    As necessary repeats Pareto front selection to build a population within\n",
    "    defined size limits. Will reduce a Pareto front by applying crowding \n",
    "    selection as necessary.    \n",
    "    \"\"\"\n",
    "    unselected_population_ids = np.arange(population.shape[0])\n",
    "    all_population_ids = np.arange(population.shape[0])\n",
    "    pareto_front = []\n",
    "    while len(pareto_front) < minimum_population_size:\n",
    "        temp_pareto_front = identify_pareto(\n",
    "                scores[unselected_population_ids, :], unselected_population_ids)\n",
    "        \n",
    "        # Check size of total parteo front. \n",
    "        # If larger than maximum size reduce new pareto front by crowding\n",
    "        combined_pareto_size = len(pareto_front) + len(temp_pareto_front)\n",
    "        if combined_pareto_size > maximum_population_size:\n",
    "            number_to_select = combined_pareto_size - maximum_population_size\n",
    "            selected_individuals = (reduce_by_crowding(\n",
    "                    scores[temp_pareto_front], number_to_select))\n",
    "            temp_pareto_front = temp_pareto_front[selected_individuals]\n",
    "        \n",
    "        # Add latest pareto front to full Pareto front\n",
    "        pareto_front = np.hstack((pareto_front, temp_pareto_front))\n",
    "        \n",
    "    \n",
    "        # Update unslected population ID by using sets to find IDs in all\n",
    "        # ids that are not in the selected front\n",
    "        unselected_set = set(all_population_ids) - set(pareto_front)\n",
    "        unselected_population_ids = np.array(list(unselected_set))\n",
    "\n",
    "    population = population[pareto_front.astype(int)]\n",
    "    return population"
   ]
  },
  {
   "cell_type": "markdown",
   "metadata": {},
   "source": [
    "## Population functions\n",
    "\n",
    "There are four functions concerning the population\n",
    "\n",
    "1) Create a random population\n",
    "2) Breed by crossover - two children produced from two parents\n",
    "3) Randomly mutate population (small probability that any given gene in population will switch between 1/0 - applied to the child population)\n",
    "4) Breed population -Create child population by repetedly calling breeding function (two parents producing two children), applying genetic mutation to the child population, combining parent and child population, and removing duplicate chromosomes.\n"
   ]
  },
  {
   "cell_type": "code",
   "execution_count": 10,
   "metadata": {},
   "outputs": [],
   "source": [
    "def create_population(individuals, chromosome_length):\n",
    "    \"\"\"\n",
    "    Create random population with given number of individuals and chroosome\n",
    "    length.\n",
    "    \"\"\"    \n",
    "    # Set up an initial array of all zeros\n",
    "    population = np.zeros((individuals, chromosome_length))\n",
    "    # Loop through each row (individual)\n",
    "    for i in range(individuals):\n",
    "        # Choose a random number of ones to create\n",
    "        ones = rn.randint(0, chromosome_length)\n",
    "        # Change the required number of zeros to ones\n",
    "        population[i, 0:ones] = 1\n",
    "        # Sfuffle row\n",
    "        np.random.shuffle(population[i])\n",
    "    \n",
    "    return population"
   ]
  },
  {
   "cell_type": "code",
   "execution_count": 11,
   "metadata": {},
   "outputs": [],
   "source": [
    "def breed_by_crossover(parent_1, parent_2):\n",
    "    \"\"\"\n",
    "    Combine two parent chromsomes by crossover to produce two children.\n",
    "    \"\"\"\n",
    "    # Get length of chromosome\n",
    "    chromosome_length = len(parent_1)\n",
    "    \n",
    "    # Pick crossover point, avoding ends of chromsome\n",
    "    crossover_point = rn.randint(1,chromosome_length-1)\n",
    "    \n",
    "    # Create children. np.hstack joins two arrays\n",
    "    child_1 = np.hstack((parent_1[0:crossover_point],\n",
    "                        parent_2[crossover_point:]))\n",
    "    \n",
    "    child_2 = np.hstack((parent_2[0:crossover_point],\n",
    "                        parent_1[crossover_point:]))\n",
    "    \n",
    "    # Return children\n",
    "    return child_1, child_2"
   ]
  },
  {
   "cell_type": "code",
   "execution_count": 12,
   "metadata": {},
   "outputs": [],
   "source": [
    "def randomly_mutate_population(population, mutation_probability):\n",
    "    \"\"\"\n",
    "    Randomly mutate population with a given individual gene mutation\n",
    "    probability. Individual gene may switch between 0/1.\n",
    "    \"\"\"\n",
    "    # Apply random mutation\n",
    "    random_mutation_array = np.random.random(size=(population.shape))\n",
    "    \n",
    "    random_mutation_boolean = \\\n",
    "        random_mutation_array <= mutation_probability\n",
    "\n",
    "    population[random_mutation_boolean] = \\\n",
    "    np.logical_not(population[random_mutation_boolean])\n",
    "    \n",
    "    # Return mutation population\n",
    "    return population"
   ]
  },
  {
   "cell_type": "code",
   "execution_count": 13,
   "metadata": {},
   "outputs": [],
   "source": [
    "def breed_population(population):\n",
    "    \"\"\"\n",
    "    Create child population by repetedly calling breeding function (two parents\n",
    "    producing two children), applying genetic mutation to the child population,\n",
    "    combining parent and child population, and removing duplicatee chromosomes.\n",
    "    \"\"\"\n",
    "    # Create an empty list for new population\n",
    "    new_population = []\n",
    "    population_size = population.shape[0]\n",
    "    # Create new popualtion generating two children at a time\n",
    "    for i in range(int(population_size/2)):\n",
    "        parent_1 = population[rn.randint(0, population_size-1)]\n",
    "        parent_2 = population[rn.randint(0, population_size-1)]\n",
    "        child_1, child_2 = breed_by_crossover(parent_1, parent_2)\n",
    "        new_population.append(child_1)\n",
    "        new_population.append(child_2)\n",
    "    \n",
    "    # Add the child population to the parent population\n",
    "    # In this method we allow parents and children to compete to be kept\n",
    "    population = np.vstack((population, np.array(new_population)))\n",
    "    population = np.unique(population, axis=0)\n",
    "    \n",
    "    return population"
   ]
  },
  {
   "cell_type": "markdown",
   "metadata": {},
   "source": [
    "# Main algorithm code"
   ]
  },
  {
   "cell_type": "code",
   "execution_count": 14,
   "metadata": {},
   "outputs": [
    {
     "name": "stdout",
     "output_type": "stream",
     "text": [
      "Generation (out of 250): 0 \n",
      "Generation (out of 250): 10 \n",
      "Generation (out of 250): 20 \n",
      "Generation (out of 250): 30 \n",
      "Generation (out of 250): 40 \n",
      "Generation (out of 250): 50 \n",
      "Generation (out of 250): 60 \n",
      "Generation (out of 250): 70 \n",
      "Generation (out of 250): 80 \n",
      "Generation (out of 250): 90 \n",
      "Generation (out of 250): 100 \n",
      "Generation (out of 250): 110 \n",
      "Generation (out of 250): 120 \n",
      "Generation (out of 250): 130 \n",
      "Generation (out of 250): 140 \n",
      "Generation (out of 250): 150 \n",
      "Generation (out of 250): 160 \n",
      "Generation (out of 250): 170 \n",
      "Generation (out of 250): 180 \n",
      "Generation (out of 250): 190 \n",
      "Generation (out of 250): 200 \n",
      "Generation (out of 250): 210 \n",
      "Generation (out of 250): 220 \n",
      "Generation (out of 250): 230 \n",
      "Generation (out of 250): 240 \n"
     ]
    }
   ],
   "source": [
    "# Set general parameters\n",
    "chromosome_length = 50\n",
    "starting_population_size = 5000\n",
    "maximum_generation = 250\n",
    "minimum_population_size = 500\n",
    "maximum_population_size = 1000\n",
    "\n",
    "# Create two reference solutions \n",
    "# (this is used just to illustrate GAs)\n",
    "references = create_reference_solutions(chromosome_length, 2)\n",
    "\n",
    "# Create starting population\n",
    "population = create_population(\n",
    "        starting_population_size, chromosome_length)\n",
    "\n",
    "# Loop through the generations of genetic algorithm\n",
    "\n",
    "for generation in range(maximum_generation):\n",
    "    if generation %10 ==0:\n",
    "        print ('Generation (out of %i): %i '%(maximum_generation, generation))\n",
    "    \n",
    "    # Breed\n",
    "    population = breed_population(population)\n",
    "    \n",
    "    # Score population\n",
    "    scores = score_population(population, references)\n",
    "    \n",
    "    # Build pareto front\n",
    "    population = build_pareto_population(\n",
    "            population, scores, minimum_population_size, maximum_population_size)\n",
    "\n",
    "\n",
    "# Get final pareto front\n",
    "scores = score_population(population, references)\n",
    "population_ids = np.arange(population.shape[0]).astype(int)\n",
    "pareto_front = identify_pareto(scores, population_ids)\n",
    "population = population[pareto_front, :]\n",
    "scores = scores[pareto_front]"
   ]
  },
  {
   "cell_type": "markdown",
   "metadata": {},
   "source": [
    "# Plot final Pareto front\n",
    "\n",
    "This is the only part of the code that works only for two objectives.\n",
    "\n",
    "You will see in this example we have a well-described trade-off between achieving the two objectives. With the population sizes used and the number of generations we achieved 96% maximum score on each objective (a larger population and/or more generations would get us to 100% on this quite simple example, though Pareto algorithms should not be expected to find the perfect solution for all objectives, but rather they should identify good solutions)."
   ]
  },
  {
   "cell_type": "code",
   "execution_count": 15,
   "metadata": {},
   "outputs": [
    {
     "data": {
      "image/png": "[encoded data removed]",
      "text/plain": [
       "<Figure size 432x288 with 1 Axes>"
      ]
     },
     "metadata": {
      "needs_background": "light"
     },
     "output_type": "display_data"
    }
   ],
   "source": [
    "# Plot Pareto front (for two scores only)  \n",
    "x = scores[:, 0]/chromosome_length*100\n",
    "y = scores[:, 1]/chromosome_length*100\n",
    "plt.xlabel('Objective A - % maximum obtainable')\n",
    "plt.ylabel('Objective B - % maximum obtainable')\n",
    "\n",
    "plt.scatter(x,y)\n",
    "plt.savefig('pareto.png')\n",
    "plt.show()"
   ]
  }
 ],
 "metadata": {
  "kernelspec": {
   "display_name": "Python 3",
   "language": "python",
   "name": "python3"
  },
  "language_info": {
   "codemirror_mode": {
    "name": "ipython",
    "version": 3
   },
   "file_extension": ".py",
   "mimetype": "text/x-python",
   "name": "python",
   "nbconvert_exporter": "python",
   "pygments_lexer": "ipython3",
   "version": "3.7.2"
  }
 },
 "nbformat": 4,
 "nbformat_minor": 2
}
