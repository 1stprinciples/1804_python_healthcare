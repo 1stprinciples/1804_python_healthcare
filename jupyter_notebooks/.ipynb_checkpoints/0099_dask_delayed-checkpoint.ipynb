{
 "cells": [
  {
   "cell_type": "markdown",
   "metadata": {},
   "source": [
    "# Parallel processing functions and loops with dask 'delayed' method\n",
    "\n",
    "For a full SciPy conference video on dask see: https://www.youtube.com/watch?v=mqdglv9GnM8\n",
    "\n",
    "\n",
    "Dask is a Python library that allows parts of program to run in parallel in separate cpu threads to speed up the program. \n",
    "\n",
    "Here we will look at using dask to run a normal function in parallel when we need to call the function more than once in one part of a program. We will mimic a slow function by using the Python sleep() method to make the function take on second each time it is run. Normally it would take 3 seconds to run this function 3 times, but here we will see that with dask all three calls to the function will be complete in one second (assuming you have at least a dual core, 4-thread cpu).\n",
    "\n",
    "We will first import our required libraries."
   ]
  },
  {
   "cell_type": "code",
   "execution_count": 1,
   "metadata": {},
   "outputs": [],
   "source": [
    "from time import time # to time the program\n",
    "from time import sleep # to mimic a slow function\n",
    "from dask import delayed # to allow parallel computation"
   ]
  },
  {
   "cell_type": "markdown",
   "metadata": {},
   "source": [
    "Next we define a normal function (there is no use of dask at this this point). Here we will write a function that returns the square of the number passed to the function, but we'll add a 1 second sleep in it to mimic a longer running function."
   ]
  },
  {
   "cell_type": "code",
   "execution_count": 2,
   "metadata": {},
   "outputs": [],
   "source": [
    "# Define a function normally\n",
    "def my_function(x):\n",
    "    # mimic a slow function with sleep for 1 secons\n",
    "    sleep(1)\n",
    "    return x*2"
   ]
  },
  {
   "cell_type": "markdown",
   "metadata": {},
   "source": [
    "Now we will call that function three times.\n",
    "\n",
    "Normally this would take three seconds as each function must complete before the next one can start. But by using the decorator 'delayed' we mark this as a function call that may be run in parallel with others.\n",
    "\n",
    "Note the syntax amendment. We would normally call this function with my_function(x), but we amend the syntax to delayed(my_function)(x).\n",
    "\n",
    "We then calculate the sum of the three returned numbers from our function. But when using dask this does not actually give us our answer. If we print the type of this object we see that it is a 'delayed' object. To get the actual result we must then use the .compute() method as shown below.\n",
    "\n",
    "Then we see how long these three 1 second function calls take. If you have a processor with at least 2 CPUS and 4 threads you should see it takes close to one second rather than three!"
   ]
  },
  {
   "cell_type": "code",
   "execution_count": 3,
   "metadata": {},
   "outputs": [
    {
     "name": "stdout",
     "output_type": "stream",
     "text": [
      "Object type of total <class 'dask.delayed.Delayed'>\n",
      "Process took 1.01 seconds\n",
      "Final result  12\n"
     ]
    }
   ],
   "source": [
    "# Record time at start of run\n",
    "start = time()\n",
    "\n",
    "# Run function in parallel when calling three times\n",
    "# Syntax of my_function(x) is replaced with delayed(my_function)(x)\n",
    "a = delayed(my_function)(1)\n",
    "b = delayed(my_function)(2)\n",
    "c = delayed(my_function)(3)\n",
    "\n",
    "# Total will sum results. But at this point we generate a 'delayed' object   \n",
    "total = a + b + c\n",
    "\n",
    "# Show object type of total\n",
    "print ('Object type of total', type(total))\n",
    "\n",
    "# To get the result we must use 'compute':\n",
    "final_result = total.compute()\n",
    "\n",
    "# Calculate time taken and print results\n",
    "time_taken = time()-start\n",
    "print ('Process took %0.2f seconds' %time_taken)\n",
    "print('Final result ',final_result)"
   ]
  },
  {
   "cell_type": "markdown",
   "metadata": {},
   "source": [
    "## Using dask 'delayed' in a loop\n",
    "\n",
    "We can also use dask delayed to parallel process data in a loop (so long as an interation of the loop does not depend on previous results). Here we will call our function 10 times in a loop. Note the use of .compute again to get the actual result. This would take 10 seconds without dask. On a 4-cour/8-thread CPU it takes two seconds!"
   ]
  },
  {
   "cell_type": "code",
   "execution_count": 4,
   "metadata": {},
   "outputs": [
    {
     "name": "stdout",
     "output_type": "stream",
     "text": [
      "Process took 2.01 seconds\n",
      "Final result  90\n"
     ]
    }
   ],
   "source": [
    "start = time()\n",
    "\n",
    "# Example loop will add results to a list and calulate total\n",
    "results = []\n",
    "for i in range(10):\n",
    "    # Call normal function with dask delayed decorator\n",
    "    x = delayed(my_function)(i)\n",
    "    results.append(x)\n",
    "\n",
    "total = sum(results)\n",
    "final_result = total.compute()\n",
    "\n",
    "# Calculate time taken and print results\n",
    "time_taken = time()-start\n",
    "print ('Process took %0.2f seconds' %time_taken)\n",
    "print('Final result ',final_result)"
   ]
  }
 ],
 "metadata": {
  "kernelspec": {
   "display_name": "Python 3",
   "language": "python",
   "name": "python3"
  },
  "language_info": {
   "codemirror_mode": {
    "name": "ipython",
    "version": 3
   },
   "file_extension": ".py",
   "mimetype": "text/x-python",
   "name": "python",
   "nbconvert_exporter": "python",
   "pygments_lexer": "ipython3",
   "version": "3.7.0"
  }
 },
 "nbformat": 4,
 "nbformat_minor": 2
}
