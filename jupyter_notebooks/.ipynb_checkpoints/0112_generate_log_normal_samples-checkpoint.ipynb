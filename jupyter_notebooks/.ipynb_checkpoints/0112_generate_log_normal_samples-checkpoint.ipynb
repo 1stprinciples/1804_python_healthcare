{
 "cells": [
  {
   "cell_type": "markdown",
   "metadata": {},
   "source": [
    "# Generating log normal samples from provided arithmetic mean and standard deviation of original population\n",
    "\n",
    "The log normal distribution is frequently a useful distribution for mimicking process times in healthcare pathways (or many other non-automated processes). The distribution has a right skew which may frequently occur when some clinical process step has some additional complexity to it compared to the 'usual' case.\n",
    "\n",
    "To sample from a log normal distribution we need to convert the mean and standard deviation that was calculated from the original non-logged population into the mu and sigma of the underlying log normal population."
   ]
  },
  {
   "cell_type": "code",
   "execution_count": 1,
   "metadata": {},
   "outputs": [],
   "source": [
    "import numpy as np\n",
    "\n",
    "def generate_lognormal_samples(mean, stdev, n=1):\n",
    "    \"\"\"\n",
    "    Returns n samples taken from a lognormal distribution, based on mean and\n",
    "    standard deviation calaculated from the original non-logged population.\n",
    "    \n",
    "    Converts mean and standard deviation to underlying lognormal distribution\n",
    "    mu and sigma based on calculations desribed at:\n",
    "        https://blogs.sas.com/content/iml/2014/06/04/simulate-lognormal-data-\n",
    "        with-specified-mean-and-variance.html\n",
    "        \n",
    "    Returns a numpy array of floats if n > 1, otherwise return a float\n",
    "    \"\"\"\n",
    "    \n",
    "    # Calculate mu and sigma of underlying lognormal distribution\n",
    "    phi = (stdev ** 2 + mean ** 2) ** 0.5\n",
    "    mu = np.log(mean ** 2 / phi)\n",
    "    sigma = (np.log(phi ** 2 / mean ** 2)) ** 0.5\n",
    "    \n",
    "    # Generate lognormal population\n",
    "    generated_pop = np.random.lognormal(mu, sigma , n)\n",
    "    \n",
    "    # Convert single sample (if n=1) to a float, otherwise leave as array\n",
    "    generated_pop = \\\n",
    "        generated_pop[0] if len(generated_pop) == 1 else generated_pop\n",
    "        \n",
    "    return generated_pop"
   ]
  },
  {
   "cell_type": "markdown",
   "metadata": {},
   "source": [
    "## Test the function\n",
    "\n",
    "We will generate a population of 100,000 samples with a given mean and standard deviation (these would be calculated on the non-logged population), and test the resulting generated population has the same mean and standard deviation."
   ]
  },
  {
   "cell_type": "code",
   "execution_count": 2,
   "metadata": {},
   "outputs": [
    {
     "name": "stdout",
     "output_type": "stream",
     "text": [
      "Mean: 10.043105926813356\n",
      "Standard deviation: 9.99527575740651\n"
     ]
    }
   ],
   "source": [
    "mean = 10\n",
    "stdev = 10\n",
    "generated_pop = generate_lognormal_samples(mean, stdev, 100000)\n",
    "print ('Mean:', generated_pop.mean())\n",
    "print ('Standard deviation:', generated_pop.std())"
   ]
  },
  {
   "cell_type": "markdown",
   "metadata": {},
   "source": [
    "Plot a histogram of the generated population:"
   ]
  },
  {
   "cell_type": "code",
   "execution_count": 3,
   "metadata": {},
   "outputs": [
    {
     "data": {
      "image/png": "[encoded data removed]",
      "text/plain": [
       "<Figure size 432x288 with 1 Axes>"
      ]
     },
     "metadata": {
      "needs_background": "light"
     },
     "output_type": "display_data"
    }
   ],
   "source": [
    "import matplotlib.pyplot as plt\n",
    "%matplotlib inline\n",
    "bins = np.arange(0,51,1)\n",
    "plt.hist(generated_pop, bins=bins)\n",
    "plt.show()"
   ]
  },
  {
   "cell_type": "markdown",
   "metadata": {},
   "source": [
    "## Generating a single sample\n",
    "\n",
    "The function will return a single number if no `n` is given in the function call:"
   ]
  },
  {
   "cell_type": "code",
   "execution_count": 4,
   "metadata": {},
   "outputs": [
    {
     "name": "stdout",
     "output_type": "stream",
     "text": [
      "6.999376449335125\n"
     ]
    }
   ],
   "source": [
    "print (generate_lognormal_samples(mean, stdev))"
   ]
  }
 ],
 "metadata": {
  "kernelspec": {
   "display_name": "Python 3",
   "language": "python",
   "name": "python3"
  },
  "language_info": {
   "codemirror_mode": {
    "name": "ipython",
    "version": 3
   },
   "file_extension": ".py",
   "mimetype": "text/x-python",
   "name": "python",
   "nbconvert_exporter": "python",
   "pygments_lexer": "ipython3",
   "version": "3.7.2"
  }
 },
 "nbformat": 4,
 "nbformat_minor": 2
}
