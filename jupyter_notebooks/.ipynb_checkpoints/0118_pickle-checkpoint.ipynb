{
 "cells": [
  {
   "cell_type": "markdown",
   "metadata": {},
   "source": [
    "# 118: Python basics - saving python objects to disk with pickle\n",
    "\n",
    "Sometimes we may wish to save Python objects to disc (for example if we have performed a lot of processing to get to a certain point). We can use Python's pickle method to save and reload any Python object. Here we will save and reload a NumPy array, and then save and reload a collection of different objects."
   ]
  },
  {
   "cell_type": "markdown",
   "metadata": {},
   "source": [
    "## Saving a single python object\n",
    "\n",
    "Here we will use pickle to save a single object, a NumPy array."
   ]
  },
  {
   "cell_type": "code",
   "execution_count": 1,
   "metadata": {},
   "outputs": [
    {
     "name": "stdout",
     "output_type": "stream",
     "text": [
      "[[0.6383297  0.45250192 0.09882854 0.84896196]\n",
      " [0.97006917 0.29206495 0.92500062 0.52965801]]\n"
     ]
    }
   ],
   "source": [
    "import pickle \n",
    "import numpy as np\n",
    "\n",
    "# Create array of random numbers:\n",
    "my_array= np.random.rand(2,4)\n",
    "print (my_array)"
   ]
  },
  {
   "cell_type": "code",
   "execution_count": 2,
   "metadata": {},
   "outputs": [],
   "source": [
    "# Save using pickle\n",
    "filename = 'pickled_array.p'\n",
    "with open(filename, 'wb') as filehandler:\n",
    "    pickle.dump(my_array, filehandler)"
   ]
  },
  {
   "cell_type": "markdown",
   "metadata": {},
   "source": [
    "Reload and print pickled array:"
   ]
  },
  {
   "cell_type": "code",
   "execution_count": 3,
   "metadata": {},
   "outputs": [
    {
     "name": "stdout",
     "output_type": "stream",
     "text": [
      "Reloaded array:\n",
      "[[0.6383297  0.45250192 0.09882854 0.84896196]\n",
      " [0.97006917 0.29206495 0.92500062 0.52965801]]\n"
     ]
    }
   ],
   "source": [
    "filename = 'pickled_array.p'\n",
    "with open(filename, 'rb') as filehandler: \n",
    "    reloaded_array = pickle.load(filehandler)\n",
    "\n",
    "print ('Reloaded array:')\n",
    "print (reloaded_array)"
   ]
  },
  {
   "cell_type": "markdown",
   "metadata": {},
   "source": [
    "## Using a tuple to save multiple objects\n",
    "\n",
    "We can use pickle to save a collection of objects grouped together as a list, a dictionary, or a tuple. Here we will save a collection of objects as a tuple."
   ]
  },
  {
   "cell_type": "code",
   "execution_count": 4,
   "metadata": {},
   "outputs": [],
   "source": [
    "# Create an array, a list, and a dictionary\n",
    "my_array = np.random.rand(2,4)\n",
    "my_list =['A', 'B', 'C']\n",
    "my_dictionary = {'name': 'Bob', 'Age': 42}"
   ]
  },
  {
   "cell_type": "code",
   "execution_count": 5,
   "metadata": {},
   "outputs": [],
   "source": [
    "# Save all items in a tuple\n",
    "items_to_save = (my_array, my_list, my_dictionary)\n",
    "filename = 'pickled_tuple_of_objects.p'\n",
    "with open(filename, 'wb') as filehandler:\n",
    "    pickle.dump(items_to_save, filehandler)"
   ]
  },
  {
   "cell_type": "markdown",
   "metadata": {},
   "source": [
    "Reload pickled tuple, unpack the objecys, and print them."
   ]
  },
  {
   "cell_type": "code",
   "execution_count": 6,
   "metadata": {},
   "outputs": [
    {
     "name": "stdout",
     "output_type": "stream",
     "text": [
      "Reloaded array:\n",
      "[[0.40193978 0.55173167 0.89411291 0.84625061]\n",
      " [0.86540981 0.27835353 0.43359222 0.31579122]]\n",
      "\n",
      "Reloaded list:\n",
      "['A', 'B', 'C']\n",
      "\n",
      " Reloaded dictionary\n",
      "{'name': 'Bob', 'Age': 42}\n"
     ]
    }
   ],
   "source": [
    "filename = 'pickled_tuple_of_objects.p'\n",
    "with open(filename, 'rb') as filehandler:\n",
    "    reloaded_tuple = pickle.load(filehandler)\n",
    "\n",
    "\n",
    "reloaded_array = reloaded_tuple[0]\n",
    "reloaded_list = reloaded_tuple[1]\n",
    "reloaded_dict = reloaded_tuple[2]\n",
    "\n",
    "print ('Reloaded array:')\n",
    "print (reloaded_array)\n",
    "print ('\\nReloaded list:')\n",
    "print (reloaded_list)\n",
    "print ('\\n Reloaded dictionary')\n",
    "print (reloaded_dict)"
   ]
  }
 ],
 "metadata": {
  "kernelspec": {
   "display_name": "Python 3",
   "language": "python",
   "name": "python3"
  },
  "language_info": {
   "codemirror_mode": {
    "name": "ipython",
    "version": 3
   },
   "file_extension": ".py",
   "mimetype": "text/x-python",
   "name": "python",
   "nbconvert_exporter": "python",
   "pygments_lexer": "ipython3",
   "version": "3.7.2"
  }
 },
 "nbformat": 4,
 "nbformat_minor": 2
}
