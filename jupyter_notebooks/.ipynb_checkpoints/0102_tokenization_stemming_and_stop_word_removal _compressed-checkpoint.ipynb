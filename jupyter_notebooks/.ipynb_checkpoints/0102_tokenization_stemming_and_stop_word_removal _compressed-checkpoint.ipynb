{
 "cells": [
  {
   "cell_type": "markdown",
   "metadata": {},
   "source": [
    "# Pre-processing data: tokenization, stemming, and removal of stop words (compressed code)\n",
    "\n",
    "In the previous lesson we went through each of the steps of cleaning text, showing what each step does. Below is compressed code that does the same, and can be applied to any list of text strings. Here we import the imdb data set, extract the review text and clean it, and put the cleaned reviews back into the imdb DataFrame."
   ]
  },
  {
   "cell_type": "code",
   "execution_count": 2,
   "metadata": {},
   "outputs": [
    {
     "name": "stdout",
     "output_type": "stream",
     "text": [
      "Original text: I have no read the novel on which \"The Kite Runner\" is based. My wife and daughter, who did, thought the movie fell a long way short of the book, and I'm prepared to take their word for it. But, on its own, the movie is good -- not great but good. How accurately does it portray the havoc created by the Soviet invasion of Afghanistan? How convincingly does it show the intolerant Taliban regime that followed? I'd rate it C+ on the first and B+ on the second. The human story, the Afghan-American who returned to the country to rescue the son of his childhood playmate, is well done but it is on this count particularly that I'm told the book was far more convincing than the movie. The most exciting part of the film, however -- the kite contests in Kabul and, later, a mini-contest in California -- cannot have been equaled by the book. I'd wager money on that.\n",
      "\n",
      "Cleaned text: read novel kite runner base wife daughter thought movi fell long way short book prepar take word movi good great good accur doe portray havoc creat soviet invas afghanistan convincingli doe show intoler taliban regim follow rate first second human stori return countri rescu son hi childhood playmat well done thi count particularli told book wa far convinc movi excit part film howev kite contest kabul later california equal book wager money\n"
     ]
    }
   ],
   "source": [
    "import nltk\n",
    "import pandas as pd\n",
    "from nltk.stem import PorterStemmer\n",
    "from nltk.corpus import stopwords\n",
    "\n",
    "# If not previously performed:\n",
    "# nltk.download('stopwords')\n",
    "\n",
    "stemming = PorterStemmer()\n",
    "stops = set(stopwords.words(\"english\"))\n",
    "\n",
    "def apply_cleaning_function_to_list(X):\n",
    "    cleaned_X = []\n",
    "    for element in X:\n",
    "        cleaned_X.append(clean_text(element))\n",
    "    return cleaned_X\n",
    "\n",
    "\n",
    "def clean_text(raw_text):\n",
    "    \"\"\"This function works on a raw text string, and:\n",
    "        1) changes to lower case\n",
    "        2) tokenizes (breaks down into words\n",
    "        3) removes punctuation and non-word text\n",
    "        4) finds word stems\n",
    "        5) removes stop words\n",
    "        6) rejoins meaningful stem words\"\"\"\n",
    "    \n",
    "    # Convert to lower case\n",
    "    text = raw_text.lower()\n",
    "    \n",
    "    # Tokenize\n",
    "    tokens = nltk.word_tokenize(text)\n",
    "    \n",
    "    # Keep only words (removes punctuation + numbers)\n",
    "    # use .isalnum to keep also numbers\n",
    "    token_words = [w for w in tokens if w.isalpha()]\n",
    "    \n",
    "    # Stemming\n",
    "    stemmed_words = [stemming.stem(w) for w in token_words]\n",
    "    \n",
    "    # Remove stop words\n",
    "    meaningful_words = [w for w in stemmed_words if not w in stops]\n",
    "    \n",
    "    # Rejoin meaningful stemmed words\n",
    "    joined_words = ( \" \".join(meaningful_words))\n",
    "    \n",
    "    # Return cleaned data\n",
    "    return joined_words\n",
    "\n",
    "\n",
    "### APPLY FUNCTIONS TO EXAMPLE DATA\n",
    "\n",
    "# Load data example\n",
    "imdb = pd.read_csv('imdb.csv')\n",
    "\n",
    "# If you do not already have the data locally you may download (and save) by\n",
    "# uncommenting and running the following lines\n",
    "\n",
    "# file_location = 'https://gitlab.com/michaelallen1966/00_python_snippets' +\\\n",
    "#     '_and_recipes/raw/master/machine_learning/data/IMDb.csv'\n",
    "# imdb = pd.read_csv(file_location)\n",
    "# save to current directory\n",
    "# imdb.to_csv('imdb.csv', index=False)\n",
    "\n",
    "# Truncate data for example\n",
    "imdb = imdb.head(100)\n",
    "\n",
    "# Get text to clean\n",
    "text_to_clean = list(imdb['review'])\n",
    "\n",
    "# Clean text\n",
    "cleaned_text = apply_cleaning_function_to_list(text_to_clean)\n",
    "\n",
    "# Show first example\n",
    "print ('Original text:',text_to_clean[0])\n",
    "print ('\\nCleaned text:', cleaned_text[0])\n",
    "\n",
    "# Add cleaned data back into DataFrame\n",
    "imdb['cleaned_review'] = cleaned_text"
   ]
  },
  {
   "cell_type": "code",
   "execution_count": null,
   "metadata": {},
   "outputs": [],
   "source": []
  }
 ],
 "metadata": {
  "kernelspec": {
   "display_name": "Python 3",
   "language": "python",
   "name": "python3"
  },
  "language_info": {
   "codemirror_mode": {
    "name": "ipython",
    "version": 3
   },
   "file_extension": ".py",
   "mimetype": "text/x-python",
   "name": "python",
   "nbconvert_exporter": "python",
   "pygments_lexer": "ipython3",
   "version": "3.7.0"
  }
 },
 "nbformat": 4,
 "nbformat_minor": 2
}
