{
 "cells": [
  {
   "cell_type": "markdown",
   "metadata": {},
   "source": [
    "# Examples of using python list comprehensions as an alternative to loops\n",
    "\n",
    "\n",
    "## Example 1 - double the numbers\n",
    "\n",
    "Standard loop approach:"
   ]
  },
  {
   "cell_type": "code",
   "execution_count": 1,
   "metadata": {},
   "outputs": [
    {
     "name": "stdout",
     "output_type": "stream",
     "text": [
      "[2, 4, 6, 8]\n"
     ]
    }
   ],
   "source": [
    "foo = [1, 2, 3, 4]\n",
    "bar = []\n",
    "\n",
    "for x in foo:\n",
    "    bar.append(x * 2)\n",
    "    \n",
    "print(bar)"
   ]
  },
  {
   "cell_type": "markdown",
   "metadata": {},
   "source": [
    "Using list comprehension"
   ]
  },
  {
   "cell_type": "code",
   "execution_count": 2,
   "metadata": {},
   "outputs": [
    {
     "name": "stdout",
     "output_type": "stream",
     "text": [
      "[2, 4, 6, 8]\n"
     ]
    }
   ],
   "source": [
    "foo = [1, 2, 3, 4]\n",
    "bar = [x * 2 for x in foo]\n",
    "print(bar)"
   ]
  },
  {
   "cell_type": "markdown",
   "metadata": {},
   "source": [
    "## Example 2 - convert celsius to fahrenheit\n",
    "\n",
    "This example calls a function from within the list comprehension.\n",
    "\n",
    "Define the function:"
   ]
  },
  {
   "cell_type": "code",
   "execution_count": 3,
   "metadata": {},
   "outputs": [],
   "source": [
    "def convert_celsius_to_fahrenheit(deg_celsius):\n",
    "    \"\"\"\n",
    "    Convert degress celsius to fahrenheit\n",
    "    Returns float value - temp in fahrenheit\n",
    "    Keyword arguments:\n",
    "        def_celcius -- temp in degrees celsius\n",
    "    \"\"\"\n",
    "    return (9/5) * deg_celsius + 32"
   ]
  },
  {
   "cell_type": "markdown",
   "metadata": {},
   "source": [
    "Standard loop approach:"
   ]
  },
  {
   "cell_type": "code",
   "execution_count": 4,
   "metadata": {},
   "outputs": [
    {
     "name": "stdout",
     "output_type": "stream",
     "text": [
      "Using standard for loop: [102.56, 97.7, 99.14, 105.8]\n"
     ]
    }
   ],
   "source": [
    "#list of temps in degree celsius to convert to fahrenheit\n",
    "celsius = [39.2, 36.5, 37.3, 41.0]\n",
    "\n",
    "#standard for loop approach\n",
    "fahrenheit = []\n",
    "for x in celsius:\n",
    "    fahrenheit.append(convert_celsius_to_fahrenheit(x))\n",
    "\n",
    "print('Using standard for loop: {}'.format(fahrenheit))"
   ]
  },
  {
   "cell_type": "markdown",
   "metadata": {},
   "source": [
    "Using list comprehension:"
   ]
  },
  {
   "cell_type": "code",
   "execution_count": 5,
   "metadata": {},
   "outputs": [
    {
     "name": "stdout",
     "output_type": "stream",
     "text": [
      "Using list comprehension: [102.56, 97.7, 99.14, 105.8]\n"
     ]
    }
   ],
   "source": [
    "fahrenheit = [convert_celsius_to_fahrenheit(x) for x in celsius]\n",
    "print('Using list comprehension: {}'.format(fahrenheit))"
   ]
  },
  {
   "cell_type": "markdown",
   "metadata": {},
   "source": [
    "## Example 3 - convert the strings to different data types\n",
    "\n",
    "This example also make use of the zip function.\n",
    "Zip allows you to iterate through two lists at the same time."
   ]
  },
  {
   "cell_type": "code",
   "execution_count": 6,
   "metadata": {},
   "outputs": [
    {
     "name": "stdout",
     "output_type": "stream",
     "text": [
      "[1, 3.142, True, 'spam']\n"
     ]
    }
   ],
   "source": [
    "inputs = [\"1\", \"3.142\", \"True\", \"spam\"]\n",
    "converters = [int, float, bool, str]\n",
    "\n",
    "values_with_correct_data_types = [t(s) for (s, t) in zip(inputs, converters)]\n",
    "print(values_with_correct_data_types)"
   ]
  },
  {
   "cell_type": "markdown",
   "metadata": {},
   "source": [
    "## Example 4 - Using if statements within a list comprehension\n",
    "\n",
    "The example filters a list of file names to the python files only"
   ]
  },
  {
   "cell_type": "code",
   "execution_count": 7,
   "metadata": {},
   "outputs": [
    {
     "name": "stdout",
     "output_type": "stream",
     "text": [
      "using standard for loop: ['test.py', 'fun_module.py']\n",
      "using list comprehension ['test.py', 'fun_module.py']\n"
     ]
    }
   ],
   "source": [
    "unfiltered_files = ['test.py', 'names.csv', 'fun_module.py', 'prog.config']\n",
    "\n",
    "# Standard loop form\n",
    "python_files = []\n",
    "# filter the files using a standard for loop \n",
    "for file in unfiltered_files:\n",
    "    if file[-2:] == 'py':\n",
    "        python_files.append(file)\n",
    "        \n",
    "print('using standard for loop: {}'.format(python_files))\n",
    "\n",
    "#list comprehension\n",
    "python_files = [file for file in unfiltered_files if file[-2:] == 'py']\n",
    "\n",
    "print('using list comprehension {}'.format(python_files))"
   ]
  },
  {
   "cell_type": "markdown",
   "metadata": {},
   "source": [
    "## Example 5 - List comprehension to create a list of lists"
   ]
  },
  {
   "cell_type": "code",
   "execution_count": 8,
   "metadata": {},
   "outputs": [
    {
     "name": "stdout",
     "output_type": "stream",
     "text": [
      "[[0, 0, 0], [0, 1, 2], [0, 2, 4], [0, 3, 6], [0, 4, 8]]\n",
      "[[0, 0, 0], [0, 1, 2], [0, 2, 4], [0, 3, 6], [0, 4, 8]]\n"
     ]
    }
   ],
   "source": [
    "list_of_lists = []\n",
    "\n",
    "# Standard loop form\n",
    "for i in range(5):\n",
    "    sub_list = []\n",
    "    for j in range(3):\n",
    "        sub_list.append(i * j)\n",
    "    list_of_lists.append(sub_list)\n",
    "\n",
    "print(list_of_lists)\n",
    "\n",
    "\n",
    "# List comprehension\n",
    "list_of_lists = [[i * j for j in range(3)] for i in range(5)]\n",
    "\n",
    "print(list_of_lists)"
   ]
  },
  {
   "cell_type": "markdown",
   "metadata": {},
   "source": [
    "## Example 6: Iterate over all items in a list of lists\n",
    "\n",
    "The code converts a list of lists to a list of items\n",
    "We call this flattening the list."
   ]
  },
  {
   "cell_type": "code",
   "execution_count": 9,
   "metadata": {},
   "outputs": [
    {
     "name": "stdout",
     "output_type": "stream",
     "text": [
      "[8, 2, 1, 9, 1, 2, 4, 5, 100]\n",
      "[8, 2, 1, 9, 1, 2, 4, 5, 100]\n"
     ]
    }
   ],
   "source": [
    "list_of_lists = [[8, 2, 1], [9, 1, 2], [4, 5, 100]]\n",
    "\n",
    "# Standard loop form\n",
    "flat_list = []\n",
    "for row in list_of_lists:\n",
    "    for col in row:\n",
    "        flat_list.append(col)\n",
    "\n",
    "print(flat_list)\n",
    "\n",
    "# List comprehension:\n",
    "flat_list = [item for sublist in list_of_lists for item in sublist]\n",
    "print(flat_list)"
   ]
  }
 ],
 "metadata": {
  "kernelspec": {
   "display_name": "Python 3",
   "language": "python",
   "name": "python3"
  },
  "language_info": {
   "codemirror_mode": {
    "name": "ipython",
    "version": 3
   },
   "file_extension": ".py",
   "mimetype": "text/x-python",
   "name": "python",
   "nbconvert_exporter": "python",
   "pygments_lexer": "ipython3",
   "version": "3.7.2"
  }
 },
 "nbformat": 4,
 "nbformat_minor": 2
}
