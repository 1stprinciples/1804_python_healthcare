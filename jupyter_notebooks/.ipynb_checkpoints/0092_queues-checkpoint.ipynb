{
 "cells": [
  {
   "cell_type": "markdown",
   "metadata": {},
   "source": [
    "# 92: Queues\n",
    "\n",
    "Python queues allow objects of any kind to be added to and removed from queues.\n",
    "\n",
    "Here are three basic types of queue:\n",
    "\n",
    "1) FIFO (First In First Out)\n",
    "2) LIFO (Last In First Out)\n",
    "3) Priority (each item is assigned a priority in the queue)\n",
    "\n",
    "Note: Python queues are not iterable; we cannot look through objects in the queue. It may at times be useful to maintain a separate list of queued items."
   ]
  },
  {
   "cell_type": "code",
   "execution_count": null,
   "metadata": {},
   "outputs": [],
   "source": []
  }
 ],
 "metadata": {
  "kernelspec": {
   "display_name": "Python 3",
   "language": "python",
   "name": "python3"
  },
  "language_info": {
   "codemirror_mode": {
    "name": "ipython",
    "version": 3
   },
   "file_extension": ".py",
   "mimetype": "text/x-python",
   "name": "python",
   "nbconvert_exporter": "python",
   "pygments_lexer": "ipython3",
   "version": "3.6.5"
  }
 },
 "nbformat": 4,
 "nbformat_minor": 2
}
