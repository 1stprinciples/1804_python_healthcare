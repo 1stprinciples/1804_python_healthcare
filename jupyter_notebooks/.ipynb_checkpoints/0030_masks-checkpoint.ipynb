{
 "cells": [
  {
   "cell_type": "markdown",
   "metadata": {},
   "source": [
    "# Using masks to filter data in NumPy\n",
    "\n",
    "In both NumPy and Pandas we can create masks to filter data. Masks are 'Boolean' arrays - that is arrays of true and false values and provide a powerful and flexible method to selecting data.\n",
    "\n",
    "## Creating a mask\n",
    "\n",
    "Let's begin by creating an array of 4 rows of 10 columns of uniform random number between 0 and 100"
   ]
  },
  {
   "cell_type": "code",
   "execution_count": 2,
   "metadata": {},
   "outputs": [
    {
     "name": "stdout",
     "output_type": "stream",
     "text": [
      "[[73  6 10 91  7 10 75 71 38 66]\n",
      " [84 65 81  5 44 32 29 13 47 56]\n",
      " [42 11  2 81 26 49  2 32 17 25]\n",
      " [60 91 41 56 76 48 19 65 68 68]]\n"
     ]
    }
   ],
   "source": [
    "import numpy as np\n",
    "\n",
    "array1 = np.random.randint(0,100,size=(4,10))\n",
    "\n",
    "print (array1)"
   ]
  },
  {
   "cell_type": "markdown",
   "metadata": {},
   "source": [
    "Now we'll create a mask to show those numbers greater than 70."
   ]
  },
  {
   "cell_type": "code",
   "execution_count": 3,
   "metadata": {},
   "outputs": [
    {
     "name": "stdout",
     "output_type": "stream",
     "text": [
      "[[ True False False  True False False  True  True False False]\n",
      " [ True False  True False False False False False False False]\n",
      " [False False False  True False False False False False False]\n",
      " [False  True False False  True False False False False False]]\n"
     ]
    }
   ],
   "source": [
    "mask = array1 > 70\n",
    "\n",
    "print(mask)"
   ]
  },
  {
   "cell_type": "markdown",
   "metadata": {},
   "source": [
    "We can use that mask to extract the numbers "
   ]
  },
  {
   "cell_type": "code",
   "execution_count": 4,
   "metadata": {},
   "outputs": [
    {
     "name": "stdout",
     "output_type": "stream",
     "text": [
      "[73 91 75 71 84 81 81 91 76]\n"
     ]
    }
   ],
   "source": [
    "print (array1[mask])"
   ]
  },
  {
   "cell_type": "markdown",
   "metadata": {},
   "source": [
    "## Using any and all\n",
    "\n",
    "<em>any</em> and <em>all</em> allow us to check for all true or all false.\n",
    "\n",
    "We can apply that to the whole array:"
   ]
  },
  {
   "cell_type": "code",
   "execution_count": 5,
   "metadata": {},
   "outputs": [
    {
     "name": "stdout",
     "output_type": "stream",
     "text": [
      "True\n",
      "False\n"
     ]
    }
   ],
   "source": [
    "print (mask.any())\n",
    "print (mask.all())"
   ]
  },
  {
   "cell_type": "markdown",
   "metadata": {},
   "source": [
    "Or we can apply it columnwise (by passing axis=0) or rowwise (by passing axis = 0)"
   ]
  },
  {
   "cell_type": "code",
   "execution_count": 6,
   "metadata": {},
   "outputs": [
    {
     "name": "stdout",
     "output_type": "stream",
     "text": [
      "All test in a column are true:\n",
      "[False False False False False False False False False False]\n",
      "\n",
      "Any test in a row is true:\n",
      "[ True  True  True  True]\n"
     ]
    }
   ],
   "source": [
    "print ('All test in a column are true:')\n",
    "print (mask.all(axis=0))\n",
    "print ('\\nAny test in a row is true:')\n",
    "print (mask.any(axis=1))"
   ]
  },
  {
   "cell_type": "markdown",
   "metadata": {},
   "source": [
    "We can use != to invert a mask if needed (all trues become false, and all falses become true). This can be useful, but can also become a little confusing!"
   ]
  },
  {
   "cell_type": "code",
   "execution_count": 7,
   "metadata": {},
   "outputs": [
    {
     "name": "stdout",
     "output_type": "stream",
     "text": [
      "[[False  True  True False  True  True False False  True  True]\n",
      " [False  True False  True  True  True  True  True  True  True]\n",
      " [ True  True  True False  True  True  True  True  True  True]\n",
      " [ True False  True  True False  True  True  True  True  True]]\n"
     ]
    }
   ],
   "source": [
    "inverted_mask = mask!=True\n",
    "print (inverted_mask)"
   ]
  },
  {
   "cell_type": "markdown",
   "metadata": {},
   "source": [
    "## Adding or averaging trues\n",
    "\n",
    "Boolean values (True/False) in Python also take the values 1 and 0. This can be useful for counting trues/false, for example:"
   ]
  },
  {
   "cell_type": "code",
   "execution_count": 8,
   "metadata": {},
   "outputs": [
    {
     "name": "stdout",
     "output_type": "stream",
     "text": [
      "Number of trues in array:\n",
      "9\n"
     ]
    }
   ],
   "source": [
    "print ('Number of trues in array:')\n",
    "print (mask.sum())"
   ]
  },
  {
   "cell_type": "code",
   "execution_count": 9,
   "metadata": {},
   "outputs": [
    {
     "name": "stdout",
     "output_type": "stream",
     "text": [
      "Number of trues in array by row:\n",
      "[4 2 1 2]\n"
     ]
    }
   ],
   "source": [
    "print('Number of trues in array by row:')\n",
    "print (mask.sum(axis=1))"
   ]
  },
  {
   "cell_type": "code",
   "execution_count": 10,
   "metadata": {},
   "outputs": [
    {
     "name": "stdout",
     "output_type": "stream",
     "text": [
      "Average of trues in array by column:\n",
      "[0.5  0.25 0.25 0.5  0.25 0.   0.25 0.25 0.   0.  ]\n"
     ]
    }
   ],
   "source": [
    "print('Average of trues in array by column:')\n",
    "print (mask.mean(axis=0))"
   ]
  },
  {
   "cell_type": "markdown",
   "metadata": {},
   "source": [
    "## Selecting rows or columns based on one value in that row or column"
   ]
  },
  {
   "cell_type": "markdown",
   "metadata": {},
   "source": [
    "Let's select all columns where the value of the first element is equal to, or greater than 50:"
   ]
  },
  {
   "cell_type": "code",
   "execution_count": 11,
   "metadata": {},
   "outputs": [
    {
     "name": "stdout",
     "output_type": "stream",
     "text": [
      "\n",
      "Here is the mask\n",
      "[ True False False  True False False  True  True False  True]\n",
      "\n",
      "And here is the mask applied to all columns\n",
      "[[73 91 75 71 66]\n",
      " [84  5 29 13 56]\n",
      " [42 81  2 32 25]\n",
      " [60 56 19 65 68]]\n"
     ]
    }
   ],
   "source": [
    "mask = array1[0,:] >= 50 # colon indicates all columns, zero indicates row 0\n",
    "print ('\\nHere is the mask')\n",
    "print (mask)\n",
    "print ('\\nAnd here is the mask applied to all columns')\n",
    "print (array1[:,mask]) # colon represents all rows of chosen columns"
   ]
  },
  {
   "cell_type": "markdown",
   "metadata": {},
   "source": [
    "Similarly if we qanted to select all rows where the 2nd element was equal to, or greather, than 50"
   ]
  },
  {
   "cell_type": "code",
   "execution_count": 12,
   "metadata": {},
   "outputs": [
    {
     "name": "stdout",
     "output_type": "stream",
     "text": [
      "\n",
      "Here is the mask\n",
      "[False  True False  True]\n",
      "\n",
      "And here is the mask applied to all rows\n",
      "[[84 65 81  5 44 32 29 13 47 56]\n",
      " [60 91 41 56 76 48 19 65 68 68]]\n"
     ]
    }
   ],
   "source": [
    "mask = array1[:,1] >= 50 # colon indicates all roes, 1 indicates row 1 (the second row, as the first is row 0)\n",
    "print ('\\nHere is the mask')\n",
    "print (mask)\n",
    "print ('\\nAnd here is the mask applied to all rows')\n",
    "print (array1[mask,:]) # colon represents all rows of chosen columns"
   ]
  },
  {
   "cell_type": "markdown",
   "metadata": {},
   "source": [
    "## Using <em>and</em> and <em>or</em>, and combining filters from two arrays"
   ]
  },
  {
   "cell_type": "markdown",
   "metadata": {},
   "source": [
    "We may creat and combine multiple masks. For example we may have two masks that look for values less than 20 or greater than 80, and then combine those masks with or which is represented by | (stick)."
   ]
  },
  {
   "cell_type": "code",
   "execution_count": 13,
   "metadata": {},
   "outputs": [
    {
     "name": "stdout",
     "output_type": "stream",
     "text": [
      "Mask for values <20:\n",
      "[[False  True  True False  True  True False False False False]\n",
      " [False False False  True False False False  True False False]\n",
      " [False  True  True False False False  True False  True False]\n",
      " [False False False False False False  True False False False]]\n",
      "\n",
      "Mask for values >80:\n",
      "[[False False False  True False False False False False False]\n",
      " [ True False  True False False False False False False False]\n",
      " [False False False  True False False False False False False]\n",
      " [False  True False False False False False False False False]]\n",
      "\n",
      "Combined mask:\n",
      "[[False  True  True  True  True  True False False False False]\n",
      " [ True False  True  True False False False  True False False]\n",
      " [False  True  True  True False False  True False  True False]\n",
      " [False  True False False False False  True False False False]]\n",
      "\n",
      "Selected values using combined mask\n",
      "[ 6 10 91  7 10 84 81  5 13 11  2 81  2 17 91 19]\n"
     ]
    }
   ],
   "source": [
    "print ('Mask for values <20:')\n",
    "mask1 = array1 < 20\n",
    "print (mask1)\n",
    "\n",
    "print ('\\nMask for values >80:')\n",
    "mask2 = array1 > 80\n",
    "print (mask2)\n",
    "\n",
    "print ('\\nCombined mask:')\n",
    "mask = mask1  | mask2 # | (stick) is used for 'or' with two boolean arrays\n",
    "print (mask)\n",
    "\n",
    "print ('\\nSelected values using combined mask')\n",
    "print (array1[mask])"
   ]
  },
  {
   "cell_type": "markdown",
   "metadata": {},
   "source": [
    "We can combine these masks in a single line"
   ]
  },
  {
   "cell_type": "code",
   "execution_count": 14,
   "metadata": {},
   "outputs": [
    {
     "name": "stdout",
     "output_type": "stream",
     "text": [
      "[[False  True  True  True  True  True False False False False]\n",
      " [ True False  True  True False False False  True False False]\n",
      " [False  True  True  True False False  True False  True False]\n",
      " [False  True False False False False  True False False False]]\n"
     ]
    }
   ],
   "source": [
    "mask = (array1 < 20) | (array1 > 80)\n",
    "print (mask)"
   ]
  },
  {
   "cell_type": "markdown",
   "metadata": {},
   "source": [
    "We can combine masks derived from different arrays, so long as they are the same shape. For example let's produce an another array of random numbers and check for those element positions where corresponding positions of both arrays have values of greater than 50. When comparing boolean arrays we represent 'and' with &."
   ]
  },
  {
   "cell_type": "code",
   "execution_count": 15,
   "metadata": {},
   "outputs": [
    {
     "name": "stdout",
     "output_type": "stream",
     "text": [
      "Mask for values of array1 > 50:\n",
      "[[ True False False  True False False  True  True False  True]\n",
      " [ True  True  True False False False False False False  True]\n",
      " [False False False  True False False False False False False]\n",
      " [ True  True False  True  True False False  True  True  True]]\n",
      "\n",
      "Mask for values of array2 > 50:\n",
      "[[False False  True False  True False  True False False False]\n",
      " [ True False False False False False False  True  True  True]\n",
      " [False False  True  True  True False  True  True False False]\n",
      " [False  True False False  True  True False  True False  True]]\n",
      "\n",
      "Combined mask:\n",
      "[[False False False False False False  True False False False]\n",
      " [ True False False False False False False False False  True]\n",
      " [False False False  True False False False False False False]\n",
      " [False  True False False  True False False  True False  True]]\n"
     ]
    }
   ],
   "source": [
    "array2 = np.random.randint(0,100,size=(4,10))\n",
    "\n",
    "print ('Mask for values of array1 > 50:')\n",
    "mask1 = array1 > 50\n",
    "print (mask1)\n",
    "\n",
    "print ('\\nMask for values of array2 > 50:')\n",
    "mask2 = array2 > 50\n",
    "print (mask2)\n",
    "\n",
    "print ('\\nCombined mask:')\n",
    "mask = mask1  & mask2 \n",
    "print (mask)"
   ]
  },
  {
   "cell_type": "markdown",
   "metadata": {},
   "source": [
    "We could shorten this to:"
   ]
  },
  {
   "cell_type": "code",
   "execution_count": 16,
   "metadata": {},
   "outputs": [
    {
     "name": "stdout",
     "output_type": "stream",
     "text": [
      "[[False False False False False False  True False False False]\n",
      " [ True False False False False False False False False  True]\n",
      " [False False False  True False False False False False False]\n",
      " [False  True False False  True False False  True False  True]]\n"
     ]
    }
   ],
   "source": [
    "mask = (array1 > 50) & (array2 > 50)\n",
    "print (mask)"
   ]
  },
  {
   "cell_type": "markdown",
   "metadata": {},
   "source": [
    "## Setting values based on mask\n",
    "\n",
    "We can use masks to reassign values only for elements that meet the given critera. For example we can set the values of all cells with a value less than 50 to zero, and set all other values to 1."
   ]
  },
  {
   "cell_type": "code",
   "execution_count": 17,
   "metadata": {},
   "outputs": [
    {
     "name": "stdout",
     "output_type": "stream",
     "text": [
      "Array at sttart:\n",
      "[[73  6 10 91  7 10 75 71 38 66]\n",
      " [84 65 81  5 44 32 29 13 47 56]\n",
      " [42 11  2 81 26 49  2 32 17 25]\n",
      " [60 91 41 56 76 48 19 65 68 68]]\n",
      "\n",
      "New array\n",
      "[[1 0 0 1 0 0 1 1 0 1]\n",
      " [1 1 1 0 0 0 0 0 0 1]\n",
      " [0 0 0 1 0 0 0 0 0 0]\n",
      " [1 1 0 1 1 0 0 1 1 1]]\n"
     ]
    }
   ],
   "source": [
    "print ('Array at sttart:')\n",
    "print (array1)\n",
    "mask = array1 < 50\n",
    "array1[mask] = 0\n",
    "mask = mask != True # invert mask\n",
    "array1[mask] = 1\n",
    "print('\\nNew array')\n",
    "print (array1)"
   ]
  },
  {
   "cell_type": "markdown",
   "metadata": {},
   "source": [
    "We can shorten this, by making the mask implicit in the assignment command. "
   ]
  },
  {
   "cell_type": "code",
   "execution_count": 18,
   "metadata": {},
   "outputs": [
    {
     "name": "stdout",
     "output_type": "stream",
     "text": [
      "New array2:\n",
      "[[0 0 1 0 1 0 1 0 0 0]\n",
      " [1 0 0 0 0 0 0 1 1 1]\n",
      " [0 0 1 1 1 0 1 1 0 0]\n",
      " [0 1 0 0 1 1 0 1 0 1]]\n"
     ]
    }
   ],
   "source": [
    "array2[array2<50] = 0\n",
    "array2[array2>=50] = 1\n",
    "\n",
    "print('New array2:')\n",
    "print(array2)"
   ]
  },
  {
   "cell_type": "markdown",
   "metadata": {},
   "source": [
    "## Miscellaneous examples\n",
    "\n",
    "Select columns where the average value across the column is greater than the average across the whole array, and return both the columns and the column number."
   ]
  },
  {
   "cell_type": "code",
   "execution_count": 30,
   "metadata": {},
   "outputs": [
    {
     "name": "stdout",
     "output_type": "stream",
     "text": [
      "Selected columns:\n",
      "[0 1 3 4 8 9]\n",
      "\n",
      "Seelcted data:\n",
      "[[76 98 95 67 24 60]\n",
      " [57 81 59 39 54 61]\n",
      " [71 84 74 90 99 80]\n",
      " [49 40 74 22 47 24]]\n"
     ]
    }
   ],
   "source": [
    "array = np.random.randint(0,100,size=(4,10))\n",
    "number_of_columns = array.shape[1]\n",
    "column_list = np.arange(0, number_of_columns) # create a list of column ids\n",
    "array_average = array.mean()\n",
    "column_average = array.mean(axis=0)\n",
    "column_average_greater_than_array_average = column_average > array_average\n",
    "selected_columns = column_list[column_average_greater_than_array_average]\n",
    "selected_data = array[:,column_average_greater_than_array_average]\n",
    "\n",
    "print ('Selected columns:')\n",
    "print (selected_columns)\n",
    "print ('\\nSeelcted data:')\n",
    "print (selected_data)"
   ]
  },
  {
   "cell_type": "code",
   "execution_count": null,
   "metadata": {},
   "outputs": [],
   "source": []
  }
 ],
 "metadata": {
  "kernelspec": {
   "display_name": "Python 3",
   "language": "python",
   "name": "python3"
  },
  "language_info": {
   "codemirror_mode": {
    "name": "ipython",
    "version": 3
   },
   "file_extension": ".py",
   "mimetype": "text/x-python",
   "name": "python",
   "nbconvert_exporter": "python",
   "pygments_lexer": "ipython3",
   "version": "3.6.4"
  }
 },
 "nbformat": 4,
 "nbformat_minor": 2
}
