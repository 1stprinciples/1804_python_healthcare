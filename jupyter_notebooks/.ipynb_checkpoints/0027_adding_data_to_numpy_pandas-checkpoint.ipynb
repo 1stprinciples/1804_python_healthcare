{
 "cells": [
  {
   "cell_type": "raw",
   "metadata": {},
   "source": [
    "# Adding data to NumPy and Pandas\n",
    "\n",
    "## Numpy\n",
    "\n",
    "### Adding more rows of data\n",
    "\n",
    "To add more rows to an exisitng numpy array use the <em>vstack</em> method which can add multiple or single rows. New data may be in the form of a numpy array or a list All combined data must have the same number of columns."
   ]
  },
  {
   "cell_type": "code",
   "execution_count": 12,
   "metadata": {},
   "outputs": [
    {
     "name": "stdout",
     "output_type": "stream",
     "text": [
      "[[ 1  2  3  4  5]\n",
      " [ 6  7  8  9 10]\n",
      " [11 12 13 14 15]\n",
      " [16 17 18 19 20]\n",
      " [21 22 23 24 25]\n",
      " [26 27 28 29 30]]\n"
     ]
    }
   ],
   "source": [
    "import numpy as np\n",
    "\n",
    "# Starting with a NumPy array\n",
    "array1 = np.array([[1,2,3,4,5],\n",
    "         [6,7,8,9,10],\n",
    "         [11,12,13,14,15]])\n",
    "\n",
    "# An additional 2d list\n",
    "array2 = [[16,17,18,19,20],\n",
    "         [21,22,23,24,25]]\n",
    "\n",
    "# An additional single row Numpy array\n",
    "array3 = np.array([26,27,28,29,30])\n",
    "\n",
    "# We will combine all data into existing array, array1\n",
    "# But a new name could be given\n",
    "array1 = np.vstack([array1, array2, array3])\n",
    "\n",
    "print (array1)"
   ]
  },
  {
   "cell_type": "markdown",
   "metadata": {},
   "source": [
    "### Adding more columns of data\n",
    "\n",
    "To add more columns to an exisitng numpy array use the <em>hstack</em> method which can add multiple or single rows. All combined data must have the same number of rows."
   ]
  },
  {
   "cell_type": "code",
   "execution_count": 10,
   "metadata": {},
   "outputs": [
    {
     "name": "stdout",
     "output_type": "stream",
     "text": [
      "[[ 1  2  3  4  5]\n",
      " [ 6  7  8  9 10]\n",
      " [11 12 13 14 15]]\n"
     ]
    }
   ],
   "source": [
    "import numpy as np\n",
    "\n",
    "# Start with a numpy array\n",
    "array1 = np.array([[1,2],\n",
    "         [6,7],\n",
    "         [11,12]])\n",
    "\n",
    "# an additional multi-row numpy array\n",
    "array2 = np.array([[3,4],\n",
    "         [8,9],\n",
    "         [13,14]])\n",
    "# an additional single column list\n",
    "array3 = [[5],\n",
    "         [10],\n",
    "         [15]]\n",
    "\n",
    "array1 = np.hstack([array1, array2, array3])\n",
    "\n",
    "print (array1)\n"
   ]
  },
  {
   "cell_type": "markdown",
   "metadata": {},
   "source": [
    "## Pandas\n",
    "\n"
   ]
  },
  {
   "cell_type": "markdown",
   "metadata": {},
   "source": [
    "### Adding more rows of data"
   ]
  },
  {
   "cell_type": "code",
   "execution_count": 9,
   "metadata": {},
   "outputs": [],
   "source": [
    "#names = ['Gandolf','Gimli','Frodo','Legolas','Bilbo']\n",
    "#types = ['Wizard','Dwarf','Hobbit','Elf','Hobbit']\n",
    "#magic = [10, 1, 4, 6, 4]\n",
    "#aggression = [7, 10, 2, 5, 1]\n",
    "#stealth = [8, 2, 5, 10, 5]\n",
    "\n",
    "import pandas as pd\n",
    "\n",
    "df1 =pd.DataFrame()\n",
    "\n",
    "names = ['Gandolf','Gimli']\n",
    "types = ['Wizard','Dwarf']\n",
    "magic = [10, 1]\n",
    "aggression = [7, 10,]\n",
    "stealth = [8, 2]\n",
    "\n",
    "df1['names'] = names\n",
    "df1['type'] = types\n",
    "df1['magic_power'] = magic\n",
    "df1['aggression'] = aggression\n",
    "df1['stealth'] = stealth\n",
    "\n",
    "df2=[[]]"
   ]
  },
  {
   "cell_type": "code",
   "execution_count": null,
   "metadata": {},
   "outputs": [],
   "source": []
  }
 ],
 "metadata": {
  "kernelspec": {
   "display_name": "Python 3",
   "language": "python",
   "name": "python3"
  },
  "language_info": {
   "codemirror_mode": {
    "name": "ipython",
    "version": 3
   },
   "file_extension": ".py",
   "mimetype": "text/x-python",
   "name": "python",
   "nbconvert_exporter": "python",
   "pygments_lexer": "ipython3",
   "version": "3.6.4"
  }
 },
 "nbformat": 4,
 "nbformat_minor": 2
}
