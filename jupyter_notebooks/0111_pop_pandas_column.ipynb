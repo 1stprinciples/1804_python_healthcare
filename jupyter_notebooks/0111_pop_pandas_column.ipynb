{
 "cells": [
  {
   "cell_type": "markdown",
   "metadata": {},
   "source": [
    "# Using 'pop' to remove a Pandas DataFrame column and transfer to a new variable\n",
    "\n",
    "Sometimes we may want to remove a column from a DataFrame, but at the same time transfer that column to a new variable to perform some work on it. An example is re-coding a column as shown below where we will convert a text male/female column into a number 0/1 male column.\n",
    "\n",
    "## Create a dataframe"
   ]
  },
  {
   "cell_type": "code",
   "execution_count": 1,
   "metadata": {},
   "outputs": [
    {
     "name": "stdout",
     "output_type": "stream",
     "text": [
      "   name  age gender  height\n",
      "0   Sam   22      f    1.64\n",
      "1  Bill   34      m    1.85\n",
      "2   Bob   18      m    1.70\n",
      "3   Ian   34      m    1.75\n",
      "4    Jo   76      f    1.63\n",
      "5  Anne   54      f    1.79\n",
      "6  Carl   21      m    1.70\n",
      "7  Toni    8      f    1.68\n"
     ]
    }
   ],
   "source": [
    "# Create pandas data frame\n",
    "\n",
    "import pandas as pd\n",
    "\n",
    "name = ['Sam', 'Bill', 'Bob', 'Ian', 'Jo', 'Anne', 'Carl', 'Toni']\n",
    "age = [22, 34, 18, 34, 76, 54, 21, 8]\n",
    "gender = ['f', 'm', 'm', 'm', 'f', 'f', 'm', 'f']\n",
    "height = [1.64, 1.85, 1.70, 1.75, 1.63, 1.79, 1.70, 1.68]\n",
    "\n",
    "people = pd.DataFrame()\n",
    "people['name'] = name\n",
    "people['age'] = age\n",
    "people['gender'] = gender\n",
    "people['height'] = height\n",
    "\n",
    "print(people)"
   ]
  },
  {
   "cell_type": "markdown",
   "metadata": {},
   "source": [
    "# Pop a column (to code differently)\n",
    "\n",
    "Rather than text male/female we'll pull out that column ad convert to 0 or 1 for male."
   ]
  },
  {
   "cell_type": "code",
   "execution_count": 2,
   "metadata": {},
   "outputs": [
    {
     "name": "stdout",
     "output_type": "stream",
     "text": [
      "   name  age  height  male\n",
      "0   Sam   22    1.64     0\n",
      "1  Bill   34    1.85     1\n",
      "2   Bob   18    1.70     1\n",
      "3   Ian   34    1.75     1\n",
      "4    Jo   76    1.63     0\n",
      "5  Anne   54    1.79     0\n",
      "6  Carl   21    1.70     1\n",
      "7  Toni    8    1.68     0\n"
     ]
    }
   ],
   "source": [
    "# Pop column\n",
    "people_gender = people.pop('gender') # extracts and removes gender\n",
    "\n",
    "# Recode (using == gves True/False, but in Python that also has numerical values of 1/0)\n",
    "\n",
    "male = (people_gender == 'm') * 1 # 'm' is true is converted to number\n",
    "\n",
    "# Put new column into DataFrame and print\n",
    "people['male'] = male\n",
    "print (people)"
   ]
  }
 ],
 "metadata": {
  "kernelspec": {
   "display_name": "Python 3",
   "language": "python",
   "name": "python3"
  },
  "language_info": {
   "codemirror_mode": {
    "name": "ipython",
    "version": 3
   },
   "file_extension": ".py",
   "mimetype": "text/x-python",
   "name": "python",
   "nbconvert_exporter": "python",
   "pygments_lexer": "ipython3",
   "version": "3.7.1"
  }
 },
 "nbformat": 4,
 "nbformat_minor": 2
}
