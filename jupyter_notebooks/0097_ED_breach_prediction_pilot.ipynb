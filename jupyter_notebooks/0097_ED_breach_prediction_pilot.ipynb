{
 "cells": [
  {
   "cell_type": "markdown",
   "metadata": {},
   "source": [
    "# 97: Simple machine learning model to predict emergency department (ED) breaches of the four-hour target\n",
    "\n",
    "In England emergency departments have a target that 95% of patients should be admitted or discharged from ED within four hours. Patients waiting more than four hours are known as 'breaches'\n",
    "\n",
    "This notebook explores predicting emergency department (ED) breaches (patients taking more than 4 hours to be discharged or admitted).\n",
    "\n",
    "The model receives data every 2 hours and predicts whether there will be a breach in the next 2 hours.\n",
    "\n",
    "It uses some basic ED data alongside whole-hospital data (number of occupied beds and total beds) to try to predict whether there are likely to be breaches in the next two hours. It uses a simple logistic regression model to achieve 80% accuracy in predicting breaches. Sensitivity may be adjusted to balance accuracy in predicting beach and non-breaching episodes (80% accuracy may be be simultaneousness achieved in both)."
   ]
  },
  {
   "cell_type": "markdown",
   "metadata": {},
   "source": [
    "## Load and process data\n",
    "\n",
    "Data is available at https://gitlab.com/michaelallen1966/1804_python_healthcare_wordpress/blob/master/data/ed_1.csv. \n",
    "\n",
    "Download the data file and save it in the same directory as the python code file you will build up.\n",
    "\n",
    "This code can also be downloaded:\n",
    "\n",
    "py file: https://gitlab.com/michaelallen1966/1804_python_healthcare_wordpress/blob/master/py_files/0097_ED_breach_prediction_pilot.py\n",
    "\n",
    "jupyer-notebook: https://gitlab.com/michaelallen1966/1804_python_healthcare_wordpress/blob/master/jupyter_notebooks/0097_ED_breach_prediction_pilot.ipynb\n"
   ]
  },
  {
   "cell_type": "code",
   "execution_count": 1,
   "metadata": {},
   "outputs": [],
   "source": [
    "import pandas as pd\n",
    "data = pd.read_csv('ed_1.csv')"
   ]
  },
  {
   "cell_type": "markdown",
   "metadata": {},
   "source": [
    "Show data columns:"
   ]
  },
  {
   "cell_type": "code",
   "execution_count": 2,
   "metadata": {},
   "outputs": [
    {
     "name": "stdout",
     "output_type": "stream",
     "text": [
      "['snapshot_id', 'snapshot_date', 'snapshot_time', 'Monday', 'Tuesday', 'Wednesday', 'Thursday', 'Friday', 'Saturday', 'Sunday', 'Number of Patients In department >= 4 Hours', 'Total Number of Patients in the Department', 'Number of Patients in Resus', 'Number of Patients Registered in Last 60 Minutes', 'Number of Patients Waiting Triage', 'Number of Patients Waiting to be Seen (ED)', 'Number of Patients Waiting to be Seen (Medical)', 'Number of Patients Waiting to be Seen (Surgery)', 'Number of Patients > 3 Hours', 'Number of Patients Waiting a Bed', 'Number of Patients Left Department in Last 60 Minutes', 'Free_beds', 'Breach_in_next_timeslot']\n"
     ]
    }
   ],
   "source": [
    "print (list(data))"
   ]
  },
  {
   "cell_type": "markdown",
   "metadata": {},
   "source": [
    "Separate data into features (X) and label (Y) to predict. Y is whether there are breaches in the following 2 hours."
   ]
  },
  {
   "cell_type": "code",
   "execution_count": 3,
   "metadata": {},
   "outputs": [],
   "source": [
    "X = data.loc[:,\"Monday\":\"Free_beds\"]\n",
    "y = data['Breach_in_next_timeslot']"
   ]
  },
  {
   "cell_type": "markdown",
   "metadata": {},
   "source": [
    "Let's see what proportion of 2 hour epochs have a breach:"
   ]
  },
  {
   "cell_type": "code",
   "execution_count": 4,
   "metadata": {},
   "outputs": [
    {
     "name": "stdout",
     "output_type": "stream",
     "text": [
      "0.6575510659671838\n"
     ]
    }
   ],
   "source": [
    "print (data['Breach_in_next_timeslot'].mean())"
   ]
  },
  {
   "cell_type": "markdown",
   "metadata": {},
   "source": [
    "## Split data in training and test sets"
   ]
  },
  {
   "cell_type": "code",
   "execution_count": 5,
   "metadata": {},
   "outputs": [],
   "source": [
    "from sklearn.model_selection import train_test_split\n",
    "X_train,X_test,y_train,y_test=train_test_split(X,y,test_size=0.25)"
   ]
  },
  {
   "cell_type": "markdown",
   "metadata": {},
   "source": [
    "## Normalise data with standard scaling"
   ]
  },
  {
   "cell_type": "code",
   "execution_count": 6,
   "metadata": {},
   "outputs": [],
   "source": [
    "from sklearn.preprocessing import StandardScaler\n",
    "\n",
    "# Initialise a new scaling object for normalising input data\n",
    "sc=StandardScaler()\n",
    "\n",
    "# Set up the scaler just on the training set\n",
    "sc.fit(X_train)\n",
    "\n",
    "# Apply the scaler to the training and test sets\n",
    "X_train_std=sc.transform(X_train)\n",
    "X_test_std=sc.transform(X_test)"
   ]
  },
  {
   "cell_type": "markdown",
   "metadata": {},
   "source": [
    "## Build a logistic regression model\n",
    "\n",
    "C=1000 sets low regularisation. If accuracy of training data is signficiantly higher than accuracy of test data this should be reduced in 10-fold or 3-fold steps to maximise accuracy of test data.\n",
    "\n",
    "(Note: the ';' at the end of the last line suppresses model description output in the Jupyter Notebook)"
   ]
  },
  {
   "cell_type": "code",
   "execution_count": 7,
   "metadata": {},
   "outputs": [],
   "source": [
    "from sklearn.linear_model import LogisticRegression\n",
    "\n",
    "ml = LogisticRegression(C=1000)\n",
    "ml.fit(X_train_std,y_train);"
   ]
  },
  {
   "cell_type": "markdown",
   "metadata": {},
   "source": [
    "## Predict training and test set labels\n",
    "\n",
    "Our model is now built. We can now predict breaches for training and test sets. The results for the test set gives the better description of accuracy, but it is useful to calculate both to look for 'over-fitting'. If the training data has significantly better accuracy than the test data then it is likely the emodel is 'over-fitted' to the training data, and the regularisation term (C) in the model fit above should be reduced step-wise - this will reduce accuracy of predicting the training data, but will increase the accuracy of the test data, though too high regularisation (low C) will reduce the accuracy of both predicting training and test data."
   ]
  },
  {
   "cell_type": "code",
   "execution_count": 8,
   "metadata": {},
   "outputs": [],
   "source": [
    "# Predict training and test set labels\n",
    "y_pred_train = ml.predict(X_train_std)\n",
    "y_pred_test = ml.predict(X_test_std)"
   ]
  },
  {
   "cell_type": "markdown",
   "metadata": {},
   "source": [
    "## Test accuracy"
   ]
  },
  {
   "cell_type": "code",
   "execution_count": 9,
   "metadata": {},
   "outputs": [
    {
     "name": "stdout",
     "output_type": "stream",
     "text": [
      "Accuracy of predicting training data = 0.8109837773478196\n",
      "Accuracy of predicting test data = 0.8084821428571428\n"
     ]
    }
   ],
   "source": [
    "import numpy as np\n",
    "accuracy_train = np.mean(y_pred_train == y_train)\n",
    "accuracy_test = np.mean(y_pred_test == y_test)\n",
    "print ('Accuracy of predicting training data =', accuracy_train)\n",
    "print ('Accuracy of predicting test data =', accuracy_test)"
   ]
  },
  {
   "cell_type": "markdown",
   "metadata": {},
   "source": [
    "## Display weights (coefficients) of model"
   ]
  },
  {
   "cell_type": "code",
   "execution_count": 10,
   "metadata": {},
   "outputs": [
    {
     "name": "stdout",
     "output_type": "stream",
     "text": [
      "                                              feature    weight\n",
      "0                                              Monday  0.050776\n",
      "1                                             Tuesday -0.017214\n",
      "2                                           Wednesday -0.050666\n",
      "3                                            Thursday  0.023890\n",
      "4                                              Friday  0.004309\n",
      "5                                            Saturday  0.004788\n",
      "6                                              Sunday -0.015072\n",
      "7         Number of Patients In department >= 4 Hours  1.544976\n",
      "8          Total Number of Patients in the Department  0.702246\n",
      "9                         Number of Patients in Resus  0.306031\n",
      "10   Number of Patients Registered in Last 60 Minutes -0.539412\n",
      "11                  Number of Patients Waiting Triage  0.047270\n",
      "12         Number of Patients Waiting to be Seen (ED)  0.114584\n",
      "13    Number of Patients Waiting to be Seen (Medical) -0.028709\n",
      "14    Number of Patients Waiting to be Seen (Surgery) -0.000442\n",
      "15                       Number of Patients > 3 Hours  1.193489\n",
      "16                   Number of Patients Waiting a Bed -0.028263\n",
      "17  Number of Patients Left Department in Last 60 ... -0.022188\n",
      "18                                          Free_beds -0.369558\n"
     ]
    }
   ],
   "source": [
    "# Create table of weights\n",
    "weights_table = pd.DataFrame()\n",
    "weights_table['feature'] = list(X)\n",
    "weights_table['weight'] = ml.coef_[0]\n",
    "print(weights_table)"
   ]
  },
  {
   "cell_type": "markdown",
   "metadata": {},
   "source": [
    "## Define a function for sensitivity and specificity\n",
    "\n",
    "Sensitivity = proportion of breaching periods correctly identified\n",
    "Specificity = proportion of breaching periods correctly identified"
   ]
  },
  {
   "cell_type": "code",
   "execution_count": 11,
   "metadata": {},
   "outputs": [],
   "source": [
    "def calculate_sensitivity_specificity(y_test, y_pred_test):\n",
    "    # Note: More parameters are defined than necessary. \n",
    "    # This would allow return of other measures other than sensitivity and specificity\n",
    "    \n",
    "    # Get true/false for whether a breach actually occurred\n",
    "    actual_pos = y_test == 1\n",
    "    actual_neg = y_test == 0\n",
    "    \n",
    "    # Get true and false test (true test match actual, false tests differ from actual)\n",
    "    true_pos = (y_pred_test == 1) & (actual_pos)\n",
    "    false_pos = (y_pred_test == 1) & (actual_neg)\n",
    "    true_neg = (y_pred_test == 0) & (actual_neg)\n",
    "    false_neg = (y_pred_test == 0) & (actual_pos)\n",
    "    \n",
    "    # Calculate accuracy\n",
    "    accuracy = np.mean(y_pred_test == y_test)\n",
    "    \n",
    "    # Calculate sensitivity and specificity\n",
    "    sensitivity = np.sum(true_pos) / np.sum(actual_pos)\n",
    "    specificity = np.sum(true_neg) / np.sum(actual_neg)\n",
    "    \n",
    "    return sensitivity, specificity, accuracy"
   ]
  },
  {
   "cell_type": "markdown",
   "metadata": {},
   "source": [
    "Show sensitivty and specificity:"
   ]
  },
  {
   "cell_type": "code",
   "execution_count": 12,
   "metadata": {},
   "outputs": [
    {
     "name": "stdout",
     "output_type": "stream",
     "text": [
      "Sensitivity: 0.8430583501006036\n",
      "Specificity: 0.739652870493992\n",
      "Accuracy: 0.8084821428571428\n"
     ]
    }
   ],
   "source": [
    "sensitivity, specificity, accuracy = calculate_sensitivity_specificity(y_test, y_pred_test)\n",
    "print ('Sensitivity:', sensitivity)\n",
    "print ('Specificity:', specificity)\n",
    "print ('Accuracy:', accuracy)"
   ]
  },
  {
   "cell_type": "markdown",
   "metadata": {},
   "source": [
    "So we are better at detecting breaches than non-breaches. This is likely because breaching sessions occur more often. Let's adjust our model cut-off to balance the accuracy out. We'll vary the cut-off we use and construct a sensitivity/specificity plot (very similar to a 'Receiver-Operator Curve' or 'ROC')."
   ]
  },
  {
   "cell_type": "markdown",
   "metadata": {},
   "source": [
    "# Balancing sensitivity and specificity"
   ]
  },
  {
   "cell_type": "code",
   "execution_count": 13,
   "metadata": {},
   "outputs": [],
   "source": [
    "cuttoff = np.arange (0.01,1.01,0.01)\n",
    "sensitivity_results = []\n",
    "specificity_results = []\n",
    "\n",
    "\n",
    "for threshold in cuttoff:\n",
    "    # linear regression model has .predict+proba  method to return \n",
    "    # probability of outcomes. Some methods such as svc use \n",
    "    # .decision_function to return probability\n",
    "        \n",
    "    # Get test results \n",
    "    y_pred_probability = ml.predict_proba(X_test_std)\n",
    "    \n",
    "    # Check probability of positive classification is >trhreshold\n",
    "    y_pred_test = (y_pred_probability[:,1] >= threshold)\n",
    "    \n",
    "    # Convert boolean to 0/1 (could also simply multiple by 1)\n",
    "    y_pred_test = y_pred_test.astype(int)\n",
    "    \n",
    "    # Get sensitivity and specificity\n",
    "    sensitivity, specificity, accuracy = \\\n",
    "        calculate_sensitivity_specificity(y_test, y_pred_test)\n",
    "    \n",
    "    # Add results to list of results\n",
    "    sensitivity_results.append(sensitivity)\n",
    "    specificity_results.append(specificity)  \n",
    "    "
   ]
  },
  {
   "cell_type": "markdown",
   "metadata": {},
   "source": [
    "Plotting specificity against sensitivity:"
   ]
  },
  {
   "cell_type": "code",
   "execution_count": 14,
   "metadata": {},
   "outputs": [
    {
     "data": {
      "image/png": "[encoded data removed]",
      "text/plain": [
       "<Figure size 360x360 with 1 Axes>"
      ]
     },
     "metadata": {
      "needs_background": "light"
     },
     "output_type": "display_data"
    }
   ],
   "source": [
    "import matplotlib.pyplot as plt\n",
    "\n",
    "%matplotlib inline\n",
    "\n",
    "fig = plt.figure(figsize=(5,5))\n",
    "ax1 = fig.add_subplot(111)\n",
    "\n",
    "x = sensitivity_results\n",
    "y = specificity_results\n",
    "\n",
    "ax1.grid(True, which='both')\n",
    "ax1.set_xlabel('Sensitivity (proportion of breaching\\nperiods predicted correctly)')\n",
    "ax1.set_ylabel('Specificity (proportion of non-breaching\\nperiods predicted correctly)')\n",
    "\n",
    "\n",
    "plt.plot(x,y)\n",
    "plt.show()"
   ]
  },
  {
   "cell_type": "markdown",
   "metadata": {},
   "source": [
    "Plotting specificity against sensitivity shows we can adjust our machine learning cut-off to simultaneously achieve 80% accuracy in predicting likelihood of breaches in the next 2 hours."
   ]
  }
 ],
 "metadata": {
  "kernelspec": {
   "display_name": "Python 3",
   "language": "python",
   "name": "python3"
  },
  "language_info": {
   "codemirror_mode": {
    "name": "ipython",
    "version": 3
   },
   "file_extension": ".py",
   "mimetype": "text/x-python",
   "name": "python",
   "nbconvert_exporter": "python",
   "pygments_lexer": "ipython3",
   "version": "3.7.0"
  }
 },
 "nbformat": 4,
 "nbformat_minor": 2
}
