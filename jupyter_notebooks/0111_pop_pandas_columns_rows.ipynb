{
 "cells": [
  {
   "cell_type": "markdown",
   "metadata": {},
   "source": [
    "# Using 'pop' to remove Pandas DataFrame columns or rows and transfer to new variable\n",
    "\n",
    "## Create a dataframe"
   ]
  },
  {
   "cell_type": "code",
   "execution_count": 1,
   "metadata": {},
   "outputs": [
    {
     "name": "stdout",
     "output_type": "stream",
     "text": [
      "   name  age gender  height\n",
      "0   Sam   22      f    1.64\n",
      "1  Bill   34      m    1.85\n",
      "2   Bob   18      m    1.70\n",
      "3   Ian   34      m    1.75\n",
      "4    Jo   76      f    1.63\n",
      "5  Anne   54      f    1.79\n",
      "6  Carl   21      m    1.70\n",
      "7  Toni    8      f    1.68\n"
     ]
    }
   ],
   "source": [
    "# Create pandas data frame\n",
    "\n",
    "import pandas as pd\n",
    "\n",
    "name = ['Sam', 'Bill', 'Bob', 'Ian', 'Jo', 'Anne', 'Carl', 'Toni']\n",
    "age = [22, 34, 18, 34, 76, 54, 21, 8]\n",
    "gender = ['f', 'm', 'm', 'm', 'f', 'f', 'm', 'f']\n",
    "height = [1.64, 1.85, 1.70, 1.75, 1.63, 1.79, 1.70, 1.68]\n",
    "\n",
    "people = pd.DataFrame()\n",
    "people['name'] = name\n",
    "people['age'] = age\n",
    "people['gender'] = gender\n",
    "people['height'] = height\n",
    "\n",
    "print(people)"
   ]
  },
  {
   "cell_type": "markdown",
   "metadata": {},
   "source": [
    "# Pop a column (to code differently)\n",
    "\n",
    "Rather than text male/female we'll pull out that column ad convert to 0 or 1 for male."
   ]
  },
  {
   "cell_type": "code",
   "execution_count": 2,
   "metadata": {},
   "outputs": [
    {
     "name": "stdout",
     "output_type": "stream",
     "text": [
      "   name  age  height  male\n",
      "0   Sam   22    1.64     0\n",
      "1  Bill   34    1.85     1\n",
      "2   Bob   18    1.70     1\n",
      "3   Ian   34    1.75     1\n",
      "4    Jo   76    1.63     0\n",
      "5  Anne   54    1.79     0\n",
      "6  Carl   21    1.70     1\n",
      "7  Toni    8    1.68     0\n"
     ]
    }
   ],
   "source": [
    "people_gender = people.pop('gender') # extracts and removes gender\n",
    "male = (people_gender == 'm') * 1 # 'm' is true is converted to number\n",
    "people['male'] = male\n",
    "print (people)"
   ]
  },
  {
   "cell_type": "markdown",
   "metadata": {},
   "source": [
    "## Pop rows by index (e.g. to split data set)"
   ]
  },
  {
   "cell_type": "markdown",
   "metadata": {},
   "source": [
    "Here we take a random sample (25%) of rows and remove them from the orginal data by dropping index values."
   ]
  },
  {
   "cell_type": "code",
   "execution_count": 3,
   "metadata": {},
   "outputs": [
    {
     "name": "stdout",
     "output_type": "stream",
     "text": [
      "Sample 1\n",
      "   name  age  height  male\n",
      "6  Carl   21     1.7     1\n",
      "2   Bob   18     1.7     1\n",
      "\n",
      "Sample 2\n",
      "   name  age  height  male\n",
      "0   Sam   22    1.64     0\n",
      "1  Bill   34    1.85     1\n",
      "3   Ian   34    1.75     1\n",
      "4    Jo   76    1.63     0\n",
      "5  Anne   54    1.79     0\n",
      "7  Toni    8    1.68     0\n",
      "Original DataFrame\n",
      "   name  age  height  male\n",
      "0   Sam   22    1.64     0\n",
      "1  Bill   34    1.85     1\n",
      "2   Bob   18    1.70     1\n",
      "3   Ian   34    1.75     1\n",
      "4    Jo   76    1.63     0\n",
      "5  Anne   54    1.79     0\n",
      "6  Carl   21    1.70     1\n",
      "7  Toni    8    1.68     0\n"
     ]
    }
   ],
   "source": [
    "# Create a copy of the d=DataFrame to work from\n",
    "# Omit random state to have different random split each run\n",
    "people_copy = people.copy()\n",
    "sample_1 = people_copy.sample(frac=0.25, random_state=0)\n",
    "sample_2 = people_copy.drop(sample_1.index)\n",
    "\n",
    "print ('Sample 1')\n",
    "print (sample_1)\n",
    "print ('\\nSample 2')\n",
    "print (sample_2)\n",
    "print ('\\nOriginal DataFrame')\n",
    "print (people)"
   ]
  }
 ],
 "metadata": {
  "kernelspec": {
   "display_name": "Python 3",
   "language": "python",
   "name": "python3"
  },
  "language_info": {
   "codemirror_mode": {
    "name": "ipython",
    "version": 3
   },
   "file_extension": ".py",
   "mimetype": "text/x-python",
   "name": "python",
   "nbconvert_exporter": "python",
   "pygments_lexer": "ipython3",
   "version": "3.7.0"
  }
 },
 "nbformat": 4,
 "nbformat_minor": 2
}
