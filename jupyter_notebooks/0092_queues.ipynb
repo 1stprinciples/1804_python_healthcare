{
 "cells": [
  {
   "cell_type": "markdown",
   "metadata": {},
   "source": [
    "# 92: Queues\n",
    "\n",
    "Python queues allow objects of any kind to be added to and removed from queues.\n",
    "\n",
    "Here are three basic types of queue:\n",
    "\n",
    "1) FIFO (First In First Out)\n",
    "2) LIFO (Last In First Out)\n",
    "3) Priority (each item is assigned a priority in the queue)\n",
    "\n",
    "Note: Python queues are not iterable; we cannot look through objects in the queue. It may at times be useful to maintain a separate list of queued items.\n",
    "\n",
    "## FIFO (First In First Out) queue\n",
    "\n",
    "Here we will add numbers to a queue, but any Python object may be added to a queue."
   ]
  },
  {
   "cell_type": "code",
   "execution_count": 4,
   "metadata": {},
   "outputs": [
    {
     "name": "stdout",
     "output_type": "stream",
     "text": [
      "FIFO (First In First Out) Queue\n",
      "0 1 2 3 4 "
     ]
    }
   ],
   "source": [
    "import queue\n",
    "\n",
    "# FIFO (First In First Out) queue\n",
    "\n",
    "print ('FIFO (First In First Out) Queue')\n",
    "\n",
    "q = queue.Queue()\n",
    "\n",
    "# Add items to queue (add numbers 0 to 4)\n",
    "for item in range(5):\n",
    "    q.put(item) \n",
    "\n",
    "# Retrieve items from queue using a loop. \n",
    "# See additional method below of continually retrieving\n",
    "# until queue is empty.\n",
    "    \n",
    "for item in range(5):\n",
    "    x = q.get() # put item in queue\n",
    "    print (x, end = ' ')"
   ]
  },
  {
   "cell_type": "markdown",
   "metadata": {},
   "source": [
    "## LIFO (Last In First Out)"
   ]
  },
  {
   "cell_type": "code",
   "execution_count": 5,
   "metadata": {},
   "outputs": [
    {
     "name": "stdout",
     "output_type": "stream",
     "text": [
      "\n",
      "LIFO (Last In First Out) Queue\n",
      "4 3 2 1 0 "
     ]
    }
   ],
   "source": [
    "# LIFO (Last In First Out) queue\n",
    "    \n",
    "print ('\\nLIFO (Last In First Out) Queue')\n",
    "\n",
    "q = queue.LifoQueue()\n",
    "\n",
    "for item in range(5):\n",
    "    q.put(item) # put item in queue\n",
    "    \n",
    "# Alternative way of emptying queue\n",
    "\n",
    "while not q.empty():\n",
    "    x = q.get() # put item in queue\n",
    "    print (x, end = ' ')"
   ]
  },
  {
   "cell_type": "markdown",
   "metadata": {},
   "source": [
    "## Priority queue\n",
    "\n",
    "In a priority queue an object is passed to the queue in a tuple. The first item of the tuple is the priority (lower number is higher priority by default), and the second item is the object to be queued. By default items of equal priority are handled as FIFO."
   ]
  },
  {
   "cell_type": "code",
   "execution_count": 6,
   "metadata": {},
   "outputs": [
    {
     "name": "stdout",
     "output_type": "stream",
     "text": [
      "\n",
      "Priority Queue\n",
      "(9, 'Item 0') (15, 'Item 3') (29, 'Item 1') (67, 'Item 2') (83, 'Item 4') "
     ]
    }
   ],
   "source": [
    "# Priority queue\n",
    "\n",
    "import random\n",
    "print ('\\nPriority Queue')\n",
    "\n",
    "q = queue.PriorityQueue()\n",
    "\n",
    "for i in range(5):\n",
    "    priority = random.randint(1,100)\n",
    "    name = 'Item ' + str(i)\n",
    "    item = (priority, name) # A tuple is used to pass priority and item\n",
    "    q.put(item) \n",
    "    \n",
    "while not q.empty():\n",
    "    x = q.get()\n",
    "    print (x, end = ' ')"
   ]
  },
  {
   "cell_type": "code",
   "execution_count": null,
   "metadata": {},
   "outputs": [],
   "source": []
  }
 ],
 "metadata": {
  "kernelspec": {
   "display_name": "Python 3",
   "language": "python",
   "name": "python3"
  },
  "language_info": {
   "codemirror_mode": {
    "name": "ipython",
    "version": 3
   },
   "file_extension": ".py",
   "mimetype": "text/x-python",
   "name": "python",
   "nbconvert_exporter": "python",
   "pygments_lexer": "ipython3",
   "version": "3.6.5"
  }
 },
 "nbformat": 4,
 "nbformat_minor": 2
}
