{
 "cells": [
  {
   "cell_type": "markdown",
   "metadata": {},
   "source": [
    "# POS (Parts of Speech) tagging\n",
    "\n",
    "POS tagging labels words by type of word, which may enhance the quality of information that may be extracted from a piece of text. \n",
    "\n",
    "There are varying sets of tags, but the common universal set is:\n",
    "\n",
    "ADJ: adjective\n",
    "ADP: adposition (preopositions and postpositions)\n",
    "ADV: adverb\n",
    "AUX: auxiliary\n",
    "CCONJ: coordinating conjunction\n",
    "DET: determiner\n",
    "INTJ: interjection\n",
    "NOUN: noun\n",
    "NUM: numeral\n",
    "PRT: particle or other function words\n",
    "PRON: pronoun\n",
    "VERB: verb\n",
    "X: other\n",
    ".: Punctuation\n",
    "\n",
    "Other, more granular sets of tags include those included in the Brown Corpus (a coprpus of text with tags). NLTK can convert more granular data sets to tagged sets.\n",
    "\n",
    "The two most commonly used tagged corpus datasets in NLTK are Penn Treebank and Brown Corpus. Both take text from a wide range of sources and tag words.\n",
    "\n",
    "Details of the brown corpus and Penn treebank tags may be found here:\n",
    "\n",
    "* https://en.wikipedia.org/wiki/Brown_Corpus\n",
    "* http://clu.uni.no/icame/manuals/BROWN/INDEX.HTM\n",
    "* https://www.sketchengine.eu/penn-treebank-tagset/"
   ]
  },
  {
   "cell_type": "markdown",
   "metadata": {},
   "source": [
    "## An example of tagging from the Brown corpus, and conversion to the universal tag set"
   ]
  },
  {
   "cell_type": "code",
   "execution_count": 1,
   "metadata": {},
   "outputs": [
    {
     "name": "stdout",
     "output_type": "stream",
     "text": [
      "[nltk_data] Downloading package brown to /home/michael/nltk_data...\n",
      "[nltk_data]   Package brown is already up-to-date!\n"
     ]
    }
   ],
   "source": [
    "import nltk\n",
    "# Download the brown corpus if it has not previously been downloaded\n",
    "nltk.download('brown');"
   ]
  },
  {
   "cell_type": "code",
   "execution_count": 2,
   "metadata": {},
   "outputs": [
    {
     "name": "stdout",
     "output_type": "stream",
     "text": [
      "[('any', 'DTI'), ('irregularities', 'NNS'), ('took', 'VBD'), ('place', 'NN'), ('.', '.'), ('The', 'AT'), ('jury', 'NN'), ('further', 'RBR'), ('said', 'VBD'), ('in', 'IN'), ('term-end', 'NN'), ('presentments', 'NNS'), ('that', 'CS'), ('the', 'AT'), ('City', 'NN-TL'), ('Executive', 'JJ-TL'), ('Committee', 'NN-TL'), (',', ','), ('which', 'WDT'), ('had', 'HVD')]\n"
     ]
    }
   ],
   "source": [
    "from nltk.corpus import brown\n",
    "# Show a set of tagged words from the Brown corpus\n",
    "print(brown.tagged_words()[20:40])"
   ]
  },
  {
   "cell_type": "markdown",
   "metadata": {},
   "source": [
    "Convert more granular brown tagging to universal tagging."
   ]
  },
  {
   "cell_type": "code",
   "execution_count": 3,
   "metadata": {},
   "outputs": [
    {
     "name": "stdout",
     "output_type": "stream",
     "text": [
      "[('any', 'DET'), ('irregularities', 'NOUN'), ('took', 'VERB'), ('place', 'NOUN'), ('.', '.'), ('The', 'DET'), ('jury', 'NOUN'), ('further', 'ADV'), ('said', 'VERB'), ('in', 'ADP'), ('term-end', 'NOUN'), ('presentments', 'NOUN'), ('that', 'ADP'), ('the', 'DET'), ('City', 'NOUN'), ('Executive', 'ADJ'), ('Committee', 'NOUN'), (',', '.'), ('which', 'DET'), ('had', 'VERB')]\n"
     ]
    }
   ],
   "source": [
    "print(brown.tagged_words(tagset='universal')[20:40])"
   ]
  },
  {
   "cell_type": "markdown",
   "metadata": {},
   "source": [
    "Details of the brown corpus tags may be found here:\n",
    "\n",
    "https://en.wikipedia.org/wiki/Brown_Corpus\n",
    "\n",
    "In the above example the brown tags NNS (plural noun), NN (singlular noun) and NN-TL (singluar noun found in a title) are all converted to the universal tag NOUN."
   ]
  },
  {
   "cell_type": "markdown",
   "metadata": {},
   "source": [
    "## Use of tagging to distinguish between different meanings of the same word\n",
    "\n",
    "Consider the two uses of the word 'left' in the sentence below:"
   ]
  },
  {
   "cell_type": "code",
   "execution_count": 4,
   "metadata": {},
   "outputs": [],
   "source": [
    "text = \"I left the hotel to go to the coffee shop which is on the left of the church\""
   ]
  },
  {
   "cell_type": "markdown",
   "metadata": {},
   "source": [
    "Let's look at how 'left' is tagged in the two sentences:"
   ]
  },
  {
   "cell_type": "code",
   "execution_count": 5,
   "metadata": {},
   "outputs": [
    {
     "name": "stdout",
     "output_type": "stream",
     "text": [
      "Word tags for text: [('I', 'PRON'), ('left', 'VERB'), ('the', 'DET'), ('hotel', 'NOUN'), ('to', 'PRT'), ('go', 'VERB'), ('to', 'PRT'), ('the', 'DET'), ('coffee', 'NOUN'), ('shop', 'NOUN'), ('which', 'DET'), ('is', 'VERB'), ('on', 'ADP'), ('the', 'DET'), ('left', 'NOUN'), ('of', 'ADP'), ('the', 'DET'), ('church', 'NOUN')]\n"
     ]
    }
   ],
   "source": [
    "# Split text into words\n",
    "tokens = nltk.word_tokenize(text)\n",
    "\n",
    "print ('Word tags for text:', nltk.pos_tag(tokens, tagset=\"universal\"))"
   ]
  },
  {
   "cell_type": "markdown",
   "metadata": {},
   "source": [
    "'The first use of 'left' has been identified as a verb, and the second use a noun.\n",
    "\n",
    "So POS-tagging may be used to enhance simple text-based methods, by providing additional information about words taking into account the context of the word. "
   ]
  }
 ],
 "metadata": {
  "kernelspec": {
   "display_name": "Python 3",
   "language": "python",
   "name": "python3"
  },
  "language_info": {
   "codemirror_mode": {
    "name": "ipython",
    "version": 3
   },
   "file_extension": ".py",
   "mimetype": "text/x-python",
   "name": "python",
   "nbconvert_exporter": "python",
   "pygments_lexer": "ipython3",
   "version": "3.7.0"
  }
 },
 "nbformat": 4,
 "nbformat_minor": 2
}
