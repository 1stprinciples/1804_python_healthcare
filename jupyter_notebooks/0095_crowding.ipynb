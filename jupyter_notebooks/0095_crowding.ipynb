{
 "cells": [
  {
   "cell_type": "markdown",
   "metadata": {},
   "source": [
    "# When too many multi-objective solutions exist: selecting solutions based on crowding distances\n",
    "\n",
    "Sometimes in multi-objective algorithms we need to thin out the number of solutions we have.\n",
    "\n",
    "When we are using a Pareto front to select solutions, all solutions are on the optimal front, that is in each solution there is no other solution that is at least as good in all scores, and better in at least one score. We therefore cannot rank solutions by performance. In order to select solutions, if we need to control the number of solutions we are generating we can use 'crowding distances'. Crowding distances give a measure of closeness in performance to other solutions. The crowding distance is the average distance to its two neighbouring solutions.\n",
    "\n",
    "Here we will look at an array of algorithm scores that have two dimensions for each solution (two different scores we wish to optimise). The crowding distance code provided will however work for any number of dimensions/objectives.\n",
    "\n",
    "Let's make an array of scores - all of which would be on a Pareto front."
   ]
  },
  {
   "cell_type": "code",
   "execution_count": 16,
   "metadata": {},
   "outputs": [],
   "source": [
    "import numpy as np\n",
    "\n",
    "test_array = np.array([[12, 0],\n",
    "                       [11.5, 0.5],\n",
    "                       [11, 1],\n",
    "                       [10.8, 1.2],\n",
    "                       [10.5, 1.5],\n",
    "                       [10.3, 1.8],\n",
    "                       [9.5, 2],\n",
    "                       [9, 2.5],\n",
    "                       [7, 3],\n",
    "                       [5, 4],\n",
    "                       [2.5, 6],\n",
    "                       [2, 10],\n",
    "                       [1.5, 11],\n",
    "                       [1, 11.5],\n",
    "                       [0.8, 11.7],\n",
    "                       [0, 12]])"
   ]
  },
  {
   "cell_type": "markdown",
   "metadata": {},
   "source": [
    "We can plot these points. We have cluster of points at the ends and but a more sparse population of points in the middle (though the two end points will have a high crowding distance, because they have no neighbouring points on one side of them)."
   ]
  },
  {
   "cell_type": "code",
   "execution_count": 17,
   "metadata": {},
   "outputs": [
    {
     "data": {
      "image/png": "[encoded data removed]",
      "text/plain": [
       "<Figure size 432x288 with 1 Axes>"
      ]
     },
     "metadata": {
      "needs_background": "light"
     },
     "output_type": "display_data"
    }
   ],
   "source": [
    "import matplotlib.pyplot as plt\n",
    "%matplotlib inline\n",
    "\n",
    "x = test_array[:, 0]\n",
    "y = test_array[:, 1]\n",
    "plt.xlabel('Objective A')\n",
    "plt.ylabel('Objective B')\n",
    "\n",
    "plt.scatter(x,y)\n",
    "plt.show()"
   ]
  },
  {
   "cell_type": "markdown",
   "metadata": {},
   "source": [
    "## Code for calculating crowding\n",
    "\n",
    "Each dimension is normalised between low and high to prevent crowding distances being dominated by scores on larger scales. For each dimension we sort all the scores from low to high. The crowding distance in one dimension for any individual is the distance between the next lowest and next highest score in that dimension. End points have a score of one (which is the range of normalised scores). Each individual will have a crowding score for each dimension (objective). These are summed to give the final crowding score."
   ]
  },
  {
   "cell_type": "code",
   "execution_count": 18,
   "metadata": {},
   "outputs": [],
   "source": [
    "import numpy as np\n",
    "\n",
    "def calculate_crowding(scores):\n",
    "    # Crowding is based on a vector for each individual\n",
    "    # All dimension is normalised between low and high. For any one dimension, all\n",
    "    # solutions are sorted in order low to high. Crowding for chromsome x\n",
    "    # for that score is the difference between the next highest and next\n",
    "    # lowest score. Total crowding value sums all crowding for all scores\n",
    "\n",
    "    population_size = len(scores[:, 0])\n",
    "    number_of_scores = len(scores[0, :])\n",
    "\n",
    "    # create crowding matrix of population (row) and score (column)\n",
    "    crowding_matrix = np.zeros((population_size, number_of_scores))\n",
    "\n",
    "    # normalise scores (ptp is max-min)\n",
    "    normed_scores = (scores - scores.min(0)) / scores.ptp(0)\n",
    "\n",
    "    # calculate crowding distance for each score in turn\n",
    "    for col in range(number_of_scores):\n",
    "        crowding = np.zeros(population_size)\n",
    "\n",
    "        # end points have maximum crowding\n",
    "        crowding[0] = 1\n",
    "        crowding[population_size - 1] = 1\n",
    "\n",
    "        # Sort each score (to calculate crowding between adjacent scores)\n",
    "        sorted_scores = np.sort(normed_scores[:, col])\n",
    "\n",
    "        sorted_scores_index = np.argsort(\n",
    "            normed_scores[:, col])\n",
    "\n",
    "        # Calculate crowding distance for each individual\n",
    "        crowding[1:population_size - 1] = \\\n",
    "            (sorted_scores[2:population_size] -\n",
    "             sorted_scores[0:population_size - 2])\n",
    "\n",
    "        # resort to orginal order (two steps)\n",
    "        re_sort_order = np.argsort(sorted_scores_index)\n",
    "        sorted_crowding = crowding[re_sort_order]\n",
    "\n",
    "        # Record crowding distances\n",
    "        crowding_matrix[:, col] = sorted_crowding\n",
    "\n",
    "    # Sum crowding distances of each score\n",
    "    crowding_distances = np.sum(crowding_matrix, axis=1)\n",
    "\n",
    "    return crowding_distances"
   ]
  },
  {
   "cell_type": "markdown",
   "metadata": {},
   "source": [
    "So, calculating crowding distances for our original array:"
   ]
  },
  {
   "cell_type": "code",
   "execution_count": 19,
   "metadata": {},
   "outputs": [
    {
     "name": "stdout",
     "output_type": "stream",
     "text": [
      "[2.         0.16666667 0.11666667 0.08333333 0.09166667 0.125\n",
      " 0.16666667 0.29166667 0.45833333 0.625      0.75       0.5\n",
      " 0.20833333 0.11666667 0.125      2.        ]\n"
     ]
    }
   ],
   "source": [
    "crowding_distance = calculate_crowding(test_array)\n",
    "\n",
    "print(crowding_distance)"
   ]
  },
  {
   "cell_type": "markdown",
   "metadata": {},
   "source": [
    "We can see our end points have maximum crowding distance (as they have no neighbour on one side). Points close to the end have low crowding score (i.e. close proximity to other solutions), and points in the middle have high crowding scores.\n",
    "\n",
    "We may then use a selection method such as Tournament to choose between any two (or more) individuals when selecting solutions to take forward in an iterative algorithm (such as a genetic algorithm)."
   ]
  },
  {
   "cell_type": "markdown",
   "metadata": {},
   "source": [
    "## Selecting individuals based on crowding score\n",
    "\n",
    "The code below uses Tournament selection to pick a given number of solutions based on crowding scores. In each iteration of a loop two individuals solutions are picked at random. The one with the highest crowding score (greatest distance from neighbouring solutions) is selected and removed from the population that may be picked from."
   ]
  },
  {
   "cell_type": "code",
   "execution_count": 20,
   "metadata": {},
   "outputs": [],
   "source": [
    "import numpy as np\n",
    "import random as rn\n",
    "\n",
    "def reduce_by_crowding(scores, number_to_select):\n",
    "    # This function selects a number of solutions based on tournament of\n",
    "    # crowding distances. Two members of the population are picked at\n",
    "    # random. The one with the higher croding dostance is always picked\n",
    "    \n",
    "    population_ids = np.arange(scores.shape[0])\n",
    "\n",
    "    crowding_distances = calculate_crowding(scores)\n",
    "\n",
    "    picked_population_ids = np.zeros((number_to_select))\n",
    "\n",
    "    picked_scores = np.zeros((number_to_select, len(scores[0, :])))\n",
    "\n",
    "    for i in range(number_to_select):\n",
    "\n",
    "        population_size = population_ids.shape[0]\n",
    "\n",
    "        fighter1ID = rn.randint(0, population_size - 1)\n",
    "\n",
    "        fighter2ID = rn.randint(0, population_size - 1)\n",
    "\n",
    "        # If fighter # 1 is better\n",
    "        if crowding_distances[fighter1ID] >= crowding_distances[\n",
    "            fighter2ID]:\n",
    "\n",
    "            # add solution to picked solutions array\n",
    "            picked_population_ids[i] = population_ids[\n",
    "                fighter1ID]\n",
    "\n",
    "            # Add score to picked scores array\n",
    "            picked_scores[i, :] = scores[fighter1ID, :]\n",
    "\n",
    "            # remove selected solution from available solutions\n",
    "            population_ids = np.delete(population_ids, (fighter1ID),\n",
    "                                       axis=0)\n",
    "\n",
    "            scores = np.delete(scores, (fighter1ID), axis=0)\n",
    "\n",
    "            crowding_distances = np.delete(crowding_distances, (fighter1ID),\n",
    "                                           axis=0)\n",
    "        else:\n",
    "            picked_population_ids[i] = population_ids[fighter2ID]\n",
    "\n",
    "            picked_scores[i, :] = scores[fighter2ID, :]\n",
    "\n",
    "            population_ids = np.delete(population_ids, (fighter2ID), axis=0)\n",
    "\n",
    "            scores = np.delete(scores, (fighter2ID), axis=0)\n",
    "\n",
    "            crowding_distances = np.delete(\n",
    "                crowding_distances, (fighter2ID), axis=0)\n",
    "            \n",
    "    # Convert to integer\n",
    "    picked_population_ids = np.asarray(picked_population_ids, dtype=int)\n",
    "    return (picked_population_ids)"
   ]
  },
  {
   "cell_type": "markdown",
   "metadata": {},
   "source": [
    "Let's use the function to pick eight solutions from our original array (half of our orginal solutions), and plot them. This method is based on random picks, so the results will vary between runs, but you should see your population is 'thinned out' more where points are closely crowded."
   ]
  },
  {
   "cell_type": "code",
   "execution_count": 24,
   "metadata": {},
   "outputs": [
    {
     "data": {
      "image/png": "[encoded data removed]",
      "text/plain": [
       "<Figure size 432x288 with 1 Axes>"
      ]
     },
     "metadata": {
      "needs_background": "light"
     },
     "output_type": "display_data"
    }
   ],
   "source": [
    "selected_solutions_ids = reduce_by_crowding(test_array, 8)\n",
    "selected_solutions = test_array[selected_solutions_ids]\n",
    "\n",
    "x = selected_solutions[:, 0]\n",
    "y = selected_solutions[:, 1]\n",
    "plt.xlabel('Objective A')\n",
    "plt.ylabel('Objective B')\n",
    "\n",
    "plt.scatter(x,y)\n",
    "plt.show()"
   ]
  },
  {
   "cell_type": "code",
   "execution_count": null,
   "metadata": {},
   "outputs": [],
   "source": []
  }
 ],
 "metadata": {
  "kernelspec": {
   "display_name": "Python 3",
   "language": "python",
   "name": "python3"
  },
  "language_info": {
   "codemirror_mode": {
    "name": "ipython",
    "version": 3
   },
   "file_extension": ".py",
   "mimetype": "text/x-python",
   "name": "python",
   "nbconvert_exporter": "python",
   "pygments_lexer": "ipython3",
   "version": "3.7.0"
  }
 },
 "nbformat": 4,
 "nbformat_minor": 2
}
