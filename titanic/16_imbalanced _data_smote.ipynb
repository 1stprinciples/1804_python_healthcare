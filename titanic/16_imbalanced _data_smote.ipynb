{
 "cells": [
  {
   "cell_type": "markdown",
   "metadata": {},
   "source": [
    "# Kaggle Titanic survival - Dealing with imbalanced data by enhancing the minority class with synthetic data (SMOTE: Synthetic Minority Over-sampling Technique)\n",
    "\n",
    "\n",
    "A problem with machine learning models is that they may end up biased towards the majority class, and under-predict the minority class(es).\n",
    "\n",
    "Some models (including sklearn's logistic regression) allow for thresholds of classification to be changed. This can help rebalance classification in models, especially where there is a binary classification (e.g. survived or not).\n",
    "\n",
    "Here we create a more imbalanced data set from the Titanic set, by dropping half the survivors.\n",
    "\n",
    "We then enhance the minority class with synthetic data using a technique called Synthetic Minority Over-sampling Technique (SMOTE). Essentially, SMOTE creates new cases by interpolating between two existing near-neighbough cases.\n",
    "\n",
    "We will use a package, imblearn, for this method. You may install with with: `pip install -U imbalanced-learn`, or `conda install -c conda-forge imbalanced-learn`.\n",
    "\n",
    "We will use the `SMOTENC` method as that allows us to create synthetic data where some of the fields are categorical, rather than continuous, data. For categorical data, this method identifies *k* nearest neighbours and sets a feature label as the most common value among those near neighbours.\n",
    "\n",
    "More on imblearn here: https://imbalanced-learn.org/stable/\n",
    "\n",
    "*Reference*\n",
    "\n",
    "N. V. Chawla, K. W. Bowyer, L. O.Hall, W. P. Kegelmeyer, “SMOTE: synthetic minority over-sampling technique,” Journal of artificial intelligence research, 16, 321-357, 2002\n",
    "\n",
    "In this notebook we will:\n",
    "* Fit a model without SMOTE\n",
    "* Fit a model with SMOTE\n",
    "* Fine-tune SMOTE to correctly predict the proportion of passengers surviving"
   ]
  },
  {
   "cell_type": "code",
   "execution_count": 1,
   "metadata": {},
   "outputs": [],
   "source": [
    "# Hide warnings (to keep notebook tidy; do not usually do this)\n",
    "import warnings\n",
    "warnings.filterwarnings(\"ignore\")"
   ]
  },
  {
   "cell_type": "markdown",
   "metadata": {},
   "source": [
    "## Load modules\n",
    "\n",
    "A standard Anaconda install of Python (https://www.anaconda.com/distribution/) contains all the necessary modules."
   ]
  },
  {
   "cell_type": "code",
   "execution_count": 2,
   "metadata": {},
   "outputs": [],
   "source": [
    "import numpy as np\n",
    "import pandas as pd\n",
    "# Import machine learning methods\n",
    "from sklearn.linear_model import LogisticRegression\n",
    "from sklearn.model_selection import train_test_split\n",
    "from sklearn.preprocessing import StandardScaler\n",
    "from sklearn.model_selection import StratifiedKFold"
   ]
  },
  {
   "cell_type": "markdown",
   "metadata": {},
   "source": [
    "## Load data\n",
    "\n",
    "The section below downloads pre-processed data, and saves it to a subfolder (from where this code is run).\n",
    "If data has already been downloaded that cell may be skipped.\n",
    "\n",
    "Code that was used to pre-process the data ready for machine learning may be found at:\n",
    "https://github.com/MichaelAllen1966/1804_python_healthcare/blob/master/titanic/01_preprocessing.ipynb"
   ]
  },
  {
   "cell_type": "code",
   "execution_count": 3,
   "metadata": {},
   "outputs": [],
   "source": [
    "download_required = True\n",
    "\n",
    "if download_required:\n",
    "    \n",
    "    # Download processed data:\n",
    "    address = 'https://raw.githubusercontent.com/MichaelAllen1966/' + \\\n",
    "                '1804_python_healthcare/master/titanic/data/processed_data.csv'\n",
    "    \n",
    "    data = pd.read_csv(address)\n",
    "\n",
    "    # Create a data subfolder if one does not already exist\n",
    "    import os\n",
    "    data_directory ='./data/'\n",
    "    if not os.path.exists(data_directory):\n",
    "        os.makedirs(data_directory)\n",
    "\n",
    "    # Save data\n",
    "    data.to_csv(data_directory + 'processed_data.csv', index=False)"
   ]
  },
  {
   "cell_type": "code",
   "execution_count": 4,
   "metadata": {},
   "outputs": [],
   "source": [
    "data = pd.read_csv('data/processed_data.csv')"
   ]
  },
  {
   "cell_type": "markdown",
   "metadata": {},
   "source": [
    "The first column is a passenger index number. We will remove this, as this is not part of the original Titanic passenger data."
   ]
  },
  {
   "cell_type": "code",
   "execution_count": 5,
   "metadata": {},
   "outputs": [],
   "source": [
    "# Drop Passengerid (axis=1 indicates we are removing a column rather than a row)\n",
    "# We drop passenger ID as it is not original data\n",
    "\n",
    "data.drop('PassengerId', inplace=True, axis=1)"
   ]
  },
  {
   "cell_type": "markdown",
   "metadata": {},
   "source": [
    "## Artifically reduce the number of survivors (to make data set more imbalanced)"
   ]
  },
  {
   "cell_type": "code",
   "execution_count": 6,
   "metadata": {},
   "outputs": [
    {
     "name": "stdout",
     "output_type": "stream",
     "text": [
      "Proportion survived: 0.238\n"
     ]
    }
   ],
   "source": [
    "# Shuffle orginal data\n",
    "data = data.sample(frac=1.0) # Sampling with a fraction of 1.0 shuffles data\n",
    "\n",
    "# Create masks for filters\n",
    "mask_died = data['Survived'] == 0\n",
    "mask_survived = data['Survived'] == 1\n",
    "\n",
    "# Filter data\n",
    "died = data[mask_died]\n",
    "survived = data[mask_survived]\n",
    "\n",
    "# Reduce survived by half\n",
    "survived = survived.sample(frac=0.5)\n",
    "\n",
    "# Recombine data and shuffle\n",
    "data = pd.concat([died, survived])\n",
    "data = data.sample(frac=1.0) \n",
    "\n",
    "# Show average of survived\n",
    "survival_rate = data['Survived'].mean()\n",
    "print ('Proportion survived:', np.round(survival_rate,3))"
   ]
  },
  {
   "cell_type": "markdown",
   "metadata": {},
   "source": [
    "## Define function to standardise data"
   ]
  },
  {
   "cell_type": "code",
   "execution_count": 7,
   "metadata": {},
   "outputs": [],
   "source": [
    "def standardise_data(X_train, X_test):\n",
    "    \n",
    "    # Initialise a new scaling object for normalising input data\n",
    "    sc = StandardScaler() \n",
    "\n",
    "    # Set up the scaler just on the training set\n",
    "    sc.fit(X_train)\n",
    "\n",
    "    # Apply the scaler to the training and test sets\n",
    "    train_std=sc.transform(X_train)\n",
    "    test_std=sc.transform(X_test)\n",
    "    \n",
    "    return train_std, test_std"
   ]
  },
  {
   "cell_type": "markdown",
   "metadata": {},
   "source": [
    "## Define function to measure accuracy\n",
    "\n",
    "The following is a function for multiple accuracy measures."
   ]
  },
  {
   "cell_type": "code",
   "execution_count": 8,
   "metadata": {},
   "outputs": [],
   "source": [
    "def calculate_accuracy(observed, predicted):\n",
    "    \n",
    "    \"\"\"\n",
    "    Calculates a range of acuuracy scores from observed and predicted classes.\n",
    "    \n",
    "    Takes two list or NumPy arrays (observed class values, and predicted class \n",
    "    values), and returns a dictionary of results.\n",
    "    \n",
    "     1) observed positive rate: proportion of observed cases that are +ve\n",
    "     2) Predicted positive rate: proportion of predicted cases that are +ve\n",
    "     3) observed negative rate: proportion of observed cases that are -ve\n",
    "     4) Predicted neagtive rate: proportion of predicted cases that are -ve  \n",
    "     5) accuracy: proportion of predicted results that are correct    \n",
    "     6) precision: proportion of predicted +ve that are correct\n",
    "     7) recall: proportion of true +ve correctly identified\n",
    "     8) f1: harmonic mean of precision and recall\n",
    "     9) sensitivity: Same as recall\n",
    "    10) specificity: Proportion of true -ve identified:        \n",
    "    11) positive likelihood: increased probability of true +ve if test +ve\n",
    "    12) negative likelihood: reduced probability of true +ve if test -ve\n",
    "    13) false positive rate: proportion of false +ves in true -ve patients\n",
    "    14) false negative rate: proportion of false -ves in true +ve patients\n",
    "    15) true postive rate: Same as recall\n",
    "    16) true negative rate\n",
    "    17) positive predictive value: chance of true +ve if test +ve\n",
    "    18) negative predictive value: chance of true -ve if test -ve\n",
    "    \n",
    "    \"\"\"\n",
    "    \n",
    "    # Converts list to NumPy arrays\n",
    "    if type(observed) == list:\n",
    "        observed = np.array(observed)\n",
    "    if type(predicted) == list:\n",
    "        predicted = np.array(predicted)\n",
    "    \n",
    "    # Calculate accuracy scores\n",
    "    observed_positives = observed == 1\n",
    "    observed_negatives = observed == 0\n",
    "    predicted_positives = predicted == 1\n",
    "    predicted_negatives = predicted == 0\n",
    "    \n",
    "    true_positives = (predicted_positives == 1) & (observed_positives == 1)\n",
    "    \n",
    "    false_positives = (predicted_positives == 1) & (observed_positives == 0)\n",
    "    \n",
    "    true_negatives = (predicted_negatives == 1) & (observed_negatives == 1)\n",
    "    \n",
    "    accuracy = np.mean(predicted == observed)\n",
    "    \n",
    "    precision = (np.sum(true_positives) /\n",
    "                 (np.sum(true_positives) + np.sum(false_positives)))\n",
    "        \n",
    "    recall = np.sum(true_positives) / np.sum(observed_positives)\n",
    "    \n",
    "    sensitivity = recall\n",
    "    \n",
    "    f1 = 2 * ((precision * recall) / (precision + recall))\n",
    "    \n",
    "    specificity = np.sum(true_negatives) / np.sum(observed_negatives)\n",
    "    \n",
    "    positive_likelihood = sensitivity / (1 - specificity)\n",
    "    \n",
    "    negative_likelihood = (1 - sensitivity) / specificity\n",
    "    \n",
    "    false_postive_rate = 1 - specificity\n",
    "    \n",
    "    false_negative_rate = 1 - sensitivity\n",
    "    \n",
    "    true_postive_rate = sensitivity\n",
    "    \n",
    "    true_negative_rate = specificity\n",
    "    \n",
    "    positive_predictive_value = (np.sum(true_positives) / \n",
    "                                 np.sum(observed_positives))\n",
    "    \n",
    "    negative_predicitive_value = (np.sum(true_negatives) / \n",
    "                                  np.sum(observed_positives))\n",
    "    \n",
    "    # Create dictionary for results, and add results\n",
    "    results = dict()\n",
    "    \n",
    "    results['observed_positive_rate'] = np.mean(observed_positives)\n",
    "    results['observed_negative_rate'] = np.mean(observed_negatives)\n",
    "    results['predicted_positive_rate'] = np.mean(predicted_positives)\n",
    "    results['predicted_negative_rate'] = np.mean(predicted_negatives)\n",
    "    results['accuracy'] = accuracy\n",
    "    results['precision'] = precision\n",
    "    results['recall'] = recall\n",
    "    results['f1'] = f1\n",
    "    results['sensivity'] = sensitivity\n",
    "    results['specificity'] = specificity\n",
    "    results['positive_likelihood'] = positive_likelihood\n",
    "    results['negative_likelihood'] = negative_likelihood\n",
    "    results['false_postive_rate'] = false_postive_rate\n",
    "    results['false_negative_rate'] = false_negative_rate\n",
    "    results['true_postive_rate'] = true_postive_rate\n",
    "    results['true_negative_rate'] = true_negative_rate\n",
    "    results['positive_predictive_value'] = positive_predictive_value\n",
    "    results['negative_predicitive_value'] = negative_predicitive_value\n",
    "    \n",
    "    return results"
   ]
  },
  {
   "cell_type": "markdown",
   "metadata": {},
   "source": [
    "## Divide into X (features) and y (lables)\n",
    "\n",
    "We will separate out our features (the data we use to make a prediction) from our label (what we are truing to predict).\n",
    "By convention our features are called `X` (usually upper case to denote multiple features), and the label (survvive or not) `y`."
   ]
  },
  {
   "cell_type": "code",
   "execution_count": 9,
   "metadata": {},
   "outputs": [],
   "source": [
    "X = data.drop('Survived',axis=1) # X = all 'data' except the 'survived' column\n",
    "y = data['Survived'] # y = 'survived' column from 'data'"
   ]
  },
  {
   "cell_type": "markdown",
   "metadata": {},
   "source": [
    "## Set up DataFrame to hold results`"
   ]
  },
  {
   "cell_type": "code",
   "execution_count": 10,
   "metadata": {},
   "outputs": [],
   "source": [
    "results_names = ['accuracy', 'precision', 'recall', 'f1', \n",
    "                 'predicted postive rate', 'observed positive rate']\n",
    "\n",
    "results = pd.DataFrame(index = results_names)"
   ]
  },
  {
   "cell_type": "markdown",
   "metadata": {},
   "source": [
    "## Convert data from Pandas DataFrame to NumPy\n",
    "\n",
    "This is required for k-fold validation.\n",
    "\n",
    "If you are unfamiliar with k-fold validation please see:\n",
    "\n",
    "https://github.com/MichaelAllen1966/1804_python_healthcare/blob/master/titanic/03_k_fold.ipynb"
   ]
  },
  {
   "cell_type": "code",
   "execution_count": 11,
   "metadata": {},
   "outputs": [],
   "source": [
    "# Create NumPy arrays of X and y (required for k-fold)\n",
    "X_np = X.values\n",
    "y_np = y.values"
   ]
  },
  {
   "cell_type": "markdown",
   "metadata": {},
   "source": [
    "## Logistic regression without SMOTE"
   ]
  },
  {
   "cell_type": "code",
   "execution_count": 12,
   "metadata": {},
   "outputs": [
    {
     "name": "stdout",
     "output_type": "stream",
     "text": [
      "                        non_smote\n",
      "accuracy                 0.838889\n",
      "precision                0.714455\n",
      "recall                   0.549346\n",
      "f1                       0.617350\n",
      "predicted postive rate   0.184722\n",
      "observed positive rate   0.237500\n"
     ]
    }
   ],
   "source": [
    "# Set up lists to hold results for each k-fold run\n",
    "replicate_accuracy = []\n",
    "replicate_precision = []\n",
    "replicate_recall = []\n",
    "replicate_f1 = []\n",
    "replicate_predicted_positive_rate = []\n",
    "replicate_observed_positive_rate = []\n",
    "\n",
    "# Set up splits\n",
    "number_of_splits = 10\n",
    "skf = StratifiedKFold(n_splits = number_of_splits)\n",
    "skf.get_n_splits(X, y)\n",
    "\n",
    "# Loop through the k-fold splits\n",
    "for train_index, test_index in skf.split(X_np, y_np):\n",
    "    \n",
    "    # Get X and Y train/test\n",
    "    X_train, X_test = X_np[train_index], X_np[test_index]\n",
    "    y_train, y_test = y_np[train_index], y_np[test_index]\n",
    "    \n",
    "    # Standardise X data\n",
    "    X_train_std, X_test_std = standardise_data(X_train, X_test)\n",
    "    \n",
    "    # Set up and fit model\n",
    "    model = LogisticRegression(solver='lbfgs')\n",
    "    model.fit(X_train_std,y_train)\n",
    "    \n",
    "    # Predict training and test set labels\n",
    "    y_pred_train = model.predict(X_train_std)\n",
    "    y_pred_test = model.predict(X_test_std)\n",
    "    \n",
    "    # Predict test set labels and get accuracy scores\n",
    "    y_pred_test = model.predict(X_test_std)\n",
    "    accuracy_scores = calculate_accuracy(y_test, y_pred_test)\n",
    "    replicate_accuracy.append(accuracy_scores['accuracy'])\n",
    "    replicate_precision.append(accuracy_scores['precision'])\n",
    "    replicate_recall.append(accuracy_scores['recall'])\n",
    "    replicate_f1.append(accuracy_scores['f1'])\n",
    "    replicate_predicted_positive_rate.append(\n",
    "        accuracy_scores['predicted_positive_rate'])\n",
    "    replicate_observed_positive_rate.append(\n",
    "        accuracy_scores['observed_positive_rate'])\n",
    "    \n",
    "# Transfer results to list and add to data frame\n",
    "non_smote_results = [np.mean(replicate_accuracy),\n",
    "                     np.mean(replicate_precision),\n",
    "                     np.mean(replicate_recall),\n",
    "                     np.mean(replicate_f1),\n",
    "                     np.mean(replicate_predicted_positive_rate),\n",
    "                     np.mean(replicate_observed_positive_rate)]\n",
    "\n",
    "results['non_smote'] = non_smote_results\n",
    "\n",
    "print (results)"
   ]
  },
  {
   "cell_type": "markdown",
   "metadata": {},
   "source": [
    "## Logistic regression with SMOTE"
   ]
  },
  {
   "cell_type": "markdown",
   "metadata": {},
   "source": [
    "### Create an array to show which features are categorical\n",
    "In our data set only age and fare are continuoys variables. All the other are categorical - that is they are onw of a list of decrete values.\n",
    "\n",
    "So we shall create a series from feature names, set all of then original to categorical, and then change age and fair to categorical."
   ]
  },
  {
   "cell_type": "code",
   "execution_count": 13,
   "metadata": {},
   "outputs": [
    {
     "name": "stdout",
     "output_type": "stream",
     "text": [
      "Set Age to non-categorical\n",
      "Set Fare to non-categorical\n",
      "Categorical features\n",
      "[ 0  2  3  5  6  7  8  9 10 11 12 13 14 15 16 17 18 19 20 21 22 23]\n"
     ]
    }
   ],
   "source": [
    "# Create an array of ones for all features\n",
    "number_of_features = X.shape[1]\n",
    "categorical_array = np.ones(number_of_features)\n",
    "\n",
    "# Create list of non-categorigcal features\n",
    "non_cat = ['Age','Fare']\n",
    "\n",
    "# Assign non_categorical features in our 'categorical' array\n",
    "features = list(X)\n",
    "for index, feature in enumerate(features):\n",
    "    if feature in non_cat:\n",
    "        print ('Set {:} to non-categorical'.format(feature))\n",
    "        categorical_array[index] = 0\n",
    " \n",
    "# Get catagorical indices\n",
    "categorical = np.where(categorical_array == 1)[0]\n",
    "\n",
    "# Print our categorical array\n",
    "print ('Categorical features')\n",
    "print (categorical)"
   ]
  },
  {
   "cell_type": "markdown",
   "metadata": {},
   "source": [
    "### Logistic regression model with SMOTE"
   ]
  },
  {
   "cell_type": "markdown",
   "metadata": {},
   "source": [
    "Convert X & y to NumPy arrays (required for k-fold stratification)"
   ]
  },
  {
   "cell_type": "code",
   "execution_count": 14,
   "metadata": {},
   "outputs": [],
   "source": [
    "X_np = X.values\n",
    "y_np = y.values"
   ]
  },
  {
   "cell_type": "markdown",
   "metadata": {},
   "source": [
    "Fit logistic regression model (including SMOTE expansion of training set)"
   ]
  },
  {
   "cell_type": "code",
   "execution_count": 15,
   "metadata": {},
   "outputs": [
    {
     "name": "stdout",
     "output_type": "stream",
     "text": [
      "                        non_smote     smote\n",
      "accuracy                 0.838889  0.808333\n",
      "precision                0.714455  0.594184\n",
      "recall                   0.549346  0.678105\n",
      "f1                       0.617350  0.629040\n",
      "predicted postive rate   0.184722  0.276389\n",
      "observed positive rate   0.237500  0.237500\n"
     ]
    }
   ],
   "source": [
    "from imblearn.over_sampling import SMOTENC # Use SMOTE for continuous data\n",
    "\n",
    "# Set up lists to hold results for each k-fold run\n",
    "replicate_accuracy = []\n",
    "replicate_precision = []\n",
    "replicate_recall = []\n",
    "replicate_f1 = []\n",
    "replicate_predicted_positive_rate = []\n",
    "replicate_observed_positive_rate = []\n",
    "\n",
    "# Set up splits\n",
    "number_of_splits = 10\n",
    "skf = StratifiedKFold(n_splits = number_of_splits)\n",
    "skf.get_n_splits(X, y)\n",
    "\n",
    "# Loop through the k-fold splits\n",
    "for train_index, test_index in skf.split(X_np, y_np):\n",
    "    \n",
    "    # Get X and Y train/test\n",
    "    X_train, X_test = X_np[train_index], X_np[test_index]\n",
    "    y_train, y_test = y_np[train_index], y_np[test_index]\n",
    "    \n",
    "    # Create an enhanced data set with SMOTENC\n",
    "    smote_nc = SMOTENC(categorical_features=categorical, random_state=42)\n",
    "    X_resampled, y_resampled = smote_nc.fit_resample(X_train, y_train)\n",
    "    \n",
    "    # Standardise X data\n",
    "    X_train_std, X_test_std = standardise_data(X_resampled, X_test)\n",
    "    \n",
    "    # Set up and fit model\n",
    "    model = LogisticRegression(solver='lbfgs')\n",
    "    model.fit(X_train_std, y_resampled)\n",
    "    \n",
    "    # Predict training and test set labels\n",
    "    y_pred_train = model.predict(X_train_std)\n",
    "    y_pred_test = model.predict(X_test_std)\n",
    "    \n",
    "    # Predict test set labels and get accuracy scores\n",
    "    y_pred_test = model.predict(X_test_std)\n",
    "    accuracy_scores = calculate_accuracy(y_test, y_pred_test)\n",
    "    replicate_accuracy.append(accuracy_scores['accuracy'])\n",
    "    replicate_precision.append(accuracy_scores['precision'])\n",
    "    replicate_recall.append(accuracy_scores['recall'])\n",
    "    replicate_f1.append(accuracy_scores['f1'])\n",
    "    replicate_predicted_positive_rate.append(\n",
    "        accuracy_scores['predicted_positive_rate'])\n",
    "    replicate_observed_positive_rate.append(\n",
    "        accuracy_scores['observed_positive_rate'])\n",
    "    \n",
    "# Transfer results to list and add to data frame\n",
    "non_smote_results = [np.mean(replicate_accuracy),\n",
    "                     np.mean(replicate_precision),\n",
    "                     np.mean(replicate_recall),\n",
    "                     np.mean(replicate_f1),\n",
    "                     np.mean(replicate_predicted_positive_rate),\n",
    "                     np.mean(replicate_observed_positive_rate)]\n",
    "\n",
    "results['smote'] = non_smote_results\n",
    "\n",
    "print (results)"
   ]
  },
  {
   "cell_type": "markdown",
   "metadata": {},
   "source": [
    "## Observations\n",
    "\n",
    "* Accuracy is highest with non-enhanced data\n",
    "* The minority class is under-predicted using non-enhanced data\n",
    "* Using SMOTE increases recall (detection of the minority class, the survivors), but now leads to an over-prediction of survivors.\n",
    "* SMOTE is useful if detection of the minority class is important, but may lead to more false positives.\n",
    "* SMOTE may be fined-tuned by passing a dictionary of the required numbers for each class. This will help to prevent a bias towards the minority class occuring. We demonstrate this below."
   ]
  },
  {
   "cell_type": "markdown",
   "metadata": {},
   "source": [
    "## Fine tuning SMOTE\n",
    "\n",
    "Following on from the observation above that SMOTE may overc-ompensate and lead to over-estimation of the occurance of the minorty class, here we will fine-tune SMOTE by passing a dictionary of values for both the majority class (died), and the minorty class (died). We will fix SMOTE to return 500 passengers who died, and vary the number of passengers who survived."
   ]
  },
  {
   "cell_type": "code",
   "execution_count": 16,
   "metadata": {},
   "outputs": [],
   "source": [
    "### Build a list of alterantive balances of died:survived"
   ]
  },
  {
   "cell_type": "code",
   "execution_count": 17,
   "metadata": {},
   "outputs": [
    {
     "name": "stdout",
     "output_type": "stream",
     "text": [
      "[{0: 500, 1: 150}, {0: 500, 1: 200}, {0: 500, 1: 250}, {0: 500, 1: 300}, {0: 500, 1: 350}, {0: 500, 1: 400}, {0: 500, 1: 450}, {0: 500, 1: 500}]\n"
     ]
    }
   ],
   "source": [
    "smote_alterantive_samples = []\n",
    "survived_sample_sizes = list(range(150, 501, 50))\n",
    "\n",
    "for sample_size in survived_sample_sizes:\n",
    "    smote_input = dict()\n",
    "    smote_input[0] = 500 # always have 500 died passengers in retruened sample\n",
    "    smote_input[1] = sample_size\n",
    "    smote_alterantive_samples.append(smote_input)\n",
    "    \n",
    "# Show resulting list\n",
    "print (smote_alterantive_samples)"
   ]
  },
  {
   "cell_type": "markdown",
   "metadata": {},
   "source": [
    "### Run SMOTE with alternative sampling shemas"
   ]
  },
  {
   "cell_type": "code",
   "execution_count": 18,
   "metadata": {},
   "outputs": [],
   "source": [
    "# Create NumPy arrays of X and y (required for k-fold)\n",
    "X_np = X.values\n",
    "y_np = y.values\n",
    "\n",
    "# Create lists for overall results\n",
    "\n",
    "results_accuracy = []\n",
    "results_precision = []\n",
    "results_recall = []\n",
    "results_f1 = []\n",
    "results_predicted_positive_rate = []\n",
    "results_observed_positive_rate = []\n",
    "\n",
    "# Loop through list of alternative SMOTE sample sizes\n",
    "\n",
    "for sample_dict in smote_alterantive_samples:\n",
    "    \n",
    "    # Create lists for k-fold results\n",
    "    kfold_accuracy = []\n",
    "    kfold_precision = []\n",
    "    kfold_recall = []\n",
    "    kfold_f1 = []\n",
    "    kfold_predicted_positive_rate = []\n",
    "    kfold_observed_positive_rate = []\n",
    "    \n",
    "    # Set up k-fold training/test splits\n",
    "    number_of_splits = 5\n",
    "    skf = StratifiedKFold(n_splits = number_of_splits)\n",
    "    skf.get_n_splits(X_np, y_np)\n",
    "    \n",
    "    # Loop through the k-fold splits\n",
    "    for train_index, test_index in skf.split(X_np, y_np):\n",
    "\n",
    "        # Get X and Y train/test\n",
    "        X_train, X_test = X_np[train_index], X_np[test_index]\n",
    "        y_train, y_test = y_np[train_index], y_np[test_index]\n",
    "\n",
    "        # Get X and Y train/test\n",
    "        X_train_std, X_test_std = standardise_data(X_train, X_test)\n",
    "        \n",
    "        # Create an enhanced data set with SMOTENC\n",
    "        smote_nc = SMOTENC(categorical_features=categorical, \n",
    "                           sampling_strategy=sample_dict,\n",
    "                           random_state=42)\n",
    "        X_resampled, y_resampled = smote_nc.fit_resample(X_train, y_train)\n",
    "\n",
    "        # Standardise X data\n",
    "        X_train_std, X_test_std = standardise_data(X_resampled, X_test)\n",
    "\n",
    "        # Set up and fit model\n",
    "        model = LogisticRegression(solver='lbfgs')\n",
    "        model.fit(X_train_std, y_resampled)\n",
    " \n",
    "        # Predict test set labels and get accuracy scores\n",
    "        y_pred_test = model.predict(X_test_std)\n",
    "        accuracy_scores = calculate_accuracy(y_test, y_pred_test)\n",
    "        kfold_accuracy.append(accuracy_scores['accuracy'])\n",
    "        kfold_precision.append(accuracy_scores['precision'])\n",
    "        kfold_recall.append(accuracy_scores['recall'])\n",
    "        kfold_f1.append(accuracy_scores['f1'])\n",
    "        kfold_predicted_positive_rate.append(\n",
    "            accuracy_scores['predicted_positive_rate'])\n",
    "        kfold_observed_positive_rate.append(\n",
    "            accuracy_scores['observed_positive_rate'])\n",
    "                        \n",
    "    # Add mean results to overall results\n",
    "    results_accuracy.append(np.mean(kfold_accuracy))\n",
    "    results_precision.append(np.mean(kfold_precision))\n",
    "    results_recall.append(np.mean(kfold_recall))\n",
    "    results_f1.append(np.mean(kfold_f1))\n",
    "    results_predicted_positive_rate.append(\n",
    "        np.mean(kfold_predicted_positive_rate))\n",
    "    results_observed_positive_rate.append(\n",
    "        np.mean(kfold_observed_positive_rate))\n",
    "\n",
    "# Transfer results to dataframe\n",
    "results = pd.DataFrame(survived_sample_sizes, columns=['sample_size'])\n",
    "results['accuracy'] = results_accuracy\n",
    "results['precision'] = results_precision\n",
    "results['recall'] = results_recall\n",
    "results['f1'] = results_f1\n",
    "results['predicted_positive_rate'] = results_predicted_positive_rate\n",
    "results['observed_positive_rate'] = results_observed_positive_rate"
   ]
  },
  {
   "cell_type": "code",
   "execution_count": 19,
   "metadata": {},
   "outputs": [
    {
     "data": {
      "text/html": [
       "<div>\n",
       "<style scoped>\n",
       "    .dataframe tbody tr th:only-of-type {\n",
       "        vertical-align: middle;\n",
       "    }\n",
       "\n",
       "    .dataframe tbody tr th {\n",
       "        vertical-align: top;\n",
       "    }\n",
       "\n",
       "    .dataframe thead th {\n",
       "        text-align: right;\n",
       "    }\n",
       "</style>\n",
       "<table border=\"1\" class=\"dataframe\">\n",
       "  <thead>\n",
       "    <tr style=\"text-align: right;\">\n",
       "      <th></th>\n",
       "      <th>sample_size</th>\n",
       "      <th>accuracy</th>\n",
       "      <th>precision</th>\n",
       "      <th>recall</th>\n",
       "      <th>f1</th>\n",
       "      <th>predicted_positive_rate</th>\n",
       "      <th>observed_positive_rate</th>\n",
       "    </tr>\n",
       "  </thead>\n",
       "  <tbody>\n",
       "    <tr>\n",
       "      <td>0</td>\n",
       "      <td>150</td>\n",
       "      <td>0.836111</td>\n",
       "      <td>0.705505</td>\n",
       "      <td>0.543193</td>\n",
       "      <td>0.612357</td>\n",
       "      <td>0.184722</td>\n",
       "      <td>0.2375</td>\n",
       "    </tr>\n",
       "    <tr>\n",
       "      <td>1</td>\n",
       "      <td>200</td>\n",
       "      <td>0.827778</td>\n",
       "      <td>0.653624</td>\n",
       "      <td>0.607563</td>\n",
       "      <td>0.627437</td>\n",
       "      <td>0.223611</td>\n",
       "      <td>0.2375</td>\n",
       "    </tr>\n",
       "    <tr>\n",
       "      <td>2</td>\n",
       "      <td>250</td>\n",
       "      <td>0.829167</td>\n",
       "      <td>0.645079</td>\n",
       "      <td>0.642857</td>\n",
       "      <td>0.642970</td>\n",
       "      <td>0.238889</td>\n",
       "      <td>0.2375</td>\n",
       "    </tr>\n",
       "    <tr>\n",
       "      <td>3</td>\n",
       "      <td>300</td>\n",
       "      <td>0.822222</td>\n",
       "      <td>0.626514</td>\n",
       "      <td>0.660504</td>\n",
       "      <td>0.641302</td>\n",
       "      <td>0.254167</td>\n",
       "      <td>0.2375</td>\n",
       "    </tr>\n",
       "    <tr>\n",
       "      <td>4</td>\n",
       "      <td>350</td>\n",
       "      <td>0.816667</td>\n",
       "      <td>0.616872</td>\n",
       "      <td>0.660504</td>\n",
       "      <td>0.635238</td>\n",
       "      <td>0.259722</td>\n",
       "      <td>0.2375</td>\n",
       "    </tr>\n",
       "    <tr>\n",
       "      <td>5</td>\n",
       "      <td>400</td>\n",
       "      <td>0.815278</td>\n",
       "      <td>0.608752</td>\n",
       "      <td>0.678151</td>\n",
       "      <td>0.639167</td>\n",
       "      <td>0.269444</td>\n",
       "      <td>0.2375</td>\n",
       "    </tr>\n",
       "    <tr>\n",
       "      <td>6</td>\n",
       "      <td>450</td>\n",
       "      <td>0.811111</td>\n",
       "      <td>0.599173</td>\n",
       "      <td>0.672269</td>\n",
       "      <td>0.631409</td>\n",
       "      <td>0.270833</td>\n",
       "      <td>0.2375</td>\n",
       "    </tr>\n",
       "    <tr>\n",
       "      <td>7</td>\n",
       "      <td>500</td>\n",
       "      <td>0.811111</td>\n",
       "      <td>0.597523</td>\n",
       "      <td>0.678151</td>\n",
       "      <td>0.633076</td>\n",
       "      <td>0.273611</td>\n",
       "      <td>0.2375</td>\n",
       "    </tr>\n",
       "  </tbody>\n",
       "</table>\n",
       "</div>"
      ],
      "text/plain": [
       "   sample_size  accuracy  precision    recall        f1  \\\n",
       "0          150  0.836111   0.705505  0.543193  0.612357   \n",
       "1          200  0.827778   0.653624  0.607563  0.627437   \n",
       "2          250  0.829167   0.645079  0.642857  0.642970   \n",
       "3          300  0.822222   0.626514  0.660504  0.641302   \n",
       "4          350  0.816667   0.616872  0.660504  0.635238   \n",
       "5          400  0.815278   0.608752  0.678151  0.639167   \n",
       "6          450  0.811111   0.599173  0.672269  0.631409   \n",
       "7          500  0.811111   0.597523  0.678151  0.633076   \n",
       "\n",
       "   predicted_positive_rate  observed_positive_rate  \n",
       "0                 0.184722                  0.2375  \n",
       "1                 0.223611                  0.2375  \n",
       "2                 0.238889                  0.2375  \n",
       "3                 0.254167                  0.2375  \n",
       "4                 0.259722                  0.2375  \n",
       "5                 0.269444                  0.2375  \n",
       "6                 0.270833                  0.2375  \n",
       "7                 0.273611                  0.2375  "
      ]
     },
     "execution_count": 19,
     "metadata": {},
     "output_type": "execute_result"
    }
   ],
   "source": [
    "results"
   ]
  },
  {
   "cell_type": "markdown",
   "metadata": {},
   "source": [
    "### Plot results"
   ]
  },
  {
   "cell_type": "code",
   "execution_count": 20,
   "metadata": {},
   "outputs": [
    {
     "data": {
      "image/png": "[encoded data removed]",
      "text/plain": [
       "<Figure size 432x288 with 1 Axes>"
      ]
     },
     "metadata": {
      "needs_background": "light"
     },
     "output_type": "display_data"
    }
   ],
   "source": [
    "import matplotlib.pyplot as plt\n",
    "%matplotlib inline\n",
    "\n",
    "chart_x = results['sample_size']\n",
    "\n",
    "plt.plot(chart_x, results['accuracy'],\n",
    "         linestyle = '-',\n",
    "         label = 'Accuracy')\n",
    "\n",
    "plt.plot(chart_x, results['precision'],\n",
    "         linestyle = '--',\n",
    "         label = 'Precision')\n",
    "\n",
    "plt.plot(chart_x, results['recall'],\n",
    "         linestyle = '-.',\n",
    "         label = 'Recall')\n",
    "\n",
    "plt.plot(chart_x, results['f1'],\n",
    "         linestyle = ':',\n",
    "         label = 'F1')\n",
    "\n",
    "plt.plot(chart_x, results['predicted_positive_rate'],\n",
    "         linestyle = '-',\n",
    "         label = 'Predicted positive rate')\n",
    "\n",
    "plt.plot(chart_x, results['observed_positive_rate'],\n",
    "         linestyle = '--',\n",
    "         color='k',\n",
    "         label = 'Observed positive rate')\n",
    "\n",
    "\n",
    "plt.xlabel('SMOTE minority sampel size')\n",
    "plt.ylabel('Score')\n",
    "plt.ylim(-0.02, 1.02)\n",
    "plt.legend(loc='lower right')\n",
    "plt.grid(True)\n",
    "\n",
    "plt.show()"
   ]
  },
  {
   "cell_type": "markdown",
   "metadata": {},
   "source": [
    "From the above we can see that we can adjust the SMOTE enhancement to return 240 minority class ('survived') samples in order to balance precision and recall, and to create a model that correctly predicts the proportion of passengers surviving."
   ]
  }
 ],
 "metadata": {
  "kernelspec": {
   "display_name": "Python 3",
   "language": "python",
   "name": "python3"
  },
  "language_info": {
   "codemirror_mode": {
    "name": "ipython",
    "version": 3
   },
   "file_extension": ".py",
   "mimetype": "text/x-python",
   "name": "python",
   "nbconvert_exporter": "python",
   "pygments_lexer": "ipython3",
   "version": "3.7.4"
  }
 },
 "nbformat": 4,
 "nbformat_minor": 4
}
